{
 "cells": [
  {
   "cell_type": "markdown",
   "metadata": {},
   "source": [
    "<div style=\"direction:rtl\">\n",
    "<H1>\n",
    "השתלמות בחישובים נומריים למורי פיסיקה חקר\n",
    "</H1>\n",
    "<H3>\n",
    "יחידה 3, שימוש בנתונים ממקור חיצוני\n",
    "</H3>\n",
    "\n",
    "<H2>\n",
    "עבודה עם נתוני ניסוי\n",
    "</H2>\n",
    "\n",
    "אחד השימושים הבולטים ב-jupyter notebook הוא לצורך צפייה עיבוד וניתוח של מדידות מניסויים שונים.\n",
    "לצורך כך עלינו ראשית להציב למשתנים את סדרות הערכים שנמדדו.\n",
    "ביחידה זו נלמד מספר דרכים לייבוא נתונים ממקורות שונים ובפרט נתונים מתוכנת \n",
    "<a href=\"http://physlets.org/tracker/\">\n",
    "הטראקר\n",
    "(Tracker) \n",
    "</a>\n",
    " ומטבלאות אקסל.\n",
    "\n",
    "<h3>\n",
    "שיטה 1. העתקה ישירה של הנתונים כטקסט\n",
    "</h3>\n",
    "השיטה הפשוטה ביותר לייבוא נתונים היא באמצעות העתקה והדבקה (copy-paste) של הנתונים, טור אחר טור, ישירות לתא קוד.\n",
    "לדוגמא, הטור הבא מכיל נתוני דמה  של ערכי הזמן מניסוי.\n",
    "אם נעתיק את טור נתוני הזמן (באמצעות צירוף המקשים ctrl+c) ונדביק אותו בתא קוד, נקבל ישירות את רשימת המספרים, כפי שניתן לראות בתא הקוד הבא.\n",
    "</div>\n",
    "\n",
    "| T   |\n",
    "| ----|\n",
    "| 0.1 |\n",
    "| 0.2 |\n",
    "| 0.3 |\n",
    "| 0.4 |\n"
   ]
  },
  {
   "cell_type": "code",
   "execution_count": null,
   "metadata": {
    "collapsed": true
   },
   "outputs": [],
   "source": [
    "0.1\n",
    "0.2\n",
    "0.3\n",
    "0.4\n"
   ]
  },
  {
   "cell_type": "markdown",
   "metadata": {},
   "source": [
    "<div style=\"direction:rtl\">\n",
    "על מנת להכניס רשימת ערכים זו כסדרה למשתנה עלינו להשלים את הקוד כפי שמופיע בתא הקוד הבא.\n",
    "שימו לב שיש להוסיף סימן פסיק (,) לאחר כל ערך מספרי למעט האחרון בסדרה.\n",
    "ניתן גם לרשום את כל המספרים בשורה על מנת לצמצם את מספר שורות הקוד בתא.\n",
    "<br>\n",
    "הפקודה ()array נועדה לציין עבור פייתון שמדובר במשתנה מסוג סדרה שכן ברירת המחדל לאחסון מספר ערכים היא רשימה, ולא סדרה.\n",
    "ההבדל בין סדרה לרשימה הוא שרשימה יכולה להכיל ערכים שאינם בהכרח מספרים, ולכן לא ניתן לבצע פעולות חשבון על רשימות.\n",
    "סדרה מכילה תמיד רק מספרים, ולכן ניתן לבצע עליה פעולות חשבון.\n",
    "</div>"
   ]
  },
  {
   "cell_type": "code",
   "execution_count": 4,
   "metadata": {
    "collapsed": false
   },
   "outputs": [
    {
     "name": "stdout",
     "output_type": "stream",
     "text": [
      "Using matplotlib backend: Qt4Agg\n",
      "Populating the interactive namespace from numpy and matplotlib\n",
      "[ 0.1  0.2  0.3  0.4]\n"
     ]
    }
   ],
   "source": [
    "%pylab\n",
    "t=array([     \n",
    "0.1,\n",
    "0.2,\n",
    "0.3,\n",
    "0.4\n",
    "])\n",
    "print(t)"
   ]
  },
  {
   "cell_type": "markdown",
   "metadata": {},
   "source": [
    "<div style=\"direction:rtl\">\n",
    "<h4>\n",
    "משימה 1\n",
    "</h4>\n",
    "צרו בתא הקוד הבא משתנה חדש בשם x והציבו לתוכו את סדרת המספרים המופיעה בטור הבא.\n",
    "שרטטו גרף נקודות של x כנגד t (המשתנה t הוא המשתנה שמוגדר בתא הקוד הקודם. שימו לב שיש להריץ את תא הקוד הקודם לפני תא הקוד הבא על מנת שפייתון יזהה את המשתנה t).\n",
    "</div>\n",
    "\n",
    "| X |\n",
    "| -- |\n",
    "| 10 |\n",
    "| 15 |\n",
    "| 25 |\n",
    "| 40 |\n"
   ]
  },
  {
   "cell_type": "code",
   "execution_count": null,
   "metadata": {
    "collapsed": true
   },
   "outputs": [],
   "source": []
  },
  {
   "cell_type": "markdown",
   "metadata": {},
   "source": [
    "<div style=\"direction:rtl\">\n",
    "ברור ששיטת יבוא נתונים זו אינה יעילה כאשר ברשותנו טורים רבים של נתונים בטבלא, או טבלא בעלת שורות רבות.\n",
    "כאשר עלינו לייבא נתונים כאלו, אנו יכולים להשתמש בספריית עיבוד הנתונים של פייתון הקרויה pandas.\n",
    "<br>\n",
    "<h3>\n",
    "שיטה 2. טעינת הנתונים מקובץ\n",
    "</h3>\n",
    "על מנת להשתמש בספרייה עלינו ראשית להורות לפייתון לטעון אותה כפי שמבוצע בשורת הקוד הבאה:\n",
    "</div>"
   ]
  },
  {
   "cell_type": "code",
   "execution_count": 6,
   "metadata": {
    "collapsed": true
   },
   "outputs": [],
   "source": [
    "from pandas import *"
   ]
  },
  {
   "cell_type": "markdown",
   "metadata": {},
   "source": [
    "<div style=\"direction:rtl\">\n",
    "ספריית pandas מכילה פקודות לטעינת קבצים מסוג csv או קבצים מתוכנת אקסל.\n",
    "על מנת ליצור קובץ כזה באמצעות תוכנת Tracker עליכם לבצע את הפעולות הבאות:\n",
    "<ul>\n",
    "<li>\n",
    "פתחו את תוכנת ה-Tracker.\n",
    "</li>\n",
    "<li>\n",
    "פתחו את הקובץ המכיל את הסרט שברצונכם לעבד.\n",
    "אנו העלנו סרטון לדוגמא\n",
    "<a href=\"https://anaconda.org/explorephysics/data-1/1/download/BallTossOut.mov\">\n",
    "בקישור הזה\n",
    "</a>\n",
    ".\n",
    "</li>\n",
    "<li>\n",
    "צרו אובייקט חדש לעקיבה על ידי הקלקה על כפתור Create.\n",
    "</li>\n",
    "<li>\n",
    "התקדמו בסרט עד לנקודה החל ממנה אתם מעוניינים לעקוב אחרי האובייקט באמצעות החיצים המופיעים מתחת לאזור התצוגה של הסרט.\n",
    "</li>\n",
    "<li>\n",
    "סמנו את מיקום האובייקט על ידי לחיצה על מקש shift (אז תשתנה צורת הסמן של העכבר) ואז הקלקה על מרכז המסה של האובייקט.\n",
    "</li>\n",
    "<li>\n",
    "בכל פעם שתקליקו התוכנה תסמן את מיקום האובייקט ותתקדם אוטומטית לפריים הבא בסרט, אז עליכם לסמן שוב את מיקום האובייקט, עד לנקודת הזמן בה אתם מעוניינים לסיים.\n",
    "</li>\n",
    "<li>\n",
    "כעת תופיע בפינה הימנית התחתונה של חלון התוכנה טבלא המציגה את ערכי הזמן והמיקום בצירים x ו-y של האובייקט.\n",
    "</li>\n",
    "<li>\n",
    "בחרו בתפריט File באפשרות Export ואז Data file.\n",
    "</li>\n",
    "<li>\n",
    "בשדה Delimiter וודאו כי הבחירה היא Comma.\n",
    "</li>\n",
    "<li>\n",
    "הקישו Save As ושמרו את הקובץ לספרייה בה אתם שומרים את מסמכי jupyter notebook.\n",
    "</li>\n",
    "</ul>\n",
    "\n",
    "<a href=\"https://anaconda.org/explorephysics/data-1/1/download/ball.csv\">\n",
    "בקישור הזה\n",
    "</a>\n",
    "מצוי קובץ שנוצר בשיטה זו. אם לא ייצרתם קובץ נתונים בעצמכם, הורידו קובץ זה ושמרו אותו לספרייה בה אתם שומרים את מסמכי ה-jupyter notebook.\n",
    "<br>\n",
    "אנו קראנו לקובץ שנוצר ball.csv.\n",
    "אתם יכולים לפתוח קובץ זה באמצעות תוכנת notepad על מנת לצפות בתוכנו.\n",
    "<br>\n",
    "קטע הקוד הבא טוען את הקובץ למשתנה בשם ball באמצעות הפקודה read_csv.\n",
    "הפרמטר header=1 מציין שעל pandas להתעלם מהשורה הראשונה בקובץ (היא שורה מספר 0) שכן תוכנת ה-Tracker שומרת בשורה זו את שם האובייקט עליו בוצעה העקיבה (במקרה שלנו mass_A).\n",
    "תיאור מלא של אפשרויות השימוש בפקודה read_csv מצוי\n",
    "<a href=\"http://pandas.pydata.org/pandas-docs/stable/generated/pandas.read_csv.html\">\n",
    "בקישור הזה\n",
    "</a>\n",
    ".\n",
    "לאחר הטעינה הקוד מדפיס את האובייקט שנקרא.\n",
    "הריצו את הקוד כעת.\n",
    "</div>"
   ]
  },
  {
   "cell_type": "code",
   "execution_count": 8,
   "metadata": {
    "collapsed": false
   },
   "outputs": [
    {
     "name": "stdout",
     "output_type": "stream",
     "text": [
      "           t           x           y\n",
      "0   0.346667 -188.882521   32.550143\n",
      "1   0.380000 -165.959885   61.891117\n",
      "2   0.413333 -143.037249   85.730659\n",
      "3   0.446667 -119.197708  105.902579\n",
      "4   0.480000  -97.191977  120.573066\n",
      "5   0.513333  -75.186246  131.575931\n",
      "6   0.546667  -53.180516  139.828080\n",
      "7   0.580000  -28.424069  142.578797\n",
      "8   0.613333   -7.335244  139.828080\n",
      "9   0.646667   16.504298  133.409742\n",
      "10  0.680000   38.510029  122.406877\n",
      "11  0.713333   63.266476  108.653295\n",
      "12  0.746667   84.355301   90.315186\n",
      "13  0.780000  108.194842   66.475645\n",
      "14  0.813333  131.117479   38.051576\n",
      "15  0.846667  154.957020    2.292264\n",
      "16  0.880000  177.879656  -32.550143\n",
      "17  0.913333  202.636103  -75.644699\n",
      "18  0.946667  225.558739 -121.489971\n",
      "19  0.980000  249.398281 -174.670487\n"
     ]
    }
   ],
   "source": [
    "ball=read_csv('ball.csv',header=1)\n",
    "print(ball)"
   ]
  },
  {
   "cell_type": "markdown",
   "metadata": {},
   "source": [
    "<div style=\"direction:rtl\">\n",
    "על מנת להציב טורים שונים מהטבלא לסדרות מספרים עלינו לבצע את הקוד הבא:\n",
    "</div>"
   ]
  },
  {
   "cell_type": "code",
   "execution_count": 15,
   "metadata": {
    "collapsed": false
   },
   "outputs": [
    {
     "name": "stdout",
     "output_type": "stream",
     "text": [
      "[ 0.34666667  0.38        0.41333333  0.44666667  0.48        0.51333333\n",
      "  0.54666667  0.58        0.61333333  0.64666667  0.68        0.71333333\n",
      "  0.74666667  0.78        0.81333333  0.84666667  0.88        0.91333333\n",
      "  0.94666667  0.98      ]\n"
     ]
    }
   ],
   "source": [
    "time=array(ball['t'])\n",
    "print(time)"
   ]
  },
  {
   "cell_type": "markdown",
   "metadata": {},
   "source": [
    "<div style=\"direction:rtl\">\n",
    "בקוד זה בחירת הטור מתוך הטבלא ball שיוצב למשתנה time מבוצעת על ידי הסימן ['t'].\n",
    "ניתן לבחור כך בכל אחד מהטורים של ball.\n",
    "<br>\n",
    "בקטע הקוד הבא אנו מציבים את הערכים המופיעים בטור 'x' בטבלא ball לתוך משתנה בשם xpos.\n",
    "לאחר מכן אנו משרטטים גרף נקודות של המיקום בציר ה-x כתלות בזמן.\n",
    "<h4>\n",
    "משימה 2\n",
    "</h4>\n",
    "הציבו את טור y למשתנה בשם ypos.\n",
    "שרטטו גרף של מיקום הגוף בציר ה-y כתלות בזמן.\n",
    "</div>"
   ]
  },
  {
   "cell_type": "code",
   "execution_count": 16,
   "metadata": {
    "collapsed": false
   },
   "outputs": [
    {
     "name": "stdout",
     "output_type": "stream",
     "text": [
      "Populating the interactive namespace from numpy and matplotlib\n"
     ]
    },
    {
     "data": {
      "text/plain": [
       "[<matplotlib.lines.Line2D at 0x7fbe904eb470>]"
      ]
     },
     "execution_count": 16,
     "metadata": {},
     "output_type": "execute_result"
    },
    {
     "data": {
      "image/png": "[encoded data removed]",
      "text/plain": [
       "<matplotlib.figure.Figure at 0x7fbe91081a58>"
      ]
     },
     "metadata": {},
     "output_type": "display_data"
    }
   ],
   "source": [
    "%pylab inline\n",
    "xpos=array(ball['x'])\n",
    "plot(time,xpos,'.')"
   ]
  },
  {
   "cell_type": "markdown",
   "metadata": {},
   "source": [
    "<div style=\"direction:rtl\">\n",
    "<h3>\n",
    "ייבוא נתונים מקבצי אקסל\n",
    "</h3>\n",
    "קיימות שתי אפשרויות לייבא טבלאות מקבצי אקסל.\n",
    "<ol>\n",
    "<li>\n",
    "לייצא את הטבלא מתוכנת האקסל לקובץ csv ולהשתמש באותה השיטה בה עשינו שימוש לעיל.\n",
    "במקרה זה יש לקבוע את הפרמטר header כך שיורה לפקודה read_csv מהי השורה בקובץ המכילה את כותרות התאים.\n",
    "<br>\n",
    "יש לוודא בעת שמירת הקובץ באקסל שהשדות השונים מופרדים באמצעות פסיקים ולא באמצעות תו אחר.\n",
    "ניתן לצפות בקובץ שנוצר באמצעות notepad על מנת לוודא שתוכנו תואם לציפיות.\n",
    "</li>\n",
    "<li>\n",
    "ספריית pandas מכילה פונקציה בשם read_excel אשר מאפשרת קריאה ישירה של קבצי אקסל.\n",
    "פקודה זו מקבלת את שם הקובץ, ומאפשרת קריאה של חלק מוגדר מתוך הקובץ (גליון מסוים, טווח שורות מסוים וכו').\n",
    "תאור מלא של אפשרויות השימוש בפקודה זו מצוי\n",
    "<a href=\"http://pandas.pydata.org/pandas-docs/stable/generated/pandas.read_excel.html\">\n",
    "בקישור הזה\n",
    "</a>\n",
    ".\n",
    "</li>\n",
    "</ol>\n",
    "</div>"
   ]
  },
  {
   "cell_type": "code",
   "execution_count": null,
   "metadata": {
    "collapsed": true
   },
   "outputs": [],
   "source": []
  }
 ],
 "metadata": {
  "kernelspec": {
   "display_name": "Python 3",
   "language": "python",
   "name": "python3"
  },
  "language_info": {
   "codemirror_mode": {
    "name": "ipython",
    "version": 3
   },
   "file_extension": ".py",
   "mimetype": "text/x-python",
   "name": "python",
   "nbconvert_exporter": "python",
   "pygments_lexer": "ipython3",
   "version": "3.5.1"
  }
 },
 "nbformat": 4,
 "nbformat_minor": 0
}
