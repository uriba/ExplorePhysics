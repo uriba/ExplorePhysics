{
 "cells": [
  {
   "cell_type": "markdown",
   "metadata": {},
   "source": [
    "<div style=\"direction:rtl\">\n",
    "<H1>\n",
    "השתלמות בחישובים נומריים למורי פיסיקה חקר\n",
    "</H1>\n",
    "<H3>\n",
    "יחידה 3, שימוש בנתונים ממקור חיצוני\n",
    "</H3>\n",
    "\n",
    "<H2>\n",
    "עבודה עם נתוני ניסוי\n",
    "</H2>\n",
    "\n",
    "אחד השימושים הבולטים ב-jupyter notebook הוא לצורך צפייה עיבוד וניתוח של מדידות מניסויים שונים.\n",
    "לצורך כך עלינו ראשית להציב למשתנים את סדרות הערכים שנמדדו.\n",
    "ביחידה זו נלמד מספר דרכים לייבוא נתונים ממקורות שונים ובפרט נתונים מתוכנת \n",
    "<a href=\"http://physlets.org/tracker/\">\n",
    "הטראקר\n",
    "(Tracker) \n",
    "</a>\n",
    " ומטבלאות אקסל.\n",
    "<br>\n",
    "ראשית נטען את ההרחבה pylab% (כרגיל, לצורך הצגת הגרפים בגוף המסמך נשתמש באפשרות inline. אם אתם מפעילים את המסמך דרך jupyter notebook ממחשבכם האישי, מומלץ להשמיט את הוראת ה-inline).\n",
    "<br>\n",
    "הריצו תא קוד זה כעת.\n",
    "</div>"
   ]
  },
  {
   "cell_type": "code",
   "execution_count": null,
   "metadata": {
    "collapsed": false
   },
   "outputs": [],
   "source": [
    "%pylab inline"
   ]
  },
  {
   "cell_type": "markdown",
   "metadata": {},
   "source": [
    "<div style=\"direction:rtl\">\n",
    "<h3>\n",
    "שיטה 1. העתקה ישירה של הנתונים כטקסט\n",
    "</h3>\n",
    "השיטה הפשוטה ביותר לייבוא נתונים היא באמצעות העתקה והדבקה (copy-paste) של הנתונים, טור אחר טור, ישירות לתא קוד.\n",
    "לדוגמא, הטור הבא מכיל נתוני דמה  של ערכי הזמן מניסוי.\n",
    "אם נעתיק את טור נתוני הזמן (באמצעות צירוף המקשים ctrl+c) ונדביק אותו בתא קוד, נקבל ישירות את רשימת המספרים, כפי שניתן לראות בתא הקוד הבא.\n",
    "</div>\n",
    "\n",
    "| T   |\n",
    "| ----|\n",
    "| 0.1 |\n",
    "| 0.2 |\n",
    "| 0.3 |\n",
    "| 0.4 |\n"
   ]
  },
  {
   "cell_type": "code",
   "execution_count": null,
   "metadata": {
    "collapsed": true
   },
   "outputs": [],
   "source": [
    "0.1\n",
    "0.2\n",
    "0.3\n",
    "0.4\n"
   ]
  },
  {
   "cell_type": "markdown",
   "metadata": {},
   "source": [
    "<div style=\"direction:rtl\">\n",
    "על מנת להכניס רשימת ערכים זו כסדרה למשתנה עלינו להשלים את הקוד כפי שמופיע בתא הקוד הבא.\n",
    "שימו לב שיש להוסיף סימן פסיק (,) לאחר כל ערך מספרי למעט האחרון בסדרה.\n",
    "ניתן גם לרשום את כל המספרים בשורה על מנת לצמצם את מספר שורות הקוד בתא.\n",
    "הריצו את תא הקוד והמשיכו לקרוא.\n",
    "</div>"
   ]
  },
  {
   "cell_type": "code",
   "execution_count": null,
   "metadata": {
    "collapsed": false
   },
   "outputs": [],
   "source": [
    "t=array([     \n",
    "0.1,\n",
    "0.2,\n",
    "0.3,\n",
    "0.4\n",
    "])\n",
    "print(t)"
   ]
  },
  {
   "cell_type": "markdown",
   "metadata": {},
   "source": [
    "<div style=\"direction:rtl\">\n",
    "הפקודה ()array נועדה לציין עבור פייתון שמדובר במשתנה מסוג סדרה שכן ברירת המחדל לאחסון מספר ערכים היא רשימה, ולא סדרה.\n",
    "ההבדל בין סדרה לרשימה הוא שרשימה יכולה להכיל ערכים שאינם בהכרח מספרים, ולכן לא ניתן לבצע פעולות חשבון על רשימות.\n",
    "סדרה מכילה תמיד רק מספרים, ולכן ניתן לבצע עליה פעולות חשבון.\n",
    "<h4>\n",
    "משימה 1\n",
    "</h4>\n",
    "צרו בתא הקוד הבא משתנה חדש בשם x והציבו לתוכו את סדרת המספרים המופיעה בטור הבא.\n",
    "שרטטו גרף נקודות של x כנגד t (המשתנה t הוא המשתנה שמוגדר בתא הקוד הקודם. שימו לב שיש להריץ את תא הקוד הקודם לפני תא הקוד הבא על מנת שפייתון יזהה את המשתנה t).\n",
    "</div>\n",
    "\n",
    "| X |\n",
    "| -- |\n",
    "| 10 |\n",
    "| 15 |\n",
    "| 25 |\n",
    "| 40 |\n"
   ]
  },
  {
   "cell_type": "code",
   "execution_count": null,
   "metadata": {
    "collapsed": true
   },
   "outputs": [],
   "source": []
  },
  {
   "cell_type": "markdown",
   "metadata": {},
   "source": [
    "<div style=\"direction:rtl\">\n",
    "ברור ששיטת יבוא נתונים זו אינה יעילה כאשר ברשותנו טורים רבים של נתונים בטבלא, או טבלא בעלת שורות רבות.\n",
    "כאשר עלינו לייבא נתונים כאלו, אנו יכולים להשתמש בספריית עיבוד הנתונים של פייתון הקרויה pandas.\n",
    "<br>\n",
    "<h3>\n",
    "שיטה 2. טעינת הנתונים מקובץ\n",
    "</h3>\n",
    "על מנת להשתמש בספרייה עלינו ראשית להורות לפייתון לטעון אותה כפי שמבוצע בשורת הקוד הבאה:\n",
    "</div>"
   ]
  },
  {
   "cell_type": "code",
   "execution_count": 1,
   "metadata": {
    "collapsed": true
   },
   "outputs": [],
   "source": [
    "from pandas import *"
   ]
  },
  {
   "cell_type": "markdown",
   "metadata": {},
   "source": [
    "<div style=\"direction:rtl\">\n",
    "ספריית pandas מכילה פקודות לטעינת קבצים מסוג csv או קבצים מתוכנת אקסל.\n",
    "על מנת ליצור קובץ כזה באמצעות תוכנת Tracker עליכם לבצע את הפעולות הבאות:\n",
    "<ul>\n",
    "<li>\n",
    "פתחו את תוכנת ה-Tracker.\n",
    "</li>\n",
    "<li>\n",
    "פתחו את הקובץ המכיל את הסרט שברצונכם לעבד.\n",
    "אנו העלנו סרטון לדוגמא\n",
    "<a href=\"https://anaconda.org/explorephysics/data-1/1/download/BallTossOut.mov\">\n",
    "בקישור הזה\n",
    "</a>\n",
    ".\n",
    "</li>\n",
    "<li>\n",
    "התאימו את קנה המידה באמצעות בחירת Track -> New -> Calibration Tools -> Calibration Stick.\n",
    "גיררו את קצוות הקו הכחול כך שיתאימו לקצוות הפס המואר בסרטון.\n",
    "שימו לב שאורך כל שנתה בפס המואר הוא 10 סנטימטרים.\n",
    "התאימו את אורך הקו הכחול כך שיהיה מטר אחד.\n",
    "עדכנו את השדה calibration stick A length המופיע מעל הסרטון לערך 1 על מנת לוודא שנתוני המיקום יהיו ביחידות של מטרים.\n",
    "</li>\n",
    "<li>\n",
    "צרו אובייקט חדש לעקיבה על ידי הקלקה על כפתור Create.\n",
    "</li>\n",
    "<li>\n",
    "התקדמו בסרט עד לנקודה החל ממנה אתם מעוניינים לעקוב אחרי האובייקט באמצעות החיצים המופיעים מתחת לאזור התצוגה של הסרט.\n",
    "</li>\n",
    "<li>\n",
    "סמנו את מיקום האובייקט על ידי לחיצה על מקש shift (אז תשתנה צורת הסמן של העכבר) ואז הקלקה על מרכז המסה של האובייקט.\n",
    "</li>\n",
    "<li>\n",
    "בכל פעם שתקליקו התוכנה תסמן את מיקום האובייקט ותתקדם אוטומטית לפריים הבא בסרט, אז עליכם לסמן שוב את מיקום האובייקט, עד לנקודת הזמן בה אתם מעוניינים לסיים.\n",
    "</li>\n",
    "<li>\n",
    "כעת תופיע בפינה הימנית התחתונה של חלון התוכנה טבלא המציגה את ערכי הזמן והמיקום בצירים x ו-y של האובייקט.\n",
    "</li>\n",
    "<li>\n",
    "בחרו בתפריט File באפשרות Export ואז Data file.\n",
    "</li>\n",
    "<li>\n",
    "בשדה Delimiter וודאו כי הבחירה היא Comma.\n",
    "</li>\n",
    "<li>\n",
    "בשדה Cells וודאו כי הבחירה היא All Cells.\n",
    "</li>\n",
    "<li>\n",
    "הקישו Save As ושמרו את הקובץ לספרייה בה אתם שומרים את מסמכי jupyter notebook.\n",
    "</li>\n",
    "</ul>\n",
    "\n",
    "<a href=\"https://anaconda.org/explorephysics/data-1/1/download/ball.csv\">\n",
    "בקישור הזה\n",
    "</a>\n",
    "מצוי קובץ שנוצר בשיטה זו. אם לא ייצרתם קובץ נתונים בעצמכם, הורידו קובץ זה ושמרו אותו לספרייה בה אתם שומרים את מסמכי ה-jupyter notebook.\n",
    "<br>\n",
    "אנו קראנו לקובץ שנוצר ball.csv.\n",
    "אתם יכולים לפתוח קובץ זה באמצעות תוכנת notepad על מנת לצפות בתוכנו.\n",
    "<br>\n",
    "קטע הקוד הבא טוען את הקובץ למשתנה בשם ball באמצעות הפקודה read_csv.\n",
    "הפרמטר header=1 מציין שעל pandas להתעלם מהשורה הראשונה בקובץ (היא שורה מספר 0) שכן תוכנת ה-Tracker שומרת בשורה זו את שם האובייקט עליו בוצעה העקיבה (במקרה שלנו mass_A).\n",
    "תיאור מלא של אפשרויות השימוש בפקודה read_csv מצוי\n",
    "<a href=\"http://pandas.pydata.org/pandas-docs/stable/generated/pandas.read_csv.html\">\n",
    "בקישור הזה\n",
    "</a>\n",
    ".\n",
    "לאחר הטעינה הקוד מדפיס את האובייקט שנקרא.\n",
    "הריצו את הקוד כעת.\n",
    "</div>"
   ]
  },
  {
   "cell_type": "code",
   "execution_count": null,
   "metadata": {
    "collapsed": false,
    "scrolled": false
   },
   "outputs": [],
   "source": [
    "ball=read_csv('ball.csv',header=1)\n",
    "print(ball)"
   ]
  },
  {
   "cell_type": "markdown",
   "metadata": {},
   "source": [
    "<div style=\"direction:rtl\">\n",
    "על מנת להציב טורים שונים מהטבלא לסדרות מספרים עלינו לבצע את הקוד הבא:\n",
    "</div>"
   ]
  },
  {
   "cell_type": "code",
   "execution_count": null,
   "metadata": {
    "collapsed": false,
    "scrolled": true
   },
   "outputs": [],
   "source": [
    "time=array(ball['t'])\n",
    "print(time)"
   ]
  },
  {
   "cell_type": "markdown",
   "metadata": {},
   "source": [
    "<div style=\"direction:rtl\">\n",
    "בקוד זה בחירת הטור מתוך הטבלא ball שיוצב למשתנה time מבוצעת על ידי הסימן ['t'].\n",
    "ניתן לבחור כך בכל אחד מהטורים של ball.\n",
    "<br>\n",
    "על מנת לראות את רשימת שמות הטורים אנו יכולים להדפיס את השדה columns כפי שמודגם בתא הקוד הבא.\n",
    "</div>"
   ]
  },
  {
   "cell_type": "code",
   "execution_count": null,
   "metadata": {
    "collapsed": false
   },
   "outputs": [],
   "source": [
    "print(ball.columns)"
   ]
  },
  {
   "cell_type": "markdown",
   "metadata": {},
   "source": [
    "<div style=\"direction:rtl\">\n",
    "בקטע הקוד הבא אנו מציבים את הערכים המופיעים בטור 'x' בטבלא ball לתוך משתנה בשם xpos.\n",
    "לאחר מכן אנו משרטטים גרף נקודות של המיקום בציר ה-x כתלות בזמן.\n",
    "<br>\n",
    "הריצו תא קוד זה כעת.\n",
    "</div>"
   ]
  },
  {
   "cell_type": "code",
   "execution_count": null,
   "metadata": {
    "collapsed": false,
    "scrolled": true
   },
   "outputs": [],
   "source": [
    "xpos=array(ball['x'])\n",
    "plot(time,xpos,'.')"
   ]
  },
  {
   "cell_type": "markdown",
   "metadata": {},
   "source": [
    "<div style=\"direction:rtl\">\n",
    "<h4>\n",
    "משימה 2\n",
    "</h4>\n",
    "הציבו את טור y למשתנה בשם ypos.\n",
    "שרטטו גרף של מיקום הגוף בציר ה-y כתלות בזמן.\n",
    "</div>\n"
   ]
  },
  {
   "cell_type": "code",
   "execution_count": null,
   "metadata": {
    "collapsed": true
   },
   "outputs": [],
   "source": []
  },
  {
   "cell_type": "markdown",
   "metadata": {},
   "source": [
    "<div style=\"direction:rtl\">\n",
    "<h4>\n",
    "משימה 3\n",
    "</h4>\n",
    "נסו להתאים את משוואת התנועה בתאוצה קבועה לתנועת הכדור על ידי השלמת תא הקוד הבא.\n",
    "הדפיסו גרף בו מופיעות הנקודות המתארות את תנועת הכדור וקו המתאר את התנועה על פי המשוואה.\n",
    "מהי המהירות ההתחלתית של הכדור? מהי התאוצה? האם התאוצה תואמת את הידוע לכם?\n",
    "</div>"
   ]
  },
  {
   "cell_type": "code",
   "execution_count": null,
   "metadata": {
    "collapsed": false
   },
   "outputs": [],
   "source": [
    "a=?\n",
    "v0=?\n",
    "x0=?\n",
    "\n",
    "ypred=?\n",
    "\n",
    "plot(time,ypos,'.')\n",
    "plot(time,ypred)"
   ]
  },
  {
   "cell_type": "markdown",
   "metadata": {},
   "source": [
    "<div style=\"direction:rtl\">\n",
    "<h3>\n",
    "ייבוא נתונים מקבצי אקסל\n",
    "</h3>\n",
    "קיימות שתי אפשרויות לייבא טבלאות מקבצי אקסל.\n",
    "<ol>\n",
    "<li>\n",
    "לייצא את הטבלא מתוכנת האקסל לקובץ csv ולהשתמש באותה השיטה בה עשינו שימוש לעיל.\n",
    "במקרה זה יש לקבוע את הפרמטר header כך שיורה לפקודה read_csv מהי השורה בקובץ המכילה את כותרות התאים.\n",
    "<br>\n",
    "יש לוודא בעת שמירת הקובץ באקסל שהשדות השונים מופרדים באמצעות פסיקים ולא באמצעות תו אחר.\n",
    "ניתן לצפות בקובץ שנוצר באמצעות notepad על מנת לוודא שתוכנו תואם לציפיות.\n",
    "</li>\n",
    "<li>\n",
    "ספריית pandas מכילה פונקציה בשם read_excel אשר מאפשרת קריאה ישירה של קבצי אקסל.\n",
    "פקודה זו מקבלת את שם הקובץ, ומאפשרת קריאה של חלק מוגדר מתוך הקובץ (גליון מסוים, טווח שורות מסוים וכו').\n",
    "תאור מלא של אפשרויות השימוש בפקודה זו מצוי\n",
    "<a href=\"http://pandas.pydata.org/pandas-docs/stable/generated/pandas.read_excel.html\">\n",
    "בקישור הזה\n",
    "</a>\n",
    ".\n",
    "</li>\n",
    "</ol>\n",
    "</div>"
   ]
  },
  {
   "cell_type": "markdown",
   "metadata": {
    "collapsed": true
   },
   "source": [
    "<div style=\"direction:rtl\">\n",
    "שימרו את המסמך המעודכן על ידי הקשה על צלמית הדיסקט  מצד שמאל למעלה, או שימוש בקיצור המקלדת ctrl+s.\n",
    "</div>"
   ]
  },
  {
   "cell_type": "markdown",
   "metadata": {},
   "source": [
    "<div style=\"direction:rtl\">\n",
    "<h3>\n",
    "סיכום היחידה:\n",
    "</h3>\n",
    "<ul>\n",
    "<li>\n",
    "ניתן לייבא מספר קטן של נתונים באמצעות גזירה והדבקה של טקסט.\n",
    "</li>\n",
    "<li>\n",
    "בשיטה זו חשוב להוסיף פסיקים בין הנתונים ידנית ולהקיף את כל סדרת הנתונים בסוגריים מרובעים, [].\n",
    "הפקודה array מציינת לפייתון שעליו להתייחס לרשימת הערכים כסדרה.\n",
    "</li>\n",
    "<li>\n",
    "על מנת לייבא כמות גדולה יותר של נתונים יש להשתמש בספריית pandas.\n",
    "טעינת הספרייה מתבצעת באמצעות הפקודה:\n",
    "* from pandas import \n",
    "</li>\n",
    "<li>\n",
    "ספריית pandas מכילה את הפקודה read_csv לטעינת נתונים מקובץ טקסט.\n",
    "אם קובץ הטקסט יוצר על ידי תוכנת Tracker יש לציין בפקודה header=1 על מנת לדלג על השורה הראשונה בקובץ.\n",
    "</li>\n",
    "<li>\n",
    "פקודת read_csv מחזירה משתנה מסוג חדש - טבלא.\n",
    "</li>\n",
    "<li>\n",
    "שמות העמודות בטבלא בשם abc נתונות בשדה columns.\n",
    "ניתן להדפיסם באמצעות הפקודה\n",
    "(print(abc.columns \n",
    "</li>\n",
    "<li>\n",
    "על מנת ליצור סדרה בשם efg מטור הערכים שבעמודה בשם foo בטבלא abc יש לבצע את הפקודה:\n",
    "(['efg=array(abc['foo\n",
    "</li>\n",
    "<li>\n",
    "ניתן לבצע התאמה ידנית של מודל פיסיקלי לנתוני ניסוי בדרך של ניסוי וטעייה על ידי שרטוט הגרפים של נתוני הניסוי לעומת המודל והתאמת הפרמטרים של המודל להשגת חפיפה בין השניים.\n",
    "</li>\n",
    "</ul>\n",
    "</div>"
   ]
  },
  {
   "cell_type": "markdown",
   "metadata": {},
   "source": [
    "<div style=\"direction:rtl\">\n",
    "<h3>\n",
    "שגיאות נפוצות והודעות השגיאה שהן גורמות\n",
    "</h3>\n",
    "כל אחד מהתאים הבאים מכיל שגיאה. הריצו כל תא וצפו בפלט המתקבל עבור שגיאה זו.\n",
    "</div>"
   ]
  },
  {
   "cell_type": "markdown",
   "metadata": {},
   "source": [
    "<div style=\"direction:rtl\">\n",
    "השמטת פסיקים בין ערכי רשימה או סדרה\n",
    "</div>"
   ]
  },
  {
   "cell_type": "code",
   "execution_count": null,
   "metadata": {
    "collapsed": false,
    "scrolled": true
   },
   "outputs": [],
   "source": [
    "x=[\n",
    "    10,\n",
    "    20\n",
    "    30\n",
    "]"
   ]
  },
  {
   "cell_type": "markdown",
   "metadata": {},
   "source": [
    "<div style=\"direction:rtl\">\n",
    "השמטת סוגריים מרובעים מרשימה ונסיון ליצור ממנה סדרה\n",
    "</div>"
   ]
  },
  {
   "cell_type": "code",
   "execution_count": null,
   "metadata": {
    "collapsed": false
   },
   "outputs": [],
   "source": [
    "x=array(\n",
    "1,2,3\n",
    ")"
   ]
  },
  {
   "cell_type": "markdown",
   "metadata": {},
   "source": [
    "<div style=\"direction:rtl\">\n",
    "גישה לקובץ שאינו קיים\n",
    "</div>"
   ]
  },
  {
   "cell_type": "code",
   "execution_count": null,
   "metadata": {
    "collapsed": false
   },
   "outputs": [],
   "source": [
    "x=read_csv('abc.csv')"
   ]
  },
  {
   "cell_type": "markdown",
   "metadata": {},
   "source": [
    "<div style=\"direction:rtl\">\n",
    "גישה לטור שאינו קיים בטבלא\n",
    "</div>"
   ]
  },
  {
   "cell_type": "code",
   "execution_count": null,
   "metadata": {
    "collapsed": false
   },
   "outputs": [],
   "source": [
    "abc=read_csv('ball.csv',header=1)\n",
    "x=abc['foo']"
   ]
  },
  {
   "cell_type": "markdown",
   "metadata": {},
   "source": [
    "<div style=\"direction:rtl\">\n",
    "<h4>\n",
    "מזל טוב! סיימתם יחידה זו.\n",
    "</h4>\n",
    "</div>"
   ]
  }
 ],
 "metadata": {
  "kernelspec": {
   "display_name": "Python 3",
   "language": "python",
   "name": "python3"
  },
  "language_info": {
   "codemirror_mode": {
    "name": "ipython",
    "version": 3
   },
   "file_extension": ".py",
   "mimetype": "text/x-python",
   "name": "python",
   "nbconvert_exporter": "python",
   "pygments_lexer": "ipython3",
   "version": "3.5.1"
  }
 },
 "nbformat": 4,
 "nbformat_minor": 0
}
