{
 "cells": [
  {
   "cell_type": "markdown",
   "metadata": {
    "slideshow": {
     "slide_type": "slide"
    }
   },
   "source": [
    "<div style=\"direction:rtl\">\n",
    "<H1>\n",
    "השתלמות בחישובים נומריים למורי פיסיקה חקר\n",
    "</H1>\n",
    "<H3>\n",
    "יחידה 6, משפטי תנאי\n",
    "</H3>\n",
    "ראשית נטען את ההרחבה pylab%.\n",
    "הריצו תא קוד זה כעת.\n",
    "</div>"
   ]
  },
  {
   "cell_type": "code",
   "execution_count": 2,
   "metadata": {
    "collapsed": false,
    "scrolled": false
   },
   "outputs": [
    {
     "name": "stdout",
     "output_type": "stream",
     "text": [
      "Using matplotlib backend: MacOSX\n",
      "Populating the interactive namespace from numpy and matplotlib\n"
     ]
    }
   ],
   "source": [
    "%pylab"
   ]
  },
  {
   "cell_type": "markdown",
   "metadata": {},
   "source": [
    "<div style=\"direction:rtl\">\n",
    "<H2>\n",
    "משפטי תנאי\n",
    "</H2>\n",
    "לעיתים קרובות אנו מעוניינים לבצע קטע קוד מסוים רק כאשר תנאי מסוים מתקיים, או לבצע קטעי קוד שונים בהתאם לתנאי נתון.\n",
    "הדרך לעשות זאת בשפת פייתון היא באמצעות הוראות if else.\n",
    "<br>\n",
    "הקוד בתא הבא גורם להדפסה שונה בהתאם לערכו של x.\n",
    "הריצו אותו, צפו בפלט ולאחר מכן קראו את ההסבר לדרך בה הוא עובד.\n",
    "</div>"
   ]
  },
  {
   "cell_type": "code",
   "execution_count": null,
   "metadata": {
    "collapsed": false
   },
   "outputs": [],
   "source": [
    "x=1\n",
    "if x>0:\n",
    "    print(\"x is greater than 0\")\n",
    "else:\n",
    "    print(\"x is smaller than 0\")\n",
    "print(\"I'll print this anyway\")"
   ]
  },
  {
   "cell_type": "markdown",
   "metadata": {},
   "source": [
    "<div style=\"direction:rtl\">\n",
    "בקוד שהרצנו שש שורות.\n",
    "השורה הראשונה מאתחלת את המשתנה x לערך 1.\n",
    "השורה השניה היא שורת התנאי if.\n",
    "אם התנאי הרשום לאחר המילה if נכון, יבוצע קטע הקוד המוזז ימינה  מיד מתחת לשורה זו.\n",
    "אם התנאי הרשום לאחר המילה if איננו נכון, יבוצע קטע הקוד המוזז ימינה מיד מתחת לשורה else.\n",
    "<br>\n",
    "שנו את ערכו של x בתא הקוד ל-1- והריצו אותו שנית.\n",
    "שימו לב לשינוי בפלט.\n",
    "<br>\n",
    "שורת ה-else אופציונלית וניתן להשמיטה במקרה שאנו רוצים לבצע קוד רק כאשר התנאי נכון.\n",
    "קיראו את תאי הקוד הבאים, שערו מה תהיה תוצאת הרצתם, הריצו אותם ובידקו האם התוצאה תואמת להשערותיכם:\n",
    "</div>"
   ]
  },
  {
   "cell_type": "code",
   "execution_count": null,
   "metadata": {
    "collapsed": false,
    "scrolled": true
   },
   "outputs": [],
   "source": [
    "x=-1\n",
    "if x>0:\n",
    "    print(\"x>0\")"
   ]
  },
  {
   "cell_type": "code",
   "execution_count": null,
   "metadata": {
    "collapsed": false,
    "scrolled": true
   },
   "outputs": [],
   "source": [
    "x=-1\n",
    "if x<0:\n",
    "    print(\"x<0\")"
   ]
  },
  {
   "cell_type": "code",
   "execution_count": null,
   "metadata": {
    "collapsed": false
   },
   "outputs": [],
   "source": [
    "x=1\n",
    "if x>=0:\n",
    "    print(\"x is greater than or equal to zero\")\n",
    "    print(x)\n",
    "else:\n",
    "    print(\"x is smaller than zero\")"
   ]
  },
  {
   "cell_type": "code",
   "execution_count": null,
   "metadata": {
    "collapsed": false
   },
   "outputs": [],
   "source": [
    "x=1\n",
    "if x<=1:\n",
    "    x=3\n",
    "    print(x)\n",
    "else:\n",
    "    print(\"x is bigger than 1\")"
   ]
  },
  {
   "cell_type": "code",
   "execution_count": null,
   "metadata": {
    "collapsed": false
   },
   "outputs": [],
   "source": [
    "x=-1\n",
    "if x>0:\n",
    "else:\n",
    "    print(x)\n"
   ]
  },
  {
   "cell_type": "code",
   "execution_count": null,
   "metadata": {
    "collapsed": false
   },
   "outputs": [],
   "source": [
    "x=-1\n",
    "if x**2>0:\n",
    "    print(x)"
   ]
  },
  {
   "cell_type": "code",
   "execution_count": null,
   "metadata": {
    "collapsed": false,
    "scrolled": true
   },
   "outputs": [],
   "source": [
    "x=1\n",
    "if x==1:\n",
    "    print(\"x is one\")"
   ]
  },
  {
   "cell_type": "code",
   "execution_count": null,
   "metadata": {
    "collapsed": false
   },
   "outputs": [],
   "source": [
    "x=0\n",
    "if x!=1:\n",
    "    print(\"x is not one\")"
   ]
  },
  {
   "cell_type": "code",
   "execution_count": null,
   "metadata": {
    "collapsed": true
   },
   "outputs": [],
   "source": [
    "x=0\n",
    "if not x==1:\n",
    "    print(\"x is not 1\")"
   ]
  },
  {
   "cell_type": "markdown",
   "metadata": {
    "slideshow": {
     "slide_type": "slide"
    }
   },
   "source": [
    "<div style=\"direction:rtl\">\n",
    "כפי שראיתם, ניתן להשתמש בתנאים בסימנים >, <, =>, =<, == ו-=! אשר משמעותם גדול, קטן, גדול או שווה, קטן או שווה, שווה, ושונה.\n",
    "בנוסף ניתן להשתמש במילה not על מנת לשלול את התנאי.\n",
    "<br>\n",
    "שימו לב כיצד מגיבה פייתון לקוד הבא:\n",
    "</div>"
   ]
  },
  {
   "cell_type": "code",
   "execution_count": null,
   "metadata": {
    "collapsed": false,
    "scrolled": true
   },
   "outputs": [],
   "source": [
    "x=1\n",
    "if x=1:\n",
    "    print(\"x is one\")"
   ]
  },
  {
   "cell_type": "markdown",
   "metadata": {
    "slideshow": {
     "slide_type": "slide"
    }
   },
   "source": [
    "<div style=\"direction:rtl\">\n",
    "בפייתון הסימן '=' מציין השמה למשתנה ולא הצהרה ששני ערכים שווים.\n",
    "הסימן המשמש להצהרה ששני ערכים שווים הוא '=='.\n",
    "</div>"
   ]
  },
  {
   "cell_type": "markdown",
   "metadata": {
    "slideshow": {
     "slide_type": "slide"
    }
   },
   "source": [
    "<div style=\"direction:rtl\">\n",
    "ניתן לשלב בדיקות תנאים גם בתוך לולאה.\n",
    "קיראו את קטע הקוד הבא, נסו לשער כיצד נראה הגרף שהוא משרטט ואז הריצו אותו וצפו בתוצאה.\n",
    "</div>"
   ]
  },
  {
   "cell_type": "code",
   "execution_count": null,
   "metadata": {
    "collapsed": false
   },
   "outputs": [],
   "source": [
    "xs=arange(0,10,0.1)\n",
    "ys=sin(xs)\n",
    "for i in arange(len(ys)):\n",
    "    if ys[i]<0:\n",
    "        ys[i]=0\n",
    "plot(xs,ys,'.')"
   ]
  },
  {
   "cell_type": "markdown",
   "metadata": {},
   "source": [
    "<div style=\"direction:rtl\">\n",
    "<h4>\n",
    "משימה 1\n",
    "</h4>\n",
    "שנו את תא הקוד הקודם כך שבמקום לשמר רק את הערכים החיוביים של ys\n",
    "הוא ישמר רק את הערכים השליליים של ys ויחליף את הערכים החיוביים בערך\n",
    "0.5-\n",
    ".\n",
    "</div>"
   ]
  },
  {
   "cell_type": "markdown",
   "metadata": {},
   "source": [
    "<div style=\"direction:rtl\">\n",
    "<h4>\n",
    "סימולציות דינמיות יעילות יותר\n",
    "</h4>\n",
    "הריצו את הסימולציה הבאה של קפיץ.\n",
    "</div>"
   ]
  },
  {
   "cell_type": "code",
   "execution_count": 21,
   "metadata": {
    "collapsed": false
   },
   "outputs": [],
   "source": [
    "t=0\n",
    "a=0\n",
    "x=1\n",
    "v=0\n",
    "m=1\n",
    "k=1\n",
    "\n",
    "dots=plot(t,x,'.') \n",
    "dot=dots[0]\n",
    "xlim(-3,3)\n",
    "ylim(-1,1)\n",
    "dt=0.01\n",
    "T=pi\n",
    "n=round(T/dt)\n",
    "\n",
    "for i in arange(n):\n",
    "    a=-k*x/m\n",
    "    t=t+dt\n",
    "    x=x+v*dt\n",
    "    v=v+a*dt\n",
    "    dot.set_data(x,0)\n",
    "    pause(0.001)\n",
    "    \n",
    "  "
   ]
  },
  {
   "cell_type": "markdown",
   "metadata": {},
   "source": [
    "<div style=\"direction:rtl\">\n",
    "בחרנו קפיצות קטנות בזמן כדי שהחישוב יהיה מדויק. מכיוון שבכל צעד זמן אנו מעדכנים את מיקום הנקודה בגרף, החישוב איטי מאוד.\n",
    "נסו להוריד את פקודת עדכון הנקודה בגרף \n",
    "$$ֿ\\text{dot.set_data(x,0)}$$\n",
    "וראו כמה החישוב יותר מהיר.\n",
    "כיצד נוכל להגביר את קצב החישוב בלי לפגוע בדיוק?\n",
    "בתא הבא יש תוספת לסימולציה שבעזרתה הנקודה מתעדכנת רק אחת לכמה זמן שנקבע ע״י משתנה dtplot שמוגדר בהתחלה.\n",
    "הריצו ונסו להבין איך זה עובד. הסבר למטה.\n",
    "</div>"
   ]
  },
  {
   "cell_type": "code",
   "execution_count": 23,
   "metadata": {
    "collapsed": false
   },
   "outputs": [],
   "source": [
    "t=0\n",
    "dtplot=0.1\n",
    "a=0\n",
    "x=1\n",
    "v=0\n",
    "m=1\n",
    "k=1\n",
    "\n",
    "tplot=0\n",
    "dots=plot(t,x,'.') \n",
    "dot=dots[0]\n",
    "xlim(-3,3)\n",
    "ylim(-1,1)\n",
    "dt=0.001\n",
    "T=4*pi\n",
    "n=round(T/dt)\n",
    "\n",
    "for i in arange(n):\n",
    "    a=-k*x/m\n",
    "    t=t+dt\n",
    "    x=x+v*dt\n",
    "    v=v+a*dt\n",
    "    tplot=tplot+dt\n",
    "    if tplot>=dtplot:\n",
    "        tplot=0\n",
    "        dot.set_data(x,0)\n",
    "        pause(0.001)"
   ]
  },
  {
   "cell_type": "markdown",
   "metadata": {},
   "source": [
    "<div style=\"direction:rtl\">\n",
    "הסבר:\n",
    "אנו משתמשים במשתנה נוסף שנקרא tplot. בהתחלה ערכו מושם להיות 0.\n",
    "בכל צעד זמן בחישוב tplot גדל כמו t.\n",
    "ברגע ש tplot גדול או שווה לזמן ההדפסה שנבחר dtplot, אז אנו מעדכנים את הנקודה. \n",
    "במקרה זה אנו מאתחלים מחדש את tplot להיות 0.\n",
    "רק כאשר t יגדל שוב בtplot, יתרחש העדכון הבא.\n",
    "הפקודה if איפשרה לנו לעשות את ההתניה הזאת.\n",
    "כעת נסו להקטין את צעד הזמן של החישוב פי 10 כך שהחישוב יהיה עוד יותר מדויק ובידקו איך זה משפיע על הזמן. \n",
    "</div>"
   ]
  },
  {
   "cell_type": "markdown",
   "metadata": {},
   "source": [
    "<div style=\"direction:rtl\">\n",
    "<h3>\n",
    "שגיאות נפוצות והודעות השגיאה שהן גורמות\n",
    "</h3>\n",
    "כל אחד מהתאים הבאים מכיל שגיאה. הריצו כל תא וצפו בפלט המתקבל עבור שגיאה זו.\n",
    "</div>"
   ]
  },
  {
   "cell_type": "markdown",
   "metadata": {},
   "source": [
    "<div style=\"direction:rtl\">\n",
    "<h4>\n",
    "מזל טוב! סיימתם יחידה זו.\n",
    "</h4>\n",
    "</div>"
   ]
  }
 ],
 "metadata": {
  "kernelspec": {
   "display_name": "Python 3",
   "language": "python",
   "name": "python3"
  },
  "language_info": {
   "codemirror_mode": {
    "name": "ipython",
    "version": 3
   },
   "file_extension": ".py",
   "mimetype": "text/x-python",
   "name": "python",
   "nbconvert_exporter": "python",
   "pygments_lexer": "ipython3",
   "version": "3.5.1"
  }
 },
 "nbformat": 4,
 "nbformat_minor": 0
}
