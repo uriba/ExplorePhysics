{
 "cells": [
  {
   "cell_type": "markdown",
   "metadata": {
    "slideshow": {
     "slide_type": "slide"
    }
   },
   "source": [
    "<div style=\"direction:rtl\">\n",
    "<H1>\n",
    "השתלמות בחישובים נומריים למורי פיסיקה חקר\n",
    "</H1>\n",
    "<H3>\n",
    "יחידה 5, משפטי תנאי ואנימציה\n",
    "</H3>\n",
    "ראשית נטען את ההרחבה pylab% (כרגיל, לצורך הצגת הגרפים בגוף המסמך נשתמש באפשרות inline. אם אתם מפעילים את המסמך דרך jupyter notebook ממחשבכם האישי, מומלץ להשמיט את הוראת ה-inline). \n",
    "הריצו תא קוד זה כעת.\n",
    "</div>"
   ]
  },
  {
   "cell_type": "code",
   "execution_count": 1,
   "metadata": {
    "collapsed": false,
    "scrolled": false
   },
   "outputs": [
    {
     "name": "stdout",
     "output_type": "stream",
     "text": [
      "Using matplotlib backend: Qt4Agg\n",
      "Populating the interactive namespace from numpy and matplotlib\n"
     ]
    }
   ],
   "source": [
    "%pylab"
   ]
  },
  {
   "cell_type": "markdown",
   "metadata": {},
   "source": [
    "<div style=\"direction:rtl\">\n",
    "<H2>\n",
    "משפטי תנאי\n",
    "</H2>\n",
    "לעיתים קרובות אנו מעוניינים לבצע קטע קוד מסוים רק כאשר תנאי מסוים מתקיים, או לבצע קטעי קוד שונים בהתאם לתנאי נתון.\n",
    "הדרך לעשות זאת בשפת פייתון היא באמצעות הוראות if else.\n",
    "<br>\n",
    "הקוד בתא הבא גורם להדפסה שונה בהתאם לערכו של x.\n",
    "הריצו אותו, צפו בפלט ולאחר מכן קראו את ההסבר לדרך בה הוא עובד.\n",
    "</div>"
   ]
  },
  {
   "cell_type": "code",
   "execution_count": null,
   "metadata": {
    "collapsed": false
   },
   "outputs": [],
   "source": [
    "x=1\n",
    "if x>0:\n",
    "    print(\"x is greater than 0\")\n",
    "else:\n",
    "    print(\"x is smaller than 0\")\n",
    "print(\"I'll print this anyway\")"
   ]
  },
  {
   "cell_type": "markdown",
   "metadata": {},
   "source": [
    "<div style=\"direction:rtl\">\n",
    "בקוד שהרצנו שש שורות.\n",
    "השורה הראשונה מאתחלת את המשתנה x לערך 1.\n",
    "השורה השניה היא שורת התנאי if.\n",
    "אם התנאי הרשום לאחר המילה if נכון, יבוצע קטע הקוד המוזז ימינה שמתחת לשורה זו.\n",
    "אם התנאי הרשום לאחר המילה if איננו נכון, יבוצע קטע הקוד שמתחת לשורה else.\n",
    "<br>\n",
    "שנו את ערכו של x בתא הקוד ל-1- והריצו אותו שנית.\n",
    "שימו לב לשינוי בפלט.\n",
    "<br>\n",
    "שורת ה-else היא אופציונלי וניתן להשמיטה במקרה שאנו רוצים לבצע קוד רק כאשר התנאי נכון.\n",
    "קיראו את תאי הקוד הבאים, שערו מה תהיה תוצאת הרצתם, הריצו אותם ובידקו האם התוצאה דומה להשערותיכם:\n",
    "</div>"
   ]
  },
  {
   "cell_type": "code",
   "execution_count": null,
   "metadata": {
    "collapsed": false,
    "scrolled": true
   },
   "outputs": [],
   "source": [
    "x=-1\n",
    "if x>0:\n",
    "    print(\"x>0\")"
   ]
  },
  {
   "cell_type": "code",
   "execution_count": null,
   "metadata": {
    "collapsed": false,
    "scrolled": true
   },
   "outputs": [],
   "source": [
    "x=-1\n",
    "if x<0:\n",
    "    print(\"x<0\")"
   ]
  },
  {
   "cell_type": "code",
   "execution_count": null,
   "metadata": {
    "collapsed": false
   },
   "outputs": [],
   "source": [
    "x=1\n",
    "if x>=0:\n",
    "    print(\"x is greater than or equal to zero\")\n",
    "    print(x)\n",
    "else:\n",
    "    print(\"x is smaller than zero\")"
   ]
  },
  {
   "cell_type": "code",
   "execution_count": null,
   "metadata": {
    "collapsed": false
   },
   "outputs": [],
   "source": [
    "x=1\n",
    "if x<=1:\n",
    "    x=3\n",
    "    print(x)\n",
    "else:\n",
    "    print(\"x is bigger than 1\")"
   ]
  },
  {
   "cell_type": "code",
   "execution_count": null,
   "metadata": {
    "collapsed": false
   },
   "outputs": [],
   "source": [
    "x=-1\n",
    "if x>0:\n",
    "else:\n",
    "    print(x)\n"
   ]
  },
  {
   "cell_type": "code",
   "execution_count": null,
   "metadata": {
    "collapsed": false
   },
   "outputs": [],
   "source": [
    "x=-1\n",
    "if x**2>0:\n",
    "    print(x)"
   ]
  },
  {
   "cell_type": "code",
   "execution_count": null,
   "metadata": {
    "collapsed": false,
    "scrolled": true
   },
   "outputs": [],
   "source": [
    "x=1\n",
    "if x=1:\n",
    "    print(\"x is one\")"
   ]
  },
  {
   "cell_type": "code",
   "execution_count": null,
   "metadata": {
    "collapsed": false,
    "scrolled": true
   },
   "outputs": [],
   "source": [
    "x=1\n",
    "if x==1:\n",
    "    print(\"x is one\")"
   ]
  },
  {
   "cell_type": "code",
   "execution_count": null,
   "metadata": {
    "collapsed": false
   },
   "outputs": [],
   "source": [
    "x=0\n",
    "if x!=1:\n",
    "    print(\"x is not one\")"
   ]
  },
  {
   "cell_type": "code",
   "execution_count": null,
   "metadata": {
    "collapsed": true
   },
   "outputs": [],
   "source": [
    "x=0\n",
    "if not x==1:\n",
    "    print(\"x is not 1\")"
   ]
  },
  {
   "cell_type": "markdown",
   "metadata": {
    "slideshow": {
     "slide_type": "slide"
    }
   },
   "source": [
    "<div style=\"direction:rtl\">\n",
    "כפי שראיתם, ניתן להשתמש בתנאים בסימנים >, <, =>, =<, == ו-=! אשר משמעותם גדול, קטן, גדול או שווה, קטן או שווה, שווה, ושונה.\n",
    "בנוסף ניתן להשתמש במילה not על מנת לשלול את התנאי.\n",
    "</div>"
   ]
  },
  {
   "cell_type": "markdown",
   "metadata": {
    "slideshow": {
     "slide_type": "slide"
    }
   },
   "source": [
    "<div style=\"direction:rtl\">\n",
    "ניתן לשלב בדיקות תנאים גם בתוך לולאה.\n",
    "קיראו את קטע הקוד הבא, נסו לשער כיצד נראה הגרף שהוא משרטט ואז הריצו אותו וצפו בתוצאה.\n",
    "</div>"
   ]
  },
  {
   "cell_type": "code",
   "execution_count": 8,
   "metadata": {
    "collapsed": false
   },
   "outputs": [
    {
     "data": {
      "text/plain": [
       "[<matplotlib.lines.Line2D at 0x7fe4eac7a588>]"
      ]
     },
     "execution_count": 8,
     "metadata": {},
     "output_type": "execute_result"
    },
    {
     "data": {
      "image/png": "[encoded data removed]",
      "text/plain": [
       "<matplotlib.figure.Figure at 0x7fe4eaa00048>"
      ]
     },
     "metadata": {},
     "output_type": "display_data"
    }
   ],
   "source": [
    "xs=arange(0,10,0.1)\n",
    "ys=sin(xs)\n",
    "for (i,y) in enumerate(ys):\n",
    "    if y<0:\n",
    "        ys[i]=0\n",
    "plot(xs,ys,'.')"
   ]
  },
  {
   "cell_type": "markdown",
   "metadata": {},
   "source": [
    "<div style=\"direction:rtl\">\n",
    "<h4>\n",
    "משימה 1\n",
    "</h4>\n",
    "שנו את תא הקוד הקודם כך שבמקום לשמר רק את הערכים החיוביים של ys\n",
    "הוא ישמר רק את הערכים השליליים של ys ויחליף את הערכים החיוביים בערך\n",
    "0.5-\n",
    ".\n",
    "</div>"
   ]
  },
  {
   "cell_type": "markdown",
   "metadata": {},
   "source": [
    "----------------------------------------------------------------------------------------------------"
   ]
  },
  {
   "cell_type": "markdown",
   "metadata": {},
   "source": [
    "<div style=\"direction:rtl\">\n",
    "<h2>\n",
    "הצגת אנימציה\n",
    "</h2>\n",
    "<h3>\n",
    "אנימציה של נקודה בודדת\n",
    "</h3>\n",
    "ניתן לשלב את הכלים שלמדנו עד כה על מנת להציג אנימציה של תופעות פיסיקליות.\n",
    "בהצגת אנימציה עלינו לעדכן את המיקום של אובייקט ככל שמתקדם הזמן.\n",
    "<br>\n",
    "קיראו את קטע הקוד הבא, הריצו אותו (שימו לב שעליכם לעבור לחלון בו מוצג הגרף על מנת לראות את האנימציה!) צפו בתוצאה ואז קיראו את ההסבר.\n",
    "</div>"
   ]
  },
  {
   "cell_type": "code",
   "execution_count": 3,
   "metadata": {
    "collapsed": false
   },
   "outputs": [
    {
     "name": "stderr",
     "output_type": "stream",
     "text": [
      "/home/urib/anaconda3/lib/python3.5/site-packages/matplotlib/backend_bases.py:2437: MatplotlibDeprecationWarning: Using default event loop until function specific to this GUI is implemented\n",
      "  warnings.warn(str, mplDeprecation)\n"
     ]
    }
   ],
   "source": [
    "xs=arange(0,10,0.01)\n",
    "objects=plot(xs[0],xs[0],'.')\n",
    "dot=objects[0]\n",
    "\n",
    "xlim(0,10)\n",
    "ylim(0,10)\n",
    "\n",
    "for j in xs:\n",
    "    dot.set_data(j,j)\n",
    "    pause(0.01)"
   ]
  },
  {
   "cell_type": "markdown",
   "metadata": {},
   "source": [
    "<div style=\"direction:rtl\">\n",
    "בקטע קוד זה אנו מאתחלים סדרה בשם xs.\n",
    "סידרה זו תתאר את סדרת המיקומים בהם תצויר הנקודה לאורך האנימציה.\n",
    "בכל צעד של האנימציה, i, אנו נרצה לצייר את הנקודה במקום (xs[i],xs[i]).\n",
    "<br>\n",
    "לאחר אתחול הסדרה אנו מציירים את הנקודה במקום ההתחלתי.\n",
    "הפקודה plot מחזירה לנו רשימה של כל האובייקטים ששורטטו בקריאה זו \n",
    "(בשיעורים הקודמים התעלמנו מהערך שהפקודה החזירה).\n",
    "היות ושרטטנו רק אובייקט אחד, רשימה זו תכיל רק איבר אחד, במקום 0.\n",
    "נציב איבר זה, המייצג את הנקודה ששורטטה, למשתנה בשם dot.\n",
    "<br>\n",
    "אנו מגדירים את גבולות השירטוט כך שיכילו את כל המקומות בהם תופיע הנקודה. אם לא נעשה זאת, השרטוט יתאים את גבולות הצירים בכל פעם למיקום הנקודה הנוכחי ולכן לא נראה תנועה (אלא רק שינוי בערכי השנתות על גבי הצירים).\n",
    "\n",
    "כעת אנו מבצעים לולאה על גבי סדרת המקומות בהם ברצוננו לשרטט את הנקודה.\n",
    "בכל צעד של הלולאה, אנו מעדכנים את מיקום הנקודה באמצעות הפקודה set_data.\n",
    "היות ומדובר בנקודה, עלינו לספק את מיקומה בציר ה-x ובציר ה-y.\n",
    "על מנת לעדכן את השרטוט אנו קוראים לפונקציה pause אשר מאלצת את פייתון להפסיק לבצע פקודות ולעדכן את הגרף.\n",
    "</div> \n"
   ]
  },
  {
   "cell_type": "markdown",
   "metadata": {},
   "source": [
    "<div style=\"direction:rtl\">\n",
    "<h4>\n",
    "משימה 2\n",
    "</h4>\n",
    "עדכנו את הקוד כך שבמקום שהנקודה תנוע לאורך הישר בין (0,0) ל-(10,10) היא תנוע לאורך הישר בין (5,0) ל-(5,10) \n",
    "</div>"
   ]
  },
  {
   "cell_type": "markdown",
   "metadata": {},
   "source": [
    "<div style=\"direction:rtl\">\n",
    "<h4>\n",
    "משימה 3\n",
    "</h4>\n",
    "צרו סדרה חדשה, ys אשר מכילה את ערכי הפרבולה:\n",
    "$$ y=-x^2+10x $$\n",
    "עדכנו את הקוד כך שהנקודה תנוע לאורך הפרבולה (הדרך הנוחה ביותר לעשות זאת היא באמצעות הפונקציה enumerate)\\\n",
    "</div>"
   ]
  },
  {
   "cell_type": "markdown",
   "metadata": {},
   "source": [
    "<div style=\"direction:rtl\">\n",
    "<h3>\n",
    "אנימציה של ישר\n",
    "</h3>\n",
    "</div>"
   ]
  },
  {
   "cell_type": "markdown",
   "metadata": {
    "collapsed": true
   },
   "source": [
    "<div style=\"direction:rtl\">\n",
    "שימרו את המסמך המעודכן על ידי הקשה על צלמית הדיסקט  מצד שמאל למעלה, או שימוש בקיצור המקלדת ctrl+s.\n",
    "</div>"
   ]
  },
  {
   "cell_type": "markdown",
   "metadata": {},
   "source": [
    "<div style=\"direction:rtl\">\n",
    "<h3>\n",
    "סיכום היחידה:\n",
    "</h3>\n",
    "<ul>\n",
    "<li>\n",
    "ניתן לבצע קבוצת פקודות מספר רב של פעמים על ידי שימוש בלולאות.\n",
    "</li>\n",
    "<li>\n",
    "הלולאה הבסיסית ביותר בשפת פייתון היא לולאת for.\n",
    "לולאה זו מקבלת סדרה ושם של משתנה.\n",
    "עבור כל ערך בסדרה, היא מציבה אותו למשתנה ואז מבצעת את סדרת הפקודות שמופיעות מיד לאחר פקודת ה-for ומוזזות מעט ימינה.\n",
    "לדוגמא, אם x היא סדרת מספרים אז הלולאה הבאה תדפיס את אברי הסדרה אחד לאחר השני:\n",
    "</li>\n",
    "</ul>\n",
    "</div>\n",
    "\n",
    "    for i in x:\n",
    "        print(i)\n",
    "\n",
    "<div style=\"direction:rtl\">\n",
    "<ul>\n",
    "<li>\n",
    "ניתן לבצע סימולציות של תופעות פיסיקליות שונות באמצעות ביצוע לולאה בצעדי זמן קטנים ועדכון המשתנים הפיסיקליים בכל צעד זמן על פי חוקי הפיסיקה הבסיסיים.\n",
    "</li>\n",
    "<li>\n",
    "ניתן לעקוב אחר התפתחות הערכים השונים של הסימולציה על ידי הגדרת סדרות ושמירת ערכי הביניים בהן.\n",
    "</li>\n",
    "<li>\n",
    "בשיטה זו ניתן לעקוב אחר ההתפתחות בזמן של תנועה במספר מימדים, כמו גם אחר תופעות פיסיקליות אחרות.\n",
    "</li>\n",
    "</ul>\n",
    "</div>"
   ]
  },
  {
   "cell_type": "markdown",
   "metadata": {},
   "source": [
    "<div style=\"direction:rtl\">\n",
    "<h3>\n",
    "שגיאות נפוצות והודעות השגיאה שהן גורמות\n",
    "</h3>\n",
    "כל אחד מהתאים הבאים מכיל שגיאה. הריצו כל תא וצפו בפלט המתקבל עבור שגיאה זו.\n",
    "</div>"
   ]
  },
  {
   "cell_type": "markdown",
   "metadata": {},
   "source": [
    "<div style=\"direction:rtl\">\n",
    "ביצוע לולאה ללא הזזת שורת התוכן של הלולאה\n",
    "</div>"
   ]
  },
  {
   "cell_type": "code",
   "execution_count": null,
   "metadata": {
    "collapsed": false
   },
   "outputs": [],
   "source": [
    "x=arange(0,10,1)\n",
    "for i in x:\n",
    "print(i)"
   ]
  },
  {
   "cell_type": "markdown",
   "metadata": {},
   "source": [
    "<div style=\"direction:rtl\">\n",
    "הזזת שורה בקוד שלא במסגרת לולאה\n",
    "</div>"
   ]
  },
  {
   "cell_type": "code",
   "execution_count": null,
   "metadata": {
    "collapsed": false
   },
   "outputs": [],
   "source": [
    "x=5\n",
    "    print(x)"
   ]
  },
  {
   "cell_type": "markdown",
   "metadata": {},
   "source": [
    "<div style=\"direction:rtl\">\n",
    "נסיון להריץ לולאה על משתנה שאינו סדרה\n",
    "</div>"
   ]
  },
  {
   "cell_type": "code",
   "execution_count": null,
   "metadata": {
    "collapsed": false
   },
   "outputs": [],
   "source": [
    "x=5\n",
    "for i in x:\n",
    "    print(i)"
   ]
  },
  {
   "cell_type": "markdown",
   "metadata": {},
   "source": [
    "<div style=\"direction:rtl\">\n",
    "<h4>\n",
    "מזל טוב! סיימתם יחידה זו.\n",
    "</h4>\n",
    "</div>"
   ]
  }
 ],
 "metadata": {
  "kernelspec": {
   "display_name": "Python 3",
   "language": "python",
   "name": "python3"
  },
  "language_info": {
   "codemirror_mode": {
    "name": "ipython",
    "version": 3
   },
   "file_extension": ".py",
   "mimetype": "text/x-python",
   "name": "python",
   "nbconvert_exporter": "python",
   "pygments_lexer": "ipython3",
   "version": "3.5.1"
  }
 },
 "nbformat": 4,
 "nbformat_minor": 0
}
