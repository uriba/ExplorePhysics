{
 "cells": [
  {
   "cell_type": "markdown",
   "metadata": {},
   "source": [
    "# Exploring physics with python and jupyter notebook\n",
    "### Lesson 3, importing and manipulating data\n",
    "## Data from an experiment\n",
    "\n",
    "One of the main uses of python is to view, manipulate and analyze data. \n",
    "In order to work with data, we must first import it into variables. \n",
    "In this lesson we will learn how to enter data directly or import it from external files. In particular, we will learn how to import data from the video analysis application [Tracker](http://physlets.org/tracker/), from Microsoft Excel and from text files. \n",
    "\n",
    "First upload the pylab libraries by running the next code cell."
   ]
  },
  {
   "cell_type": "code",
   "execution_count": null,
   "metadata": {
    "collapsed": false
   },
   "outputs": [],
   "source": [
    "%pylab"
   ]
  },
  {
   "cell_type": "markdown",
   "metadata": {},
   "source": [
    "### Entering data by hand\n",
    "Perhaps the simplest way to enter data into jupyter notebook is to type it manually.\n",
    "Consider the following table of measured times and positions of a body moving on a straight line. \n",
    "\n",
    "| t[s]| x[m]|\n",
    "| ----| ----|\n",
    "| 0.1 | 1.1 |\n",
    "| 0.2 | 2.3 |\n",
    "| 0.3 | 4.5 |\n",
    "| 0.4 | 7.9 |\n",
    "| 0.5 |12.3 |\n",
    "\n",
    "We can create variables, say with names similar to the headers for convenience, and enter the data by hand by using the array command as done in the next code cell.\n"
   ]
  },
  {
   "cell_type": "code",
   "execution_count": null,
   "metadata": {
    "collapsed": false
   },
   "outputs": [],
   "source": [
    "t=array([0.1,0.2,0.3,0.4,0.5])\n",
    "x=array([1.1,2.3,4.5,7.9,12.3])"
   ]
  },
  {
   "cell_type": "markdown",
   "metadata": {},
   "source": [
    "Now we can plot the data, or perform other calculations on it.\n",
    "The following cell plots the data."
   ]
  },
  {
   "cell_type": "code",
   "execution_count": null,
   "metadata": {
    "collapsed": false
   },
   "outputs": [],
   "source": [
    "print('t=',t)\n",
    "print('x=',x)\n",
    "plot(t,x,'.')\n",
    "xlim(0,0.55)\n",
    "ylim(0,13)\n",
    "xlabel('t[s]')\n",
    "ylabel('x[m]')"
   ]
  },
  {
   "cell_type": "markdown",
   "metadata": {},
   "source": [
    "While the above way is simple and easy to understand, it may take a long time if there are many values to enter.\n",
    "A slightly better way is to select each column and use copy-paste. If you copy each column and paste it you get:"
   ]
  },
  {
   "cell_type": "code",
   "execution_count": null,
   "metadata": {
    "collapsed": false
   },
   "outputs": [],
   "source": [
    "0.1\n",
    "0.2\n",
    "0.3\n",
    "0.4\n",
    "0.5\n",
    "\n",
    "1.1\n",
    "2.3\n",
    "4.5\n",
    "7.9\n",
    "12.3\n"
   ]
  },
  {
   "cell_type": "markdown",
   "metadata": {},
   "source": [
    "Now, in order to enter these columns as arrays into variables, we can manually add the array commands, square brackets and commas as follows:"
   ]
  },
  {
   "cell_type": "code",
   "execution_count": null,
   "metadata": {
    "collapsed": false
   },
   "outputs": [],
   "source": [
    "t=array([     \n",
    "0.1,\n",
    "0.2,\n",
    "0.3,\n",
    "0.4,\n",
    "0.5\n",
    "])\n",
    "\n",
    "x=array([\n",
    "1.1,\n",
    "2.3,\n",
    "4.5,\n",
    "7.9,\n",
    "12.3\n",
    "        ])\n",
    "\n",
    "print('t=',t)\n",
    "print('x=',x)\n"
   ]
  },
  {
   "cell_type": "markdown",
   "metadata": {},
   "source": [
    "Note that we added commas after each value except for the last one."
   ]
  },
  {
   "cell_type": "markdown",
   "metadata": {},
   "source": [
    "This is a good time to point out that the command 'array' converts the list of numbers surrounded by square brackets to an array.\n",
    "In python, a list is a basic type that can contain, well, a list of values.\n",
    "An array is not a basic type (which is why we must run the %pylab command to import it), and it differs from list in a few important aspects:\n",
    "\n",
    "1. Arrays can only include numerical values, lists can include multiple values of other types.\n",
    "2. Arithmetic operations can be performed easily on arrays, but are not defined for lists (because lists may contain values that are not numerical).\n",
    "3. Arrays, once created, have a fixed size, whereas additional elements can be added to lists.\n",
    "\n",
    "When using python to perform scientific calculations we will almost always prefer arrays to lists, as we did thus far."
   ]
  },
  {
   "cell_type": "markdown",
   "metadata": {},
   "source": [
    "#### Exercise 1\n",
    "In the following code cell, assign the series of numbers of the following two columns to two variables, 't' and 'v'.\n",
    "Plot a graph of the values of v vs. the values of t.\n",
    "\n",
    "|t[s] |  \n",
    "| --  |\n",
    "| 10  |\n",
    "| 15  |\n",
    "| 25  |\n",
    "| 40  |\n",
    "\n",
    "|v[m/s]|\n",
    "| --   |\n",
    "| 12.5 |\n",
    "| 16.5 |\n",
    "| 20   |\n",
    "| 23.5 |"
   ]
  },
  {
   "cell_type": "code",
   "execution_count": null,
   "metadata": {
    "collapsed": false
   },
   "outputs": [],
   "source": []
  },
  {
   "cell_type": "markdown",
   "metadata": {},
   "source": [
    "### Importing small data sets from the Tracker software\n",
    "#### Exercise 2\n",
    "Download the video from [this link](https://anaconda.org/explorephysics/data-1/1/download/BallTossOut.mov) to your computer and open it using the Tracker software (this video is part of the sample videos included with the tracker software).\n",
    "Follow these steps to create a series of data points tracking the ball location in the first four frames of its motion, after leaving the thrower's hand:\n",
    "* Set the scale of the video by choosing 'Track -> New -> Calibration Tools -> Calibration Stick'.\n",
    "Drag the edges of the blue line to overlap the edges of the lighted vertical bar of the video. Note that the ticks on the lighted bar are spaced at 10[cm] intervals. Adjust the length of the blue line to be 1 meter long. Update the field 'calibration stick A length' that appears above the video window to a value of 1, ensuring displacement data is in meters.\n",
    "* create a new tracked object by clicking the 'Create' botton.\n",
    "* Find the time in the video from which you want to track the movement of the ball (the first frame at which the ball does not touch the hand of the thrower) by using the slider bar and arrows below the video.\n",
    "* Mark the location of the object by pressing 'shift' (changing the shape of the mouse pointer) and then clicking on the center of the ball.\n",
    "* Every time you click, the Tracker software will mark the location of the object and will automatically display the next frame of the video, allowing you to mark the location of the object in the new frame. Proceed to mark the location of the object up to the time point at which you wish to finish. For this exercise, 4 frames will suffice, but for the next exercises you will need to mark the location of the object in all the frames up to the time where it leaves the recorded area.\n",
    "* Save the file as it will be needed in the next exercises.\n",
    "* Note that in the lower right corner of the Tracker window there is now a table showing the values of the times and locations in the x and y axes of the ball.\n",
    "* Import the first four time values to an array named 't', the first four location values on the x axis to an array named 'x', and the first four y values to a variable named 'y'."
   ]
  },
  {
   "cell_type": "code",
   "execution_count": null,
   "metadata": {
    "collapsed": true
   },
   "outputs": [],
   "source": []
  },
  {
   "cell_type": "markdown",
   "metadata": {},
   "source": [
    "It is convenient to measure times with respect to the first time measurement.\n",
    "To do so, we create a new array, 'tc' and assign to it the time differences between each time measurement and the first time measurement:"
   ]
  },
  {
   "cell_type": "code",
   "execution_count": null,
   "metadata": {
    "collapsed": false
   },
   "outputs": [],
   "source": [
    "tc=t-t[0]\n",
    "print(tc)"
   ]
  },
  {
   "cell_type": "markdown",
   "metadata": {},
   "source": [
    "#### Exercise 3\n",
    "In the next cell we plot the location of the ball in the x axis versus the time.\n",
    "Given that the velocity of the ball in the x axis is constant, we expect the points to lie on a straight line of the form:\n",
    "$$ x(t)=x_0+v_xt$$\n",
    "In the code we assign the expected location of the ball, given the parameters x0 and vx, to the array xtheory.\n",
    "Guess or calculate the parameters x0 and vx and assign them.\n",
    "Execute the code and look at the plot of the straight line on the graph.\n",
    "Check whether the line approximately matches the ball location.\n",
    "Modify the values of x0 and vx to get a good match between the line and the points denoting the real locations of the ball."
   ]
  },
  {
   "cell_type": "code",
   "execution_count": null,
   "metadata": {
    "collapsed": false
   },
   "outputs": [],
   "source": [
    "x0=?\n",
    "vx=?\n",
    "\n",
    "xtheory=x0+vx*tc\n",
    "\n",
    "plot(tc,x,'o')\n",
    "plot(tc,xtheory)"
   ]
  },
  {
   "cell_type": "markdown",
   "metadata": {},
   "source": [
    "Repeat the same process for the locations of the ball in the y axis in the next code cell.\n",
    "Assume that during this time period the velocity is constant.\n",
    "Can you get a good match between the line and the points in this case as well?"
   ]
  },
  {
   "cell_type": "code",
   "execution_count": null,
   "metadata": {
    "collapsed": false
   },
   "outputs": [],
   "source": [
    "y0=?\n",
    "vy0=?\n",
    "ytheory=y0+vy0*tc\n",
    "\n",
    "plot(tc,y,'o')\n",
    "plot(tc,ytheory)"
   ]
  },
  {
   "cell_type": "markdown",
   "metadata": {},
   "source": [
    "Obviously, using cut-and-paste to import data is not scaleable and inefficient when we have many columns of data in a table, or when a table contains many rows.\n",
    "To efficiently import such data sets we can use python's data analysis library, 'pandas'."
   ]
  },
  {
   "cell_type": "markdown",
   "metadata": {},
   "source": [
    "### Method 2. Importing data sets from files\n",
    "To use the pandas library we must first load (or import) it.\n",
    "Run the next code cell to do so."
   ]
  },
  {
   "cell_type": "code",
   "execution_count": null,
   "metadata": {
    "collapsed": true
   },
   "outputs": [],
   "source": [
    "from pandas import *"
   ]
  },
  {
   "cell_type": "markdown",
   "metadata": {},
   "source": [
    "The pandas library contains commands to load .csv (comma-seperated-values) files and MicroSoft Excel (or any of its free alternatives) files.\n",
    "To create a .csv file using the Tracker program you must do the following steps:\n",
    "* If you closed the Tracker program at the end of the previous exercise, start it again now and open the file you saved.\n",
    "* Make sure that the location points you marked appear in the table in the lower right corner of the program window.\n",
    "* In the menu select 'File->Export->Data file'.\n",
    "* Make sure the 'Delimiter' field is set to 'Comma'.\n",
    "* Make sure the 'Cells' field is set to 'All Cells'.\n",
    "* Click 'Save As' and save the file to the folder at which you keep your jupyter notebook files.\n",
    "\n",
    "A file generated in this way is available in [this link](https://anaconda.org/explorephysics/data-1/1/download/ball.csv).\n",
    "If you did not generate your own data file, download this file and save it to the folder at which you keep your jupyter notebook files.\n",
    "We named the generated file 'ball.csv'.\n",
    "You can open this file using any text-editing program, such as notepad, to see its content.\n",
    "The next code cell loads the file to a variable named 'balldata' using the command 'read_csv'.\n",
    "The parameter 'header=1' directs pandas to ignore the first line in the file (which is referred to as line number 0) as the Tracker program stores in this line the name of the object that was tracked (in our case - 'mass_A').\n",
    "\n",
    "A complete description of the available options to the read_csv command can be found [here](http://pandas.pydata.org/pandas-docs/stable/generated/pandas.read_csv.html).\n",
    "\n",
    "After loading the data, the code prints the variable the data was assigned to.\n",
    "Execute the code now."
   ]
  },
  {
   "cell_type": "code",
   "execution_count": null,
   "metadata": {
    "collapsed": false,
    "scrolled": false
   },
   "outputs": [],
   "source": [
    "balldata=read_csv('ball.csv',header=1)\n",
    "print(balldata)"
   ]
  },
  {
   "cell_type": "markdown",
   "metadata": {},
   "source": [
    "As you can see, the read_csv command returnes a new kind of object, a table (called 'DataFrame' in pandas).\n",
    "To assign different columns from a table to an array we must run the following code:"
   ]
  },
  {
   "cell_type": "code",
   "execution_count": null,
   "metadata": {
    "collapsed": false,
    "scrolled": true
   },
   "outputs": [],
   "source": [
    "t=array(balldata['t'])\n",
    "print(t)"
   ]
  },
  {
   "cell_type": "markdown",
   "metadata": {},
   "source": [
    "In the code, the selection of the column from the DataFrame 'balldata' that will be assigned to the variable 't' is done using the syntax ['t'].\n",
    "Using this syntax one can select any of the columns of balldata.\n",
    "\n",
    "In order to see the list of all column names in a table, we can print the 'columns' field of the table, as is demonstrated in the following code cell."
   ]
  },
  {
   "cell_type": "code",
   "execution_count": null,
   "metadata": {
    "collapsed": true
   },
   "outputs": [],
   "source": [
    "print(balldata.columns)"
   ]
  },
  {
   "cell_type": "markdown",
   "metadata": {},
   "source": [
    "We will again measure time with respect to the first time measurement:"
   ]
  },
  {
   "cell_type": "code",
   "execution_count": null,
   "metadata": {
    "collapsed": true
   },
   "outputs": [],
   "source": [
    "tc=t-t[0]"
   ]
  },
  {
   "cell_type": "markdown",
   "metadata": {},
   "source": [
    "In the following code cell we assign the values of the column 'x' in balldata to a varaible named 'x'.\n",
    "We then plot a graph of points indicating the location of the ball on the x axis of motion versus time.\n",
    "Execute the code cell now."
   ]
  },
  {
   "cell_type": "code",
   "execution_count": null,
   "metadata": {
    "collapsed": false,
    "scrolled": true
   },
   "outputs": [],
   "source": [
    "x=array(balldata['x'])\n",
    "plot(tc,x,'.')"
   ]
  },
  {
   "cell_type": "markdown",
   "metadata": {},
   "source": [
    "#### Exercise 4\n",
    "Use the values you calculated in exercise 3 for the parameters x0 and vx in the equation of the line in the following code cell.\n",
    "Is the good fit we got for the first 4 locations preserved also for the following locations?"
   ]
  },
  {
   "cell_type": "code",
   "execution_count": null,
   "metadata": {
    "collapsed": false
   },
   "outputs": [],
   "source": [
    "xtheory=x0+vx*tc\n",
    "plot(tc,x,'o')\n",
    "plot(tc,xtheory)"
   ]
  },
  {
   "cell_type": "markdown",
   "metadata": {},
   "source": [
    "#### Exercise 5\n",
    "Assign the locations of the ball in the y axis, stored in the 'y' column of balldata, to a variable names 'y'.\n",
    "Plot a graph of the location of the ball in the y axis versus time."
   ]
  },
  {
   "cell_type": "code",
   "execution_count": null,
   "metadata": {
    "collapsed": false
   },
   "outputs": [],
   "source": []
  },
  {
   "cell_type": "markdown",
   "metadata": {},
   "source": [
    "#### Exercise 6\n",
    "Noting that the expected motion of the ball along the y axis should follow the laws of motion with constant acceleration, \n",
    "use the values of y0 and vy0 that you calculated based on the first 4 locations of the ball in the y axis and calculate the expected location of the ball during its motion.\n",
    "Compare the prediction to the measured location using the following code cell."
   ]
  },
  {
   "cell_type": "code",
   "execution_count": null,
   "metadata": {
    "collapsed": false,
    "scrolled": true
   },
   "outputs": [],
   "source": [
    "a=-9.8\n",
    "ytheory=y0+vy0*tc+a*tc**2/2\n",
    "\n",
    "plot(tc,y,'.')\n",
    "plot(tc,ytheory)"
   ]
  },
  {
   "cell_type": "markdown",
   "metadata": {},
   "source": [
    "Now, try to update the values of y0 and vy0 to get a better match  using the following code cell.\n",
    "Does the acceleration match the one expeced for a free body fall on earth?"
   ]
  },
  {
   "cell_type": "code",
   "execution_count": null,
   "metadata": {
    "collapsed": true
   },
   "outputs": [],
   "source": [
    "y0=?\n",
    "vy0=?\n",
    "a=-9.8\n",
    "ytheory=y0+vy0*tc+a*tc**2/2\n",
    "\n",
    "plot(tc,y,'.')\n",
    "plot(tc,ytheory)"
   ]
  },
  {
   "cell_type": "markdown",
   "metadata": {},
   "source": [
    "#### Exercise 7 - bonus task\n",
    "Plot a graph of the location of the ball in the y axis versus its location on the x axis"
   ]
  },
  {
   "cell_type": "markdown",
   "metadata": {},
   "source": [
    "<div style=\"direction:rtl\">\n",
    "<h4>\n",
    "משימה 7 - משימת בונוס\n",
    "</h4>\n",
    "כעת שרטטו את גרף המיקום של הכדור בציר y כנגד מיקומו בציר x.\n",
    "נסו להתאים פרבולה למסלול תנועת הכדור.\n",
    "מהם המקדמים שקיבלתם?\n",
    "מה משמעותם הפיסיקלית?\n",
    "האם זה מתאים לתוצאות מהמשימות הקודמות?\n",
    "</div>"
   ]
  },
  {
   "cell_type": "code",
   "execution_count": null,
   "metadata": {
    "collapsed": true
   },
   "outputs": [],
   "source": []
  },
  {
   "cell_type": "markdown",
   "metadata": {},
   "source": [
    "<div style=\"direction:rtl\">\n",
    "<h3>\n",
    "ייבוא נתונים מקבצי אקסל\n",
    "</h3>\n",
    "קיימות שתי אפשרויות לייבא טבלאות מקבצי אקסל.\n",
    "<ol>\n",
    "<li>\n",
    "לייצא את הטבלא מתוכנת האקסל לקובץ csv ולהשתמש באותה השיטה בה עשינו שימוש לעיל.\n",
    "במקרה זה יש לקבוע את הפרמטר header כך שיורה לפקודה read_csv מהי השורה בקובץ המכילה את כותרות התאים.\n",
    "<br>\n",
    "יש לוודא בעת שמירת הקובץ באקסל שהשדות השונים מופרדים באמצעות פסיקים ולא באמצעות תו אחר.\n",
    "ניתן לצפות בקובץ שנוצר באמצעות notepad על מנת לוודא שתוכנו תואם לציפיות.\n",
    "</li>\n",
    "<li>\n",
    "ספריית pandas מכילה פונקציה בשם read_excel אשר מאפשרת קריאה ישירה של קבצי אקסל.\n",
    "פקודה זו מקבלת את שם הקובץ, ומאפשרת קריאה של חלק מוגדר מתוך הקובץ (גליון מסוים, טווח שורות מסוים וכו').\n",
    "תאור מלא של אפשרויות השימוש בפקודה זו מצוי\n",
    "<a href=\"http://pandas.pydata.org/pandas-docs/stable/generated/pandas.read_excel.html\">\n",
    "בקישור הזה\n",
    "</a>\n",
    ".\n",
    "</li>\n",
    "</ol>\n",
    "</div>"
   ]
  },
  {
   "cell_type": "markdown",
   "metadata": {},
   "source": [
    "<div style=\"direction:rtl\">\n",
    "<h3>\n",
    "סיכום היחידה:\n",
    "</h3>\n",
    "<ul>\n",
    "<li>\n",
    "ניתן לייבא מספר קטן של נתונים באמצעות גזירה והדבקה של טקסט.\n",
    "</li>\n",
    "<li>\n",
    "בשיטה זו חשוב להוסיף פסיקים בין הנתונים ידנית ולהקיף את כל סדרת הנתונים בסוגריים מרובעים, [].\n",
    "הפקודה array מציינת לפייתון שעליו להתייחס לרשימת הערכים כסדרה.\n",
    "</li>\n",
    "<li>\n",
    "על מנת לייבא כמות גדולה יותר של נתונים יש להשתמש בספריית pandas.\n",
    "טעינת הספרייה מתבצעת באמצעות הפקודה:\n",
    "* from pandas import \n",
    "</li>\n",
    "<li>\n",
    "ספריית pandas מכילה את הפקודה read_csv לטעינת נתונים מקובץ טקסט.\n",
    "אם קובץ הטקסט יוצר על ידי תוכנת Tracker יש לציין בפקודה header=1 על מנת לדלג על השורה הראשונה בקובץ.\n",
    "</li>\n",
    "<li>\n",
    "פקודת read_csv מחזירה משתנה מסוג חדש - טבלא.\n",
    "</li>\n",
    "<li>\n",
    "שמות העמודות בטבלא בשם abc נתונות בשדה columns.\n",
    "ניתן להדפיסם באמצעות הפקודה\n",
    "(print(abc.columns \n",
    "</li>\n",
    "<li>\n",
    "על מנת ליצור סדרה בשם efg מטור הערכים שבעמודה בשם foo בטבלא abc יש לבצע את הפקודה:\n",
    "(['efg=array(abc['foo\n",
    "</li>\n",
    "<li>\n",
    "ניתן לבצע התאמה ידנית של מודל פיסיקלי לנתוני ניסוי בדרך של ניסוי וטעייה על ידי שרטוט הגרפים של נתוני הניסוי לעומת המודל והתאמת הפרמטרים של המודל להשגת חפיפה בין השניים.\n",
    "</li>\n",
    "</ul>\n",
    "</div>"
   ]
  },
  {
   "cell_type": "markdown",
   "metadata": {},
   "source": [
    "<div style=\"direction:rtl\">\n",
    "<h3>\n",
    "שגיאות נפוצות והודעות השגיאה שהן גורמות\n",
    "</h3>\n",
    "כל אחד מהתאים הבאים מכיל שגיאה. הריצו כל תא וצפו בפלט המתקבל עבור שגיאה זו.\n",
    "</div>"
   ]
  },
  {
   "cell_type": "markdown",
   "metadata": {},
   "source": [
    "<div style=\"direction:rtl\">\n",
    "השמטת פסיקים בין ערכי רשימה או סדרה\n",
    "</div>"
   ]
  },
  {
   "cell_type": "code",
   "execution_count": null,
   "metadata": {
    "collapsed": false,
    "scrolled": true
   },
   "outputs": [],
   "source": [
    "x=[\n",
    "    10,\n",
    "    20\n",
    "    30\n",
    "]"
   ]
  },
  {
   "cell_type": "markdown",
   "metadata": {},
   "source": [
    "<div style=\"direction:rtl\">\n",
    "השמטת סוגריים מרובעים מרשימה ונסיון ליצור ממנה סדרה\n",
    "</div>"
   ]
  },
  {
   "cell_type": "code",
   "execution_count": null,
   "metadata": {
    "collapsed": false
   },
   "outputs": [],
   "source": [
    "x=array(\n",
    "1,2,3\n",
    ")"
   ]
  },
  {
   "cell_type": "markdown",
   "metadata": {},
   "source": [
    "<div style=\"direction:rtl\">\n",
    "גישה לקובץ שאינו קיים\n",
    "</div>"
   ]
  },
  {
   "cell_type": "code",
   "execution_count": null,
   "metadata": {
    "collapsed": false
   },
   "outputs": [],
   "source": [
    "x=read_csv('abc.csv')"
   ]
  },
  {
   "cell_type": "markdown",
   "metadata": {},
   "source": [
    "<div style=\"direction:rtl\">\n",
    "גישה לטור שאינו קיים בטבלא\n",
    "</div>"
   ]
  },
  {
   "cell_type": "code",
   "execution_count": null,
   "metadata": {
    "collapsed": false
   },
   "outputs": [],
   "source": [
    "abc=read_csv('ball.csv',header=1)\n",
    "x=abc['foo']"
   ]
  },
  {
   "cell_type": "markdown",
   "metadata": {},
   "source": [
    "<div style=\"direction:rtl\">\n",
    "<h4>\n",
    "מזל טוב! סיימתם יחידה זו.\n",
    "</h4>\n",
    "</div>"
   ]
  }
 ],
 "metadata": {
  "kernelspec": {
   "display_name": "Python 3",
   "language": "python",
   "name": "python3"
  },
  "language_info": {
   "codemirror_mode": {
    "name": "ipython",
    "version": 3
   },
   "file_extension": ".py",
   "mimetype": "text/x-python",
   "name": "python",
   "nbconvert_exporter": "python",
   "pygments_lexer": "ipython3",
   "version": "3.5.1"
  }
 },
 "nbformat": 4,
 "nbformat_minor": 0
}
