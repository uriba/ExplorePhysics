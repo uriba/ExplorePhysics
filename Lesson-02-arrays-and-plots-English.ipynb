{
 "cells": [
  {
   "cell_type": "markdown",
   "metadata": {},
   "source": [
    "# Exploring physics with python and jupyter notebook\n",
    "\n",
    "\n",
    "### Lesson 2, arrays and plots\n",
    "\n",
    "\n",
    "## arrays\n",
    "\n",
    "In order to create arrays and plots we have to first upload the pylab libraries using the command %pylab. "
   ]
  },
  {
   "cell_type": "code",
   "execution_count": null,
   "metadata": {
    "collapsed": false,
    "scrolled": true
   },
   "outputs": [],
   "source": [
    "%pylab"
   ]
  },
  {
   "cell_type": "markdown",
   "metadata": {},
   "source": [
    "Variables can contain different kinds of values.\n",
    "So far, variables contained a single numerical value.\n",
    "The %pylab extension allows us to create variables that contain series of numbers (arrays) on which we can easily perform mathematical operations.\n",
    "Run the cell below and examine the output."
   ]
  },
  {
   "cell_type": "code",
   "execution_count": null,
   "metadata": {
    "collapsed": false,
    "scrolled": true
   },
   "outputs": [],
   "source": [
    "x=arange(0,10,0.5)\n",
    "print(x)"
   ]
  },
  {
   "cell_type": "markdown",
   "metadata": {},
   "source": [
    "In this cell, the function 'arange' is used.\n",
    "This function returns an arithmetic series of numbers.\n",
    "The function accepts three parameters:\n",
    "the start value, the end value and the step size of the series.\n",
    "Note that the end value itself is not included in the series.\n",
    "The series is stored in the variable x.\n",
    "\n",
    "#### Exercise 1\n",
    "Change the code above to make x contain a series that stars at -1, goes up in steps of 0.1 and has a last value equal to 1.0.\n",
    "Run your code.\n",
    "Does x contain the value 1.0 or does it stop at 0.9? If it stops at 0.9, change it so that the last value will be 1.0."
   ]
  },
  {
   "cell_type": "markdown",
   "metadata": {},
   "source": [
    "### Accessing elements in an array.\n",
    "In order to use or change the value of a specific element in an array we specify the element location in square brackets, following the array name.\n",
    "\n",
    "Run the code in the cell below and try to make sense of the output.\n",
    "Then read the explanation below."
   ]
  },
  {
   "cell_type": "code",
   "execution_count": null,
   "metadata": {
    "collapsed": false
   },
   "outputs": [],
   "source": [
    "x=arange(0,10,0.5)\n",
    "print(x[2])\n",
    "print(x[-1])\n",
    "print(x[19])\n",
    "x[2]=4\n",
    "print(x[2])"
   ]
  },
  {
   "cell_type": "markdown",
   "metadata": {},
   "source": [
    "As you probably figured out, the first element is [0], the second is [1] and so forth. If the array contains n elements, the last element is accessed using [n-1]. Elements can be accessed from the end backwards using negative integers with [-1] being the last element, [-2] the second from the end and so forth."
   ]
  },
  {
   "cell_type": "markdown",
   "metadata": {},
   "source": [
    "#### Exercise 2\n",
    "\n",
    "Create an array that contains the 20 numbers 1,2,3,...,20. \n",
    "Replace the number 10 in this array with the number 100, and print the updated array."
   ]
  },
  {
   "cell_type": "code",
   "execution_count": null,
   "metadata": {
    "collapsed": true
   },
   "outputs": [],
   "source": []
  },
  {
   "cell_type": "markdown",
   "metadata": {},
   "source": [
    "### Accessing a range of elements in an array.\n",
    "The symbol ':' is used to access a range of elements in an array.\n",
    "Run the code in the cell below to see how this works."
   ]
  },
  {
   "cell_type": "code",
   "execution_count": null,
   "metadata": {
    "collapsed": false
   },
   "outputs": [],
   "source": [
    "x=arange(0,3.5,0.5)\n",
    "print(\"all of x is:\",x)\n",
    "print(\"x at places [2:4] is:\",x[2:4])\n",
    "\n",
    "print(\"x at [:4] is:\",x[:4])\n",
    "\n",
    "print(\"and x at [4:] is:\",x[4:])\n",
    "print(\"but x at [4:-1] is only:\",x[4:-1])\n",
    "\n",
    "print(\"x[:] is the same as all of x:\",x[:])\n",
    "\n",
    "y=x[2:5]\n",
    "print(\"y is the subset [2:5] of x:\",y)\n",
    "\n",
    "x[2:4]=3\n",
    "print(\"when assigning x[2:4]=3 this is what happens to x:\",x)"
   ]
  },
  {
   "cell_type": "markdown",
   "metadata": {},
   "source": [
    "As you can see, by writing  [a:b] where a and b are two integers, we access the range starting at 'a' and ending at 'b-1' in the array.\n",
    "If we use one integer and write [a:], we get the elements from a to the end of the array.\n",
    "[:b], gives all elements up to b-1.\n",
    "A range in an array can be assigned a single value easily as was done using 'x[2:4]=3' in this example."
   ]
  },
  {
   "cell_type": "markdown",
   "metadata": {},
   "source": [
    "### Mathematical operations on arrays\n",
    "Examine the code below, try to guess what will be the output and run it."
   ]
  },
  {
   "cell_type": "code",
   "execution_count": null,
   "metadata": {
    "collapsed": false
   },
   "outputs": [],
   "source": [
    "x=arange(0,5,1)\n",
    "y=2*x\n",
    "print(\"x is:\",x)\n",
    "print(\"y is:\",y)\n",
    "print(\"x*y is:\",x*y)"
   ]
  },
  {
   "cell_type": "markdown",
   "metadata": {},
   "source": [
    "As you can see, performing mathematical operations on arrays works on each element separately.\n",
    "In the cell above, x is an array of the numbers 0 to 4.\n",
    "The second line assigns twice x to y.\n",
    "y is created as a new array in which each element is twice the corresponding element in x.\n",
    "Calculating x times y in the last line prints an array in which each element is the multiplication result of the corresponding elements in x and y.\n",
    "Note that when performing an operation that combines two arrays such as multiplication or addition, the two arrays must be of the same size. \n",
    "Try the following code which violates this requirement and read the error message."
   ]
  },
  {
   "cell_type": "code",
   "execution_count": null,
   "metadata": {
    "collapsed": false
   },
   "outputs": [],
   "source": [
    "x=arange(0,5,1)\n",
    "y=arange(0,6,1)\n",
    "print(x+y)"
   ]
  },
  {
   "cell_type": "markdown",
   "metadata": {},
   "source": [
    "#### Exercise 3\n",
    "Write code below to print the squares of the numbers 1 to 10 (i.e. the code should print the array 1,4,9,...,81,100).\n"
   ]
  },
  {
   "cell_type": "code",
   "execution_count": null,
   "metadata": {
    "collapsed": false,
    "scrolled": true
   },
   "outputs": [],
   "source": []
  },
  {
   "cell_type": "markdown",
   "metadata": {},
   "source": [
    "### Additional ways to create arrays\n",
    "In addition to the function 'arange' there are three other common functions which are used to create arrays, 'zeros', 'ones' and 'array'.\n",
    "Run the code below to see how these work and read the explanation that follows."
   ]
  },
  {
   "cell_type": "code",
   "execution_count": null,
   "metadata": {
    "collapsed": false
   },
   "outputs": [],
   "source": [
    "x=zeros(5)\n",
    "y=ones(10)\n",
    "z=array([3,4,6,7])\n",
    "a=arange(0,10)\n",
    "b=arange(10)\n",
    "\n",
    "print(\"x is:\",x)\n",
    "print(\"y is:\",y)\n",
    "print(\"and z is:\",z)\n",
    "print(\"a is:\",a)\n",
    "print(\"and b is:\",b)"
   ]
  },
  {
   "cell_type": "markdown",
   "metadata": {},
   "source": [
    "The functions 'zeros' and 'ones' create arrays that contain only zeros or ones respectively. \n",
    "The function 'array', allows us to create an array of any set of numbers we like.\n",
    "Note the new use of the function 'arange': by omitting the step size, the default step of 1 is used;\n",
    "By omitting the start value, the default start value of 0 is used. "
   ]
  },
  {
   "cell_type": "markdown",
   "metadata": {},
   "source": [
    "### Basic operations on arrays\n",
    "The commands in the code cell below are useful when working with arrays.\n",
    "Run the code and read the explanation that follows."
   ]
  },
  {
   "cell_type": "code",
   "execution_count": null,
   "metadata": {
    "collapsed": true
   },
   "outputs": [],
   "source": [
    "x=array([3,4,1,7,6])\n",
    "n=len(x)\n",
    "mx=max(x)\n",
    "mn=min(x)\n",
    "s=sum(x)\n",
    "\n",
    "print(\"the number of elements in x is:\",n)\n",
    "print(\"the maximal value in x is:\",mx)\n",
    "print(\"the minimal value in x is:\",mn)\n",
    "print(\"and the sum of the values in x is:\",s)"
   ]
  },
  {
   "cell_type": "markdown",
   "metadata": {},
   "source": [
    "The command 'len' allows us to find the number of elements in an array. 'min' and 'max' return the minimal and maximal values in the array respectively. The command 'sum' returns the sum of the elements in the array."
   ]
  },
  {
   "cell_type": "markdown",
   "metadata": {
    "collapsed": true
   },
   "source": [
    "#### Exercise  4\n",
    "Change the code below so that it creates an array with 30 zeros and print it.\n",
    "In addition, the code should create another array that contains the arithmetic series that starts with 0, has a step size of 0.66 and ends before 10. Print the length of this array."
   ]
  },
  {
   "cell_type": "code",
   "execution_count": null,
   "metadata": {
    "collapsed": true
   },
   "outputs": [],
   "source": []
  },
  {
   "cell_type": "markdown",
   "metadata": {},
   "source": [
    "## Creating plots\n",
    "Graphs can be made using pylab's 'plot' command. \n",
    "Run the code below to create a simple plot.\n",
    "If you do not see the plot, it may be because the new window is hidden behind the window of the browser.\n",
    "In such case simply minimize the browser window to see it."
   ]
  },
  {
   "cell_type": "code",
   "execution_count": null,
   "metadata": {
    "collapsed": false
   },
   "outputs": [],
   "source": [
    "x=arange(0,10,1)\n",
    "y=5*x+2\n",
    "plot(x,y,'.')"
   ]
  },
  {
   "cell_type": "markdown",
   "metadata": {},
   "source": [
    "In order to create a plot we need to provide the x and y values of the curve to be drawn.\n",
    "In the cell above, the first line creats a variable 'x' with the array of numbers 0,1,2... 9 while the second line creats a variable 'y' by assinging the result of the expression $$5x+2$$\n",
    "The third line calls the 'plot' command using the variable x as the x values, the variable y as the y values and a string '.' which sets the type of curve. The choice '.' implies a dot for each data point. \n",
    "Close the window with the plot and run the next cell."
   ]
  },
  {
   "cell_type": "code",
   "execution_count": null,
   "metadata": {
    "collapsed": true
   },
   "outputs": [],
   "source": [
    "plot(y,x,'.')"
   ]
  },
  {
   "cell_type": "markdown",
   "metadata": {},
   "source": [
    "As you can see, the order rather than the name of the variables sets which variable refers to the x values and which to the y values (first is x second is y). Close the plot window and try:"
   ]
  },
  {
   "cell_type": "code",
   "execution_count": null,
   "metadata": {
    "collapsed": true
   },
   "outputs": [],
   "source": [
    "plot(x,y)"
   ]
  },
  {
   "cell_type": "markdown",
   "metadata": {},
   "source": [
    "As can be seen, if the type of curve is not specified, the default type, which is a solid line, is used."
   ]
  },
  {
   "cell_type": "markdown",
   "metadata": {},
   "source": [
    "#### Exercise  5 \n",
    "Write a code that plots the function \n",
    "$$ x^2-5x-3 $$\n",
    "for x in the range 0-3. First create a variable 'x' with values in this range (with steps of say 0.1). Then create a variable 'y' using this function and finally use the 'plot' command. Do not specify the type of curve so that a solid line is obtained."
   ]
  },
  {
   "cell_type": "markdown",
   "metadata": {},
   "source": [
    "<h3>\n",
    "Controling the properties of the curves.\n",
    "</h3>\n",
    "Markers other than dot include '\\*', 'x', 'o' and others.\n",
    "Plot colors can be speficied by a letter like in the next cell (r stands for red, and b for blue)"
   ]
  },
  {
   "cell_type": "code",
   "execution_count": null,
   "metadata": {
    "collapsed": false
   },
   "outputs": [],
   "source": [
    "alpha=arange(0,5,0.1)\n",
    "plot(alpha,cos(alpha),'bo')\n",
    "plot(alpha,sin(alpha),'rx')"
   ]
  },
  {
   "cell_type": "markdown",
   "metadata": {},
   "source": [
    "The letters for the basic colors are b(blue), r(red), g(green), y(yellow), c(cyan), m(magenta) and k(black). \n",
    "\n",
    "All plot options are described in \n",
    "[this link](http://matplotlib.org/api/pyplot_api.html#matplotlib.pyplot.plot).\n",
    "Run the following cells to see a few options and read below."
   ]
  },
  {
   "cell_type": "code",
   "execution_count": null,
   "metadata": {
    "collapsed": false,
    "scrolled": true
   },
   "outputs": [],
   "source": [
    "x=arange(0.1,10,0.5)\n",
    "y1=2*x\n",
    "y2=x**2\n",
    "y3=10/x\n",
    "y4=10*sin(x)\n",
    "plot(x,y1,'bo')\n",
    "plot(x,y2,'rx')\n",
    "plot(x,y3,'m')\n",
    "plot(x,y4,'c--')"
   ]
  },
  {
   "cell_type": "markdown",
   "metadata": {},
   "source": [
    "When several plot commands are executed in a row in the same cell, the resulting curves appear on the same axis. Python automatically sets the scale of the axis in order that all points are shown.\n",
    "In order to create a new window for plots, the command 'figure' can be used. Run the next code cell and examine the resulting windows."
   ]
  },
  {
   "cell_type": "code",
   "execution_count": null,
   "metadata": {
    "collapsed": true
   },
   "outputs": [],
   "source": [
    "x=arange(0,10,0.1)\n",
    "y1=sin(x)\n",
    "y2=cos(x)\n",
    "plot(x,y1,'.')\n",
    "figure()\n",
    "plot(x,y2,'.')"
   ]
  },
  {
   "cell_type": "markdown",
   "metadata": {},
   "source": [
    "### Controling additional attributes of plots\n",
    "There are additional commands that affect the final outcome of a figure.\n",
    "Run the next code cell and examine the result."
   ]
  },
  {
   "cell_type": "code",
   "execution_count": null,
   "metadata": {
    "collapsed": false
   },
   "outputs": [],
   "source": [
    "x=arange(0.1,10,0.5)\n",
    "y1=2*x\n",
    "y2=x**2\n",
    "y3=10/x\n",
    "y4=10*sin(x)\n",
    "\n",
    "plot(x,y1,'bo')\n",
    "plot(x,y2,'rx')\n",
    "plot(x,y3,'m')\n",
    "plot(x,y4,'c--')\n",
    "\n",
    "suptitle('title of the plot') #Sets the title of the plot\n",
    "\n",
    "xlabel('values on x')\n",
    "ylabel('values on y')\n",
    "\n",
    "xlim(-1,8) # Sets the minimum and maximum values of the x axis\n",
    "ylim(-30,30) # Sets the minimum and maximum values of the y axis"
   ]
  },
  {
   "cell_type": "markdown",
   "metadata": {},
   "source": [
    "You can learn more about ways to create and manipulate plots by looking at examples [in this link](http://matplotlib.org/gallery.html)."
   ]
  },
  {
   "cell_type": "markdown",
   "metadata": {
    "collapsed": true
   },
   "source": [
    "#### Exercise  6\n",
    "Create a plot of the function cos(x) in the range $-1<x<5$. Use a green dashed line and add a title and labels to the x and y axis."
   ]
  },
  {
   "cell_type": "markdown",
   "metadata": {},
   "source": [
    "Save the document using the save button in the toolbox at the top or using ctrl+s on the keyboard."
   ]
  },
  {
   "cell_type": "markdown",
   "metadata": {},
   "source": [
    "### Summary\n",
    "* In addition to single numerical values, variables can store arrays.\n",
    "* Mathematical operations can be performed on arrays. In such cases they operate element by element.\n",
    "* There are several ways to create arrays: arange(start,end,step) creates a series with equal steps, zeros(n) and ones(n) create arrays with n zeros and ones respectively. array([a,b,c,d]) creates an array of any length using any set of numbers.\n",
    "* len(A) returns the length of the array A.\n",
    "* Elements in an array are accessed with square brackets. The first element of an array A is A[0], the second A[1] and so on. A[-1] is the last element, A[-2] is the second last etc. A[3:6] is an array with elements A[3],A[4], A[5]. A[2:] is an array with elements from A[2] to the end. A[:5] are all the elements up to but not including A[5].\n",
    "* Graphs can be made using the 'plot' command. If a and b are arrays of equal length, then plot(a,b) will plot b vs a.\n",
    "* The markers and line styles of curves can be set by adding a string: plot(a,b,'r.') will have red dots, while plot(a,b,'b') will plot the curve with a solid blue line.\n",
    "* The basic colors are b-blue, r-red, g-green, y-yellow, c-cyan, m-magenta, k-black, w-white\n",
    "* A few useful marker types are: '.', 'o', 'x', '\\*'.\n",
    "* The title can be set by the command suptitle('distance as function of time'), the x and y labels by xlabel('time in seconds') and ylabel('distance in meters').\n",
    "* The range of x and y values shown in the plot can be set by xlim(xmin,xmax) and ylim(ymin,ymax).\n",
    "* The figure() command creates a new, empty figure for upcoming plot commands."
   ]
  },
  {
   "cell_type": "markdown",
   "metadata": {},
   "source": [
    "### Common Errors\n",
    "Each of the following cells contains an error. Run each cell and note the error message that is created."
   ]
  },
  {
   "cell_type": "markdown",
   "metadata": {},
   "source": [
    "Trying to access an element that doesn't exist."
   ]
  },
  {
   "cell_type": "code",
   "execution_count": null,
   "metadata": {
    "collapsed": false
   },
   "outputs": [],
   "source": [
    "x=zeros(10)\n",
    "print(x[10])"
   ]
  },
  {
   "cell_type": "markdown",
   "metadata": {},
   "source": [
    "Trying to perform a mathematical operation that involves two arrays with different lengths."
   ]
  },
  {
   "cell_type": "code",
   "execution_count": null,
   "metadata": {
    "collapsed": false
   },
   "outputs": [],
   "source": [
    "x=ones(3)\n",
    "y=ones(5)\n",
    "print(x+y)"
   ]
  },
  {
   "cell_type": "markdown",
   "metadata": {},
   "source": [
    "Using inappropriate values for a given function (here negative values in sqare root)."
   ]
  },
  {
   "cell_type": "code",
   "execution_count": null,
   "metadata": {
    "collapsed": false,
    "scrolled": true
   },
   "outputs": [],
   "source": [
    "x=arange(-1,1,0.1)\n",
    "print(sqrt(x))"
   ]
  },
  {
   "cell_type": "markdown",
   "metadata": {},
   "source": [
    "Trying to access a range of elements which goes beyond end of the array. Note how Python responds!"
   ]
  },
  {
   "cell_type": "code",
   "execution_count": null,
   "metadata": {
    "collapsed": false,
    "scrolled": true
   },
   "outputs": [],
   "source": [
    "x=arange(0,10,1)\n",
    "print(x[2:11])"
   ]
  },
  {
   "cell_type": "markdown",
   "metadata": {},
   "source": [
    "Trying to create a plot with arrays having different lengths."
   ]
  },
  {
   "cell_type": "code",
   "execution_count": null,
   "metadata": {
    "collapsed": false
   },
   "outputs": [],
   "source": [
    "x=arange(0,10,1)\n",
    "y=ones(len(x)-1)\n",
    "plot(x,y)"
   ]
  },
  {
   "cell_type": "markdown",
   "metadata": {},
   "source": [
    "_Congratulations, you've finished lesson 2_"
   ]
  }
 ],
 "metadata": {
  "anaconda-cloud": {},
  "kernelspec": {
   "display_name": "Python 3",
   "language": "python",
   "name": "python3"
  },
  "language_info": {
   "codemirror_mode": {
    "name": "ipython",
    "version": 3
   },
   "file_extension": ".py",
   "mimetype": "text/x-python",
   "name": "python",
   "nbconvert_exporter": "python",
   "pygments_lexer": "ipython3",
   "version": "3.5.1"
  }
 },
 "nbformat": 4,
 "nbformat_minor": 0
}
