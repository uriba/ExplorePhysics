{
 "cells": [
  {
   "cell_type": "markdown",
   "metadata": {},
   "source": [
    "<div style=\"direction:rtl\">\n",
    "<H1>\n",
    "השתלמות בחישובים נומריים למורי פיסיקה חקר\n",
    "</H1>\n",
    "</div>"
   ]
  },
  {
   "cell_type": "markdown",
   "metadata": {},
   "source": [
    "<div style=\"direction:rtl\">\n",
    "<H2>\n",
    "יחידה 1, מבוא\n",
    "</H2>\n",
    "\n",
    "<H2>\n",
    "מבוא להכרת כלי החישוב - jupyter notebook\n",
    "</H2>\n",
    "</div>"
   ]
  },
  {
   "cell_type": "markdown",
   "metadata": {},
   "source": [
    "<div style=\"direction:rtl\">\n",
    "&nbsp;\n",
    "ברוכים הבאים לסביבת jupyter notebook. זוהי סביבת תכנות המאפשרת לנו לבצע חישובים שונים באמצעות שפת תכנות נוחה הנקראת python. בפעילות זו נלמד כיצד מתקינים את סביבת העבודה, כיצד מפעילים אותה, ונתחיל ללמוד כיצד להשתמש בה. \n",
    "\n",
    "\n",
    "<H3>\n",
    "התקנת התוכנה\n",
    "</H3>\n",
    "\n",
    "&nbsp;\n",
    "על מנת להתחיל להשתמש בסביבה יש להוריד ולהתקין את התוכנה על המחשב.\n",
    "ישנן מספר דרכים להתקין את jupyter notebook כאשר הפשוטה ביותר היא באמצעות התקנת חבילת anaconda\n",
    "<a href=\"https://www.continuum.io/downloads\">\n",
    "מהקישור הזה\n",
    "</a>\n",
    ".\n",
    "<ul>\n",
    "<li>\n",
    " יש לבחור את גרסת python 3.5, ואת מערכת ההפעלה המתאימה (לרוב windows 64). מומלץ להתקין עם ברירות המחדל של ההתקנה.\n",
    "</li>\n",
    "<li>\n",
    "לאחר ההתקנה ניתן לחפש בתפריט 'התחל'\\start את 'jupyter notebook' ולהריץ את התוכנה.\n",
    "</li>\n",
    "<li>\n",
    "לאחר ההרצה יפתח טאב חדש בדפדפן האינטרנט ובו יופיע תוכן ספריית הבית של המשתמש. אם חשוב לכם להפריד את הקבצים של ההשתלמות משאר הקבצים שלכם אתם יכולים ליצור ספרייה חדשה ע״י לחיצה על New, שמופיע בצד ימין למעלה, ואז Folder.\n",
    "תיווצר ספרייה חדשה בשם Untitled Folder.\n",
    "ניתן לשנות את שם הספריה על ידי הקלקה על הריבוע שמשמאל לה ואז לחיצה על כפתור Rename מצד שמאל למעלה.\n",
    "כדאי לבחור שמות באנגלית. \n",
    "<li>\n",
    "אם אתם קוראים מסמך זה מאתר האינטרנט של השתלמות המורים ב-anaconda הקליקו על 'Download' מצד ימין למעלה ושמרו את הקובץ (אם יצרתם ספרייה חדשה אז שמרו לספרייה).\n",
    "</li>\n",
    "<li>\n",
    "כעת, פתחו את הקובץ החדש מתוך ה-jupiter notebook. בדפדפן תיפתח לשונית חדשה ובה מסמך זה. המשיכו את הפעילות מתוך המסמך שעל המחשב שלכם. מומלץ לסגור את העמוד הנוכחי בכדי שלא תתבלבלו.\n",
    "</li>\n",
    "</ul>\n",
    "מעתה כאשר אתם עובדים על משימות בהשתלמות, ראשית הורידו את המסמכים למחשב ופתחו אותם מתוך ה-jupiter notebook.\n",
    "אין אפשרות לבצע את המשימות ישירות מהאינטרנט.\n",
    "</div>"
   ]
  },
  {
   "cell_type": "markdown",
   "metadata": {},
   "source": [
    "<div style=\"direction:rtl\">\n",
    "<h3>\n",
    "המבנה הבסיסי של מסמכים ב-jupyter notebook\n",
    "</h3>\n",
    "כל מסמך ב-jupyter notebook בנוי מתאים.\n",
    "ישנם שלושה סוגי תאים:\n",
    "<ul>\n",
    "<li>\n",
    "תאים המכילים טקסט, כמו תא זה.\n",
    "תאים אלו הם בעלי רקע לבן.\n",
    "</li>\n",
    "<li>\n",
    "תאים המכילים קוד, כמו התא שמופיע מעט מתחת לטקסט זה. תאים אלו מסומנים בסימון\n",
    ":[]In\n",
    "</li>\n",
    "<li>\n",
    "תאים המכילים פלט של קוד.\n",
    "תאים אלו מסומנים ב\n",
    ":[]Out\n",
    "ומופיעים רק אחרי תאי קוד.\n",
    "</li>\n",
    "</ul>\n",
    "<H3>\n",
    "נסיון ראשון - שימוש בתוכנה כמחשבון בסיסי\n",
    "</H3>\n",
    "\n",
    "שימו לב לתא האפור שנמצא מעט למטה ובתוכו רשום \n",
    "5/(3+7)*2.\n",
    "\n",
    "להבדיל מהטסקט שקראתם עד עכשיו ברקע לבן,\n",
    "התאים האפורים מאפשרים להריץ חישובים ושורות קוד.\n",
    "\n",
    "לחצו על התא האפור ואז לחצו shift+enter והמשיכו לקרוא למטה.\n",
    "</div>"
   ]
  },
  {
   "cell_type": "code",
   "execution_count": null,
   "metadata": {
    "collapsed": false
   },
   "outputs": [],
   "source": [
    "2*(3+7)/5"
   ]
  },
  {
   "cell_type": "markdown",
   "metadata": {},
   "source": [
    "<div style=\"direction:rtl\">\n",
    "כפי שאתם רואים מספר דברים קרו. ראשית, המחשב ביצע את פעולת החשבון והדפיס את התוצאה בתא חדש.\n",
    "\n",
    "שימו לב שליד התא האפור רשום כעת\n",
    "<br\\>\n",
    "$$\\text{In [1]:}$$\n",
    "<br\\>\n",
    "המילה In מייצגת קלט - הדרך שלנו לאמר למחשב מה לעשות.\n",
    "שימו לב שליד התוצאה רשום\n",
    "<br\\>\n",
    "$$\\text{Out [1]:}$$\n",
    "<br\\>\n",
    "המילה Out מייצגת פלט - הדרך של המחשב לאמר לנו מה יצא או אם יש בעיה בבקשה שלנו.\n",
    "\n",
    "המספר שבתוך הסוגריים מזכיר לנו כמה קלטים (ובהתאם פלטים) הזנו עד עכשיו.\n",
    "\n",
    "לחצו שוב על התא האפור ואז shift+enter\n",
    "נסו לנחש מה יקרה.\n",
    "<br>\n",
    "כפי שאתם רואים, החישוב נעשה שוב והתוצאה הודפסה שוב. השינוי היחיד הוא המספר שבתוך In ו Out.\n",
    "<br>\n",
    "כעת שנו את תרגיל החשבון לתרגילים שונים ובכל פעם לחצו shift+enter\n",
    "בכדי לראות את התוצאה.\n",
    "\n",
    "הנה מספר דוגמאות שמציגות כיצד לעשות חישובים.\n",
    "נסו לנחש מה יקרה ואז הריצו את החישובים עם shift+enter.\n",
    "\n",
    "</div>\n"
   ]
  },
  {
   "cell_type": "code",
   "execution_count": null,
   "metadata": {
    "collapsed": true
   },
   "outputs": [],
   "source": [
    "3+3*3"
   ]
  },
  {
   "cell_type": "code",
   "execution_count": null,
   "metadata": {
    "collapsed": false
   },
   "outputs": [],
   "source": [
    "3**2"
   ]
  },
  {
   "cell_type": "code",
   "execution_count": null,
   "metadata": {
    "collapsed": true
   },
   "outputs": [],
   "source": [
    "2**3"
   ]
  },
  {
   "cell_type": "code",
   "execution_count": null,
   "metadata": {
    "collapsed": false
   },
   "outputs": [],
   "source": [
    "9**(0.5)"
   ]
  },
  {
   "cell_type": "code",
   "execution_count": null,
   "metadata": {
    "collapsed": false
   },
   "outputs": [],
   "source": [
    "cos(60)"
   ]
  },
  {
   "cell_type": "markdown",
   "metadata": {},
   "source": [
    "<div style=\"direction:rtl\">\n",
    "כפי שאתם רואים, פייתון לא מכיר פונקציות טריגונומטריות. \n",
    "יותר מאוחר נלמד איך בפקודה פשוטה ״נחזק״ את פייתון כך שיכיר פונקציות אלו ועוד פונקציות שימושיות לחישובים מדעיים.\n",
    "כעת בצעו את התרגילים הבאים ע״י הקלדה לתאים האפורים שמתחתם והרצה.\n",
    "</div>"
   ]
  },
  {
   "cell_type": "markdown",
   "metadata": {},
   "source": [
    "<div style=\"direction:rtl\">\n",
    "$$ 1*2*3*4*5 $$\n",
    "\n",
    "(התשובה צריכה לצאת 120)\n",
    "</div>"
   ]
  },
  {
   "cell_type": "code",
   "execution_count": null,
   "metadata": {
    "collapsed": false
   },
   "outputs": [],
   "source": []
  },
  {
   "cell_type": "markdown",
   "metadata": {},
   "source": [
    "<div style=\"direction:rtl\">\n",
    "$$  ((2+3)*4+5)^2*(5+8) $$\n",
    "\n",
    "(התשובה צריכה לצאת 8125) \n",
    "</div>"
   ]
  },
  {
   "cell_type": "code",
   "execution_count": null,
   "metadata": {
    "collapsed": false
   },
   "outputs": [],
   "source": []
  },
  {
   "cell_type": "markdown",
   "metadata": {},
   "source": [
    "<div style=\"direction:rtl\">\n",
    "$$  \\left(\\frac{1.3-0.7}{0.1+0.2}\\right) ^2 $$\n",
    "\n",
    "(התשובה צריכה לצאת 4.0 )\n",
    "</div>"
   ]
  },
  {
   "cell_type": "code",
   "execution_count": null,
   "metadata": {
    "collapsed": false
   },
   "outputs": [],
   "source": []
  },
  {
   "cell_type": "markdown",
   "metadata": {},
   "source": [
    "<div style=\"direction:rtl\">\n",
    "<h3>\n",
    "פקודה ראשונה - print\n",
    "</h3>\n",
    "הריצו את התא האפור הבא ( shift+enter כרגיל)\n",
    "</div>"
   ]
  },
  {
   "cell_type": "code",
   "execution_count": null,
   "metadata": {
    "collapsed": false
   },
   "outputs": [],
   "source": [
    "print(3*2)"
   ]
  },
  {
   "cell_type": "markdown",
   "metadata": {},
   "source": [
    "<div style=\"direction:rtl\">\n",
    "הפקודה print אומרת למחשב להדפיס את מה שרשום בסוגריים.\n",
    "כפי שאתם רואים, התוצאה זהה לתוצאה שהיתה מתקבלת אילו היינו מקלידים את פעולת החשבון ישירות. \n",
    "הסיבה היא שפייתון יודע שאנו רוצים להדפיס פעולות חשבון ולכן מבצע פקודה זו גם אם לא אמרנו לו מפורשות.\n",
    "כעת נסו את התא הבא:\n",
    "</div>"
   ]
  },
  {
   "cell_type": "code",
   "execution_count": null,
   "metadata": {
    "collapsed": false
   },
   "outputs": [],
   "source": [
    "print('hello world')"
   ]
  },
  {
   "cell_type": "markdown",
   "metadata": {},
   "source": [
    "<div style=\"direction:rtl\">\n",
    "שימו לב לגרשיים מסביב לטסקט. הגרשיים אומרים למחשב שזהו טקסט. נסו להוריד אותם ולהריץ שוב.\n",
    "בתאים הבאים נסו לנחש מה יקרה אם תריצו ואז תריצו.\n",
    "</div>"
   ]
  },
  {
   "cell_type": "code",
   "execution_count": null,
   "metadata": {
    "collapsed": false
   },
   "outputs": [],
   "source": [
    "print('3*4')"
   ]
  },
  {
   "cell_type": "code",
   "execution_count": null,
   "metadata": {
    "collapsed": false
   },
   "outputs": [],
   "source": [
    "print(3,4,5)"
   ]
  },
  {
   "cell_type": "code",
   "execution_count": null,
   "metadata": {
    "collapsed": true
   },
   "outputs": [],
   "source": [
    "print('3*4',3*4)"
   ]
  },
  {
   "cell_type": "code",
   "execution_count": null,
   "metadata": {
    "collapsed": false
   },
   "outputs": [],
   "source": [
    "print('the answer to 334*4 is',334*4)"
   ]
  },
  {
   "cell_type": "code",
   "execution_count": null,
   "metadata": {
    "collapsed": false
   },
   "outputs": [],
   "source": [
    "print(3*4)\n",
    "print(4+6)\n",
    "print(7+8)"
   ]
  },
  {
   "cell_type": "code",
   "execution_count": null,
   "metadata": {
    "collapsed": false
   },
   "outputs": [],
   "source": [
    "3*4\n",
    "4+6\n",
    "7+8"
   ]
  },
  {
   "cell_type": "code",
   "execution_count": null,
   "metadata": {
    "collapsed": false
   },
   "outputs": [],
   "source": [
    "3*4\n",
    "4+6\n",
    "7+8\n",
    "print('where did the answers go?')"
   ]
  },
  {
   "cell_type": "markdown",
   "metadata": {},
   "source": [
    "<div style=\"direction:rtl\">\n",
    "כפי שאתם רואים, הדפסה של פעולות חשבון ללא print עובדת רק עבור השורה האחרונה בתא (אם היא פעולת חשבון).\n",
    "לכן, בכל מקרה בו אנו מעוניינים להדפיס ערך, נעדיף להשתמש בפקודה print.\n",
    "<br>\n",
    "שפת פייתון מאפשרת לסמן טקסט או באמצעות סימן גרש בודד, ', כפי שעשינו עד כה, או באמצעות גרשיים, \".\n",
    "כל עוד אותו התו משמש הן לסימון תחילת הטקסט והן לסימון סיומו.\n",
    "הריצו את תא הקוד הבא וצפו בתוצאה:\n",
    "</div>"
   ]
  },
  {
   "cell_type": "code",
   "execution_count": null,
   "metadata": {
    "collapsed": true
   },
   "outputs": [],
   "source": [
    "print(\"in this text we can print the sign ' because it is not used to surround the text\")"
   ]
  },
  {
   "cell_type": "markdown",
   "metadata": {},
   "source": [
    "<div style=\"direction:rtl\">\n",
    "<h3>\n",
    "הטקסטים הלבנים\n",
    "</h3>\n",
    "לחצו כעת על הטסקט עם הרקע הלבן (למשל ממש על משפט זה).\n",
    "כפי שאתם רואים מופיעה מסגרת כחולה מסביב לפסקה. למעשה פסקה זו, כמו כל הפסקאות האחרות, מכילה קוד שכבר הורץ.\n",
    "\n",
    "בכדי לראות מה הקוד שיצר את הפסקה לחצו עליה פעמיים (double-click).\n",
    "אתם רואים שהתא נהפך לאפור ופקודות חדשות (בשפת html למי שמכיר) מופיעות.\n",
    "כיצד נריץ תא זה בכדי לחזור לטקסט נורמלי?\n",
    "כמובן: לחצו  shift+enter.\n",
    "ע״י עריכה (לא מאד נוחה עבור השפה העברית) ניתן לשנות את הטסקט שבמחברת זאת. \n",
    "</div>"
   ]
  },
  {
   "cell_type": "markdown",
   "metadata": {},
   "source": [
    "<div style=\"direction:rtl\">\n",
    "<h4>\n",
    "משימה 1\n",
    "</h4>\n",
    "גללו את המסמך למעלה והוסיפו לכותרת את שמכם. עשו זאת ע״י לחיצה פעמיים על הכותרת, הוספת השם ואז shift+enter.\n",
    "</div>"
   ]
  },
  {
   "cell_type": "markdown",
   "metadata": {},
   "source": [
    "<div style=\"direction:rtl\">\n",
    "<H3>\n",
    "משתנים\n",
    "</H3>\n",
    "\n",
    "הסתכלו על התיבה הבאה ונסו לנחש מה יקרה אם תריצו אותה. אז לחצו shift+enter והמשיכו לקרוא.\n",
    "</div>"
   ]
  },
  {
   "cell_type": "code",
   "execution_count": null,
   "metadata": {
    "collapsed": true
   },
   "outputs": [],
   "source": [
    "x=10\n",
    "print(x)"
   ]
  },
  {
   "cell_type": "markdown",
   "metadata": {},
   "source": [
    "<div style=\"direction:rtl\">\n",
    "שפת פייתון, כמו כל שפת תכנות מודרנית, מאפשרת שימוש במשתנים לייצוג ערכים שונים.\n",
    "בקטע הקוד הזה הצבנו את הערך 10 למשתנה בשם x.\n",
    "השמת הערך למשתנה איננה פעולה המייצרת פלט ולכן, על מנת לראות את הערך של x, אנו מבצעים את הפקודה print.\n",
    "ניתן לראות שאם הערך של מה שנותנים ל print \n",
    "הוא שם של משתנה, יוצג הערך של המשתנה.\n",
    "נסו את התאים הבאים\n",
    "</div>"
   ]
  },
  {
   "cell_type": "code",
   "execution_count": null,
   "metadata": {
    "collapsed": false
   },
   "outputs": [],
   "source": [
    "print(x)"
   ]
  },
  {
   "cell_type": "markdown",
   "metadata": {},
   "source": [
    "<div style=\"direction:rtl\">\n",
    "המחשב עדיין זוכר את הערך של x!\n",
    "</div>"
   ]
  },
  {
   "cell_type": "code",
   "execution_count": null,
   "metadata": {
    "collapsed": true
   },
   "outputs": [],
   "source": [
    "print(x+1)"
   ]
  },
  {
   "cell_type": "code",
   "execution_count": null,
   "metadata": {
    "collapsed": true
   },
   "outputs": [],
   "source": [
    "x=7\n",
    "print(x)"
   ]
  },
  {
   "cell_type": "markdown",
   "metadata": {},
   "source": [
    "<div style=\"direction:rtl\">\n",
    "כעת שינינו את הערך של\n",
    "x. עלו למעלה לתא עם השורה הבודדת $$\\text{print(x)}$$\n",
    "והריצו אותו שוב. אתם רואים שסדר התאים במחברת לא חשוב. מה שחשוב הוא הסדר שבו הרצנו את התאים.\n",
    "</div>"
   ]
  },
  {
   "cell_type": "markdown",
   "metadata": {},
   "source": [
    "<div style=\"direction:rtl\">\n",
    "<h4>\n",
    "משימה 2\n",
    "</h4>\n",
    "עדכנו את התא הבא כך ששם המשתנה יהיה y, הערך שיוצב אליו יהיה 8, וההדפסה תהיה של הביטוי y+7. הריצו את הקוד וודאו שמודפס הערך 15.\n",
    "</div>\n"
   ]
  },
  {
   "cell_type": "code",
   "execution_count": null,
   "metadata": {
    "collapsed": false
   },
   "outputs": [],
   "source": [
    "x=1\n",
    "print(x)"
   ]
  },
  {
   "cell_type": "markdown",
   "metadata": {},
   "source": [
    "<div style=\"direction:rtl\">\n",
    "<H2>\n",
    "שימוש בפונקציות מתמטיות נוספות ונוסחאות עם משתנים\n",
    "</H2>\n",
    "השימוש במשתנים מאפשר לנו להגדיר נוסחא כללית התלויה במשתנים שונים ולקבל את תוצאת הנוסחא בהינתן ערכי המשתנים.\n",
    "לצורך הדוגמא הבאה נזדקק לפעולת השורש, פעולה אשר איננה חלק משפת פייתון הבסיסית.\n",
    "קיימת פקודה המוסיפה הרחבות מתמטיות שונות וכלים נוספים לפייתון, ביניהם את פעולת השורש.\n",
    "<br>\n",
    "הריצו את תא הקוד הבא כעת (ייתכן ויהיה פלט מסוים המציין שההרחבות נטענו. בנוסף, אם זוהי הפעם הראשונה מאז התקנת anaconda בה מבוצעת הפקודה ייתכן ויופיעו הודעות על עדכון רכיבים שונים. ניתן להתעלם מהודעות אלו).\n",
    "<br>\n",
    "בתחילת כל אחד מהפרקים הבאים נריץ תמיד שורת קוד זאת על מנת לטעון את ההרחבות לשפת פייתון.\n",
    "יש צורך להריץ את הפקודה בכל פעם שטוענים מסמך חדש בו משתמשים בהרחבות שהפקודה טוענת.\n",
    "</div>\n"
   ]
  },
  {
   "cell_type": "code",
   "execution_count": null,
   "metadata": {
    "collapsed": false
   },
   "outputs": [],
   "source": [
    "%pylab"
   ]
  },
  {
   "cell_type": "markdown",
   "metadata": {},
   "source": [
    "<div style=\"direction:rtl\">\n",
    "\n",
    "בקטע הקוד הבא אנו מדגימים שימוש במשתנים ובנוסחת מציאת השורשים של משוואה ריבועית מהצורה:\n",
    "$$ ax^2+bx+c=0 $$\n",
    "על מנת לחשב את שורשי המשוואה.\n",
    "<br>\n",
    "\n",
    "ראשית אנו מציבים ערכים למשתנים a, b, ו-c.\n",
    "<br>\n",
    "פעולת השורש נקראת בפייתון sqrt,\n",
    "והביטוי שאת השורש שלו אנו מעוניינים לחשב חייב להיות מוקף בסוגריים כבדוגמא\n",
    ".\n",
    "<br>\n",
    " אנו מציבים למשתנים x1 ו-x2 את תוצאות חישוב נוסחת השורשים, תוך שימוש בפונקציה sqrt.\n",
    "<br>\n",
    "לסיכום, אנו מדפיסים את הפתרונות שהתקבלו.\n",
    "הריצו קטע קוד זה כעת.\n",
    "</div>\n"
   ]
  },
  {
   "cell_type": "code",
   "execution_count": null,
   "metadata": {
    "collapsed": false
   },
   "outputs": [],
   "source": [
    "a=1\n",
    "b=5\n",
    "c=4\n",
    "x1=(-b+sqrt(b**2-4*a*c))/(2*a)\n",
    "x2=(-b-sqrt(b**2-4*a*c))/(2*a)\n",
    "print(x1,x2)"
   ]
  },
  {
   "cell_type": "markdown",
   "metadata": {
    "collapsed": true
   },
   "source": [
    "<div style=\"direction:rtl\">\n",
    "<H4>\n",
    "משימה 3\n",
    "</H4>\n",
    "בדומה לדוגמת מציאת השורשים של משוואה ריבועית, כיתבו בתא הקוד הבא פקודות שיחשבו, בהיתן הערכים a ו-b, את נקודות החיתוך של הישר:\n",
    "\n",
    "$$ ax+b $$\n",
    "\n",
    "עם ציר ה-x וציר ה-y.\n",
    "הדפיסו את תוצאות החישוב באמצעות פקודת print.\n",
    "</div>"
   ]
  },
  {
   "cell_type": "code",
   "execution_count": null,
   "metadata": {
    "collapsed": true
   },
   "outputs": [],
   "source": []
  },
  {
   "cell_type": "markdown",
   "metadata": {},
   "source": [
    "<div style=\"direction:rtl\">\n",
    "<h3>\n",
    "שימוש במשתנים ונוסחאות בהקשר פיסיקלי\n",
    "</h3>\n",
    "בתא הקוד הבא אנו משתמשים באותה השיטה שהודגמה לעיל על מנת לחשב את המיקום של גוף בהינתן המיקום ההתחלתי שלו, המהירות ההתחלתית, התאוצה, והזמן בו אנו מעוניינים לחשב את המיקום.\n",
    "הריצו את תא הקוד כעת.\n",
    "</div>"
   ]
  },
  {
   "cell_type": "code",
   "execution_count": 3,
   "metadata": {
    "collapsed": false
   },
   "outputs": [
    {
     "name": "stdout",
     "output_type": "stream",
     "text": [
      "17.25\n"
     ]
    }
   ],
   "source": [
    "x0=1\n",
    "v0=0\n",
    "a=1.3\n",
    "t=5\n",
    "\n",
    "xt=x0+v0*t+a*t**2/2\n",
    "\n",
    "print(xt)"
   ]
  },
  {
   "cell_type": "markdown",
   "metadata": {},
   "source": [
    "<div style=\"direction:rtl\">\n",
    "שימו לב לנקודות הבאות: מותר להשתמש בספרות כחלק מהשם של משתנים, אך אסור לספרה להיות התו הראשון בשם של משתנה.\n",
    "שפת פייתון אינה מודעת ליחידות או למשמעות של המשתנים השונים.\n",
    "עבורה כל המשתנים המכילים ערכים מספריים הם חסרי יחידות, לכן האחריות לוודא כי הנוסחאות בהן אנו עושים שימוש בחישובים פיסיקליים נכונות היא עלינו.\n",
    "<h4>\n",
    "משימה 4\n",
    "</h4>\n",
    "השלימו את הקוד בתא הבא כך שיחשב, בהינתן מיקום התחלתי, מהירות, תאוצה ומיקום סופי, תוך כמה זמן יגיע הגוף למיקום הסופי.\n",
    "</div>"
   ]
  },
  {
   "cell_type": "code",
   "execution_count": null,
   "metadata": {
    "collapsed": false
   },
   "outputs": [],
   "source": [
    "x0=0\n",
    "v0=1\n",
    "a=3.2\n",
    "xt=10\n",
    "\n",
    "t=?\n",
    "\n",
    "print(t)"
   ]
  },
  {
   "cell_type": "markdown",
   "metadata": {},
   "source": [
    "<div style=\"direction:rtl\">\n",
    "שימרו את המסמך המעודכן על ידי הקשה על צלמית הדיסקט  מצד שמאל למעלה, או שימוש בקיצור המקלדת ctrl+s.\n",
    "<h4>\n",
    "מזל טוב! סיימתם את יחידת המבוא.\n",
    "</h4>\n",
    "</div>"
   ]
  },
  {
   "cell_type": "markdown",
   "metadata": {},
   "source": [
    "<div style=\"direction:rtl\">\n",
    "בסיום כל יחידה נסכם את הנושאים המרכזיים שנלמדו בה ונציג את השגיאות הנפוצות שיכולות להופיע כאשר משתמשים בחומר שנלמד ביחידה.\n",
    "<h3>\n",
    "סיכום היחידה:\n",
    "</h3>\n",
    "<ul>\n",
    "<li>\n",
    "בסביבת jupyter notebook שלושה סוגי תאים, תאי טקסט, תאי קוד בשפת פייתון ותאי פלט של קוד.\n",
    "</li>\n",
    "<li>\n",
    "על מנת להריץ את התוכן של כל תא יש להקיש shift+enter\n",
    "</li>\n",
    "<li>\n",
    "שפת פייתון מכירה את פעולות החשבון הבסיסיות, חיבור חיסור כפל וחילוק, המבוצעות באמצעות הסימנים + - \\* / פעולת החזקה מבוצעת על ידי הסימן \\*\\*\n",
    "</li>\n",
    "<li>\n",
    "ניתן להציב ערכים מספריים למשתנים. לכל משתנה יש שם שיכול להכיל אותיות ומספרים. התו הראשון בשם חייב להיות אות.\n",
    "</li>\n",
    "<li>\n",
    "על מנת להרחיב את שפת פייתון ולאפשר שימוש בפונקציות מתמטיות מתקדמות כגון שורש או הפונקציות הטריגונומטריות יש להריץ את הפקודה pylab%\n",
    "</li>\n",
    "<li>\n",
    "שפת פייתון זוכרת את הסטוריית הרצת התאים לכן מספיק להריץ את הפקודה\n",
    "pylab% פעם אחת לאחר טעינת המסמך.\n",
    "בנוסף, משתנים אליהם הוצבו ערכים בתאים שכבר הורצו ישמרו על ערכים אלו בתאים שיורצו לאחר מכן, באותו המסמך.\n",
    "</li>\n",
    "<li>\n",
    "הפקודה print מאפשרת הדפסה של ערכים.\n",
    "ניתן להדפיס תוצאות של חישובים, ערכים של משתנים, או טקסט חופשי.\n",
    "ניתן להשתמש בגרשיים (\") או בגרש בודד (') לציון טקסט חופשי.\n",
    "</li>\n",
    "<li>\n",
    "שפת פייתון אינה מכירה את המושג הפיסיקלי של יחידות, לכן בביצוע חישובים זוהי אחריות המשתמש לוודא שהחישוב הגיוני.\n",
    "</li>\n",
    "</ul>\n",
    "</div>"
   ]
  },
  {
   "cell_type": "markdown",
   "metadata": {},
   "source": [
    "<div style=\"direction:rtl\">\n",
    "<h3>\n",
    "שגיאות נפוצות והודעות השגיאה שהן גורמות\n",
    "</h3>\n",
    "כל אחד מהתאים הבאים מכיל שגיאה. הריצו כל תא וצפו בפלט המתקבל עבור שגיאה זו.\n",
    "</div>"
   ]
  },
  {
   "cell_type": "markdown",
   "metadata": {},
   "source": [
    "<div style=\"direction:rtl\">\n",
    "חלוקה ב-0\n",
    "</div>"
   ]
  },
  {
   "cell_type": "code",
   "execution_count": null,
   "metadata": {
    "collapsed": false,
    "scrolled": false
   },
   "outputs": [],
   "source": [
    "1/0"
   ]
  },
  {
   "cell_type": "markdown",
   "metadata": {},
   "source": [
    "<div style=\"direction:rtl\">\n",
    "פעולת שורש עבור מספר שלילי (שימו לב, אנו מניחים שההרחבה pylab%\n",
    "נטענה, אם לא נקבל הודעת שגיאה שפייתון אינה מכירה את הפקודה sqrt)\n",
    "</div>"
   ]
  },
  {
   "cell_type": "code",
   "execution_count": null,
   "metadata": {
    "collapsed": false,
    "scrolled": true
   },
   "outputs": [],
   "source": [
    "sqrt(-1)"
   ]
  },
  {
   "cell_type": "markdown",
   "metadata": {},
   "source": [
    "<div style=\"direction:rtl\">\n",
    "שימוש במשתנה שלא הוגדר\n",
    "</div>"
   ]
  },
  {
   "cell_type": "code",
   "execution_count": null,
   "metadata": {
    "collapsed": false,
    "scrolled": false
   },
   "outputs": [],
   "source": [
    "x=z"
   ]
  },
  {
   "cell_type": "markdown",
   "metadata": {},
   "source": [
    "<div style=\"direction:rtl\">\n",
    "שימוש בשם משתנה לא חוקי\n",
    "</div>"
   ]
  },
  {
   "cell_type": "code",
   "execution_count": null,
   "metadata": {
    "collapsed": false,
    "scrolled": true
   },
   "outputs": [],
   "source": [
    "0x=5"
   ]
  },
  {
   "cell_type": "markdown",
   "metadata": {},
   "source": [
    "<div style=\"direction:rtl\">\n",
    "שימו לב שבכל הודעות השגיאה מצויין מספר השורה בתוך התא בה קרתה השגיאה, והשורה מצוטטת.\n",
    "בנוסף, אם פייתון יכולה להצביע על התו שגרם לשגיאה, גם הוא מסומן באמצעות התו ^\n",
    "</div>"
   ]
  },
  {
   "cell_type": "markdown",
   "metadata": {},
   "source": [
    "<div style=\"direction:rtl\">\n",
    "<h4>\n",
    "מזל טוב, סיימתם את היחידה הראשונה!\n",
    "</h4>\n",
    "</div>"
   ]
  },
  {
   "cell_type": "code",
   "execution_count": null,
   "metadata": {
    "collapsed": true
   },
   "outputs": [],
   "source": []
  }
 ],
 "metadata": {
  "kernelspec": {
   "display_name": "Python 3",
   "language": "python",
   "name": "python3"
  },
  "language_info": {
   "codemirror_mode": {
    "name": "ipython",
    "version": 3
   },
   "file_extension": ".py",
   "mimetype": "text/x-python",
   "name": "python",
   "nbconvert_exporter": "python",
   "pygments_lexer": "ipython3",
   "version": "3.5.1"
  }
 },
 "nbformat": 4,
 "nbformat_minor": 0
}
