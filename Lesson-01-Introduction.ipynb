{
 "cells": [
  {
   "cell_type": "markdown",
   "metadata": {},
   "source": [
    "<div style=\"direction:rtl\">\n",
    "<H1>\n",
    "השתלמות בחישובים נומריים למורי פיסיקה חקר\n",
    "</H1>\n",
    "</div>"
   ]
  },
  {
   "cell_type": "markdown",
   "metadata": {},
   "source": [
    "<div style=\"direction:rtl\">\n",
    "<H2>\n",
    "יחידה 1, מבוא\n",
    "</H2>\n",
    "\n",
    "<H2>\n",
    "מבוא להכרת כלי החישוב - jupyter notebook\n",
    "</H2>\n",
    "</div>"
   ]
  },
  {
   "cell_type": "markdown",
   "metadata": {},
   "source": [
    "<div style=\"direction:rtl\">\n",
    "&nbsp;\n",
    "ברוכים הבאים לסביבת jupyter notebook. זוהי סביבת תכנות המאפשרת לנו לבצע חישובים שונים באמצעות שפת תכנות נוחה הנקראת python. בפעילות זו נלמד כיצד מתקינים את סביבת העבודה, כיצד מפעילים אותה, ונתחיל ללמוד כיצד להשתמש בה. \n",
    "\n",
    "\n",
    "<H3>\n",
    "התקנת התוכנה\n",
    "</H3>\n",
    "\n",
    "על מנת להתחיל להשתמש בסביבה יש להוריד ולהתקין את התוכנה על המחשב.\n",
    "ישנן מספר דרכים להתקין את jupyter notebook כאשר הפשוטה ביותר היא באמצעות התקנת חבילת anaconda\n",
    "<a href=\"https://www.continuum.io/downloads\">\n",
    "מהקישור הזה\n",
    "</a>\n",
    ".\n",
    "<ul>\n",
    "<li>\n",
    " יש לבחור את גרסת python 3.5, ואת מערכת ההפעלה המתאימה (לרוב windows 64).\n",
    "</li>\n",
    "<li>\n",
    "מומלץ להתקין עבור המשתמש הנוכחי בלבד ולא עבור כלל המשתמשים.\n",
    "מלבד זאת אפשר להתקין עם ברירות המחדל של ההתקנה.\n",
    "</li>\n",
    "<li>\n",
    "לאחר ההתקנה ניתן לחפש בתפריט 'התחל'\\start את 'jupyter notebook' ולהריץ את התוכנה.\n",
    "</li>\n",
    "<li>\n",
    "לאחר ההרצה יפתח טאב חדש בדפדפן האינטרנט ובו יופיע תוכן ספריית הבית של המשתמש\n",
    "(אם בחרתם בהתקנה עבור כל המשתמשים תוכן הספרייה שיופיע הוא תוכן הספרייה:\n",
    "c:\\anaconda3\\scripts).\n",
    "</li>\n",
    "<li>\n",
    "צרו ספרייה חדשה לצורך העבודה על מסמכי jupyter notebook.\n",
    "אנו ממליצים ראשית לעבור לספריית documents או לספריית desktop, ואז ליצור את תת הספריה בה תשמרו את המסמכים השונים.\n",
    "אתם יכולים ליצור ספרייה חדשה ע״י לחיצה על New, שמופיע בצד ימין למעלה, ואז Folder.\n",
    "תיווצר ספרייה חדשה בשם Untitled Folder.\n",
    "ניתן לשנות את שם הספריה על ידי הקלקה על הריבוע שמשמאל לה ואז לחיצה על כפתור Rename מצד שמאל למעלה.\n",
    "כדאי לבחור שמות באנגלית. \n",
    "<li>\n",
    "אם אתם קוראים מסמך זה מאתר האינטרנט של התוכנית ב-anaconda.org הקליקו על 'Download'\n",
    "מצד ימין למעלה עם הכפתור הימני ושמרו את הקובץ בספרייה בה תעבדו\n",
    "(או בתת הספריה שיצרתם תחת Anaconda3/Scripts, או בתת הספרייה שיצרתם תחת documents או desktop).\n",
    "</li>\n",
    "<li>\n",
    "כעת, פתחו את הקובץ החדש מתוך לשונית הדפדפן של jupiter notebook. בדפדפן תיפתח לשונית חדשה ובה מסמך זה. המשיכו את הפעילות מתוך המסמך שעל המחשב שלכם. מומלץ לסגור את העמוד הנוכחי בכדי שלא תתבלבלו.\n",
    "</li>\n",
    "</ul>\n",
    "מעתה כאשר אתם עובדים על משימות בתוכנית, ראשית הורידו את המסמכים למחשב, לספרייה שבחרתם,\n",
    "ופתחו אותם מתוך לשונית ה-jupiter notebook.\n",
    "אין אפשרות לבצע את המשימות ישירות מהאינטרנט.\n",
    "</div>"
   ]
  },
  {
   "cell_type": "markdown",
   "metadata": {},
   "source": [
    "<div style=\"direction:rtl\">\n",
    "<h3>\n",
    "המבנה הבסיסי של מסמכים ב-jupyter notebook\n",
    "</h3>\n",
    "כל מסמך ב-jupyter notebook בנוי מתאים.\n",
    "ישנם שלושה סוגי תאים:\n",
    "<ul>\n",
    "<li>\n",
    "תאים המכילים טקסט, כמו תא זה.\n",
    "תאים אלו הם בעלי רקע לבן.\n",
    "</li>\n",
    "<li>\n",
    "תאים המכילים קוד, כמו התא שמופיע מעט מתחת לטקסט זה. תאים אלו הם בעלי רקע לבן ומשמאלם הסימון\n",
    "$\\text{In[ ]:}$\n",
    "</li>\n",
    "<li>\n",
    "תאים המכילים פלט של קוד.\n",
    "תאים אלו הם בעלי רקע לבן ומשמאלם הסימון\n",
    "$\\text{Out[ ]:}$.\n",
    "תאים אלו\n",
    "מופיעים רק אחרי תאי קוד.\n",
    "</li>\n",
    "</ul>\n",
    "<H3>\n",
    "נסיון ראשון - שימוש בתוכנה כמחשבון בסיסי\n",
    "</H3>\n",
    "\n",
    "שימו לב לתא האפור שנמצא מעט למטה ובתוכו רשום \n",
    "5/(3+7)*2.\n",
    "\n",
    "להבדיל מהטסקט שקראתם עד עכשיו ברקע לבן,\n",
    "התאים האפורים מאפשרים להריץ חישובים ושורות קוד.\n",
    "\n",
    "לחצו על התא האפור ואז לחצו shift+enter והמשיכו לקרוא למטה.\n",
    "</div>"
   ]
  },
  {
   "cell_type": "code",
   "execution_count": null,
   "metadata": {
    "collapsed": false
   },
   "outputs": [],
   "source": [
    "2*(3+7)/5"
   ]
  },
  {
   "cell_type": "markdown",
   "metadata": {},
   "source": [
    "<div style=\"direction:rtl\">\n",
    "כפי שאתם רואים מספר דברים קרו. ראשית, המחשב ביצע את פעולת החשבון והדפיס את התוצאה בתא חדש.\n",
    "\n",
    "שימו לב שליד התא האפור רשום כעת\n",
    "</div>\n",
    "\n",
    "    In [1]:\n",
    "\n",
    "<div style=\"direction:rtl\">\n",
    "המילה In מייצגת קלט - הדרך שלנו לאמר למחשב מה לעשות.\n",
    "שימו לב שליד התוצאה רשום:\n",
    "</div>\n",
    "\n",
    "    Out [1]:\n",
    "\n",
    "<div style=\"direction:rtl\">\n",
    "\n",
    "המילה Out מייצגת פלט - הדרך של המחשב לאמר לנו מה תוצאות הפעולות שביצענו או אם יש בעיה בקוד שהרצנו.\n",
    "המספר שבתוך הסוגריים מזכיר לנו כמה קלטים (ובהתאם פלטים) הזנו עד עכשיו.\n",
    "<br>\n",
    "לחצו שוב על התא האפור ואז shift+enter\n",
    "נסו לנחש מה יקרה.\n",
    "<br>\n",
    "כפי שאתם רואים, החישוב נעשה שוב והתוצאה הודפסה שוב. השינוי היחיד הוא המספר שבתוך In ו Out.\n",
    "<br>\n",
    "כעת שנו את תרגיל החשבון לתרגילים שונים ובכל פעם לחצו shift+enter\n",
    "בכדי לראות את התוצאה.\n",
    "<br>\n",
    "כעת נסו ללחוץ על התא ואז ללחוץ ctrl+enter במקום shift+enter.\n",
    "גם ctrl+enter וגם shift+enter מריצים את החשבון בתא.\n",
    "ההבדל בין השניים הוא ש-shift+enter מקדם את המסמך לתא הבא (תא טקסט לבן או תא קוד).\n",
    "\n",
    "הנה מספר דוגמאות שמציגות כיצד לעשות חישובים.\n",
    "נסו לנחש מה יקרה ואז הריצו את החישובים עם shift+enter\n",
    "או ctrl+enter לפי העדפתכם.\n",
    "\n",
    "\n",
    "</div>\n"
   ]
  },
  {
   "cell_type": "code",
   "execution_count": null,
   "metadata": {
    "collapsed": true
   },
   "outputs": [],
   "source": [
    "3+3*3"
   ]
  },
  {
   "cell_type": "code",
   "execution_count": null,
   "metadata": {
    "collapsed": false
   },
   "outputs": [],
   "source": [
    "3**2"
   ]
  },
  {
   "cell_type": "code",
   "execution_count": null,
   "metadata": {
    "collapsed": true
   },
   "outputs": [],
   "source": [
    "2**3"
   ]
  },
  {
   "cell_type": "code",
   "execution_count": null,
   "metadata": {
    "collapsed": false
   },
   "outputs": [],
   "source": [
    "9**(0.5)"
   ]
  },
  {
   "cell_type": "markdown",
   "metadata": {},
   "source": [
    "<div style=\"direction:rtl\">\n",
    "שימו לב שפעולת החזקה מבוצעת באמצעות הסימן \\*\\*.\n",
    "בסביבות עבודה אחרות מסומנת פעולת החזקה לעיתים בסימן '^'.\n",
    "האם סימן זה יעבוד גם כאן כמצופה? הריצו את התא הבא וראו:\n",
    "</div>"
   ]
  },
  {
   "cell_type": "code",
   "execution_count": null,
   "metadata": {
    "collapsed": false
   },
   "outputs": [],
   "source": [
    "3^2 "
   ]
  },
  {
   "cell_type": "markdown",
   "metadata": {},
   "source": [
    "<div style=\"direction:rtl\">\n",
    "הסימן '^' מציין פעולה שאיננה פעולת החזקה בפייתון.\n",
    "פעולה זו נקראת bitwise xor ולא יהיה לנו שימוש בה בתוכנית זו.\n",
    "</div>"
   ]
  },
  {
   "cell_type": "markdown",
   "metadata": {},
   "source": [
    "<div style=\"direction:rtl\">\n",
    "ומה בנוגע לפעולות טריגונומטריות?\n",
    "האם פייתון יודע לבצע אותן?\n",
    "הריצו את שורת הקוד הבאה ובידקו:\n",
    "</div>"
   ]
  },
  {
   "cell_type": "code",
   "execution_count": null,
   "metadata": {
    "collapsed": false
   },
   "outputs": [],
   "source": [
    "cos(60)"
   ]
  },
  {
   "cell_type": "markdown",
   "metadata": {},
   "source": [
    "<div style=\"direction:rtl\">\n",
    "כפי שאתם רואים, פייתון לא מכיר פונקציות טריגונומטריות. \n",
    "יותר מאוחר נלמד איך בפקודה פשוטה ״נחזק״ את פייתון כך שיכיר פונקציות אלו ועוד פונקציות שימושיות לחישובים מדעיים.\n",
    "<br>\n",
    "עד כה מתחת לכל תרגיל הייתה תיבה אפורה. באפשרותכם להוסיף תיבות חדשות ע״י לחיצה על הלחצן '+' בצד שמאל של סרגל הכלים בחלק העליון של המסך, ליד לחצן השמירה עם הציור של הדיסקט.\n",
    "בכדי להוריד תיבה, לחצו על התיבה ואז על הלחצן עם הציור של המספריים שליד הלחצן עם ה'+'. \n",
    "\n",
    "כעת בצעו את התרגילים הבאים.\n",
    "לשם ביצוע כל תרגיל לחצו על התרגיל, ואז הוסיפו מתחתיו תיבה אפורה.\n",
    "<br>\n",
    "שימו לב, בגרסאות מסוימות של jupyter notebook, בעבודה עם דפדפן chrome, מוצג בטעות קו אנכי '|' בצד ימין של המשוואות.\n",
    "התעלמו מקו זה.\n",
    "</div>"
   ]
  },
  {
   "cell_type": "markdown",
   "metadata": {},
   "source": [
    "<div style=\"direction:rtl\">\n",
    "$$ 1*2*3*4*5 $$\n",
    "\n",
    "(התשובה צריכה לצאת 120)\n",
    "</div>"
   ]
  },
  {
   "cell_type": "markdown",
   "metadata": {},
   "source": [
    "<div style=\"direction:rtl\">\n",
    "$$  ((2+3)*4+5)^2*(5+8) $$\n",
    "\n",
    "(התשובה צריכה לצאת 8125) \n",
    "</div>"
   ]
  },
  {
   "cell_type": "markdown",
   "metadata": {},
   "source": [
    "<div style=\"direction:rtl\">\n",
    "$$  \\left(\\frac{1.3-0.7}{0.1+0.2}\\right) ^2 $$\n",
    "\n",
    "(התשובה צריכה לצאת 4.0 )\n",
    "</div>"
   ]
  },
  {
   "cell_type": "markdown",
   "metadata": {},
   "source": [
    "<div style=\"direction:rtl\">\n",
    "<h3>\n",
    "פקודה ראשונה - print\n",
    "</h3>\n",
    "הריצו את התא האפור הבא ( shift+enter או ctrl+enter  כרגיל)\n",
    "</div>"
   ]
  },
  {
   "cell_type": "code",
   "execution_count": null,
   "metadata": {
    "collapsed": false
   },
   "outputs": [],
   "source": [
    "print(3*2)"
   ]
  },
  {
   "cell_type": "markdown",
   "metadata": {},
   "source": [
    "<div style=\"direction:rtl\">\n",
    "הפקודה print אומרת למחשב להדפיס את מה שרשום בסוגריים.\n",
    "כפי שאתם רואים, התוצאה זהה לתוצאה שהיתה מתקבלת אילו היינו מקלידים את פעולת החשבון ישירות. \n",
    "הסיבה היא שפייתון יודע שאנו רוצים להדפיס פעולות חשבון ולכן מבצע פקודה זו גם אם לא אמרנו לו מפורשות.\n",
    "כעת נסו את התא הבא:\n",
    "</div>"
   ]
  },
  {
   "cell_type": "code",
   "execution_count": null,
   "metadata": {
    "collapsed": false
   },
   "outputs": [],
   "source": [
    "print('hello world')"
   ]
  },
  {
   "cell_type": "markdown",
   "metadata": {},
   "source": [
    "<div style=\"direction:rtl\">\n",
    "שימו לב לגרשיים מסביב לטסקט. הגרשיים אומרים למחשב שזהו טקסט. נסו להוריד אותם ולהריץ שוב.\n",
    "בתאים הבאים נסו לנחש מה יקרה אם תריצו, הריצו ובדקו האם צדקתם בהשערתכם.\n",
    "בתום הרצת כל התאים, קיראו את ההסבר בהמשך.\n",
    "</div>"
   ]
  },
  {
   "cell_type": "code",
   "execution_count": null,
   "metadata": {
    "collapsed": false
   },
   "outputs": [],
   "source": [
    "print('3*4')"
   ]
  },
  {
   "cell_type": "code",
   "execution_count": null,
   "metadata": {
    "collapsed": true
   },
   "outputs": [],
   "source": [
    "print(3*4)"
   ]
  },
  {
   "cell_type": "code",
   "execution_count": null,
   "metadata": {
    "collapsed": false
   },
   "outputs": [],
   "source": [
    "print(hello world)"
   ]
  },
  {
   "cell_type": "code",
   "execution_count": null,
   "metadata": {
    "collapsed": false
   },
   "outputs": [],
   "source": [
    "print(3,4,5)"
   ]
  },
  {
   "cell_type": "code",
   "execution_count": null,
   "metadata": {
    "collapsed": true
   },
   "outputs": [],
   "source": [
    "print('3*4',3*4)"
   ]
  },
  {
   "cell_type": "code",
   "execution_count": null,
   "metadata": {
    "collapsed": false
   },
   "outputs": [],
   "source": [
    "print('the answer to 334*4 is',334*4)"
   ]
  },
  {
   "cell_type": "code",
   "execution_count": null,
   "metadata": {
    "collapsed": false
   },
   "outputs": [],
   "source": [
    "print(3*4)\n",
    "print(4+6)\n",
    "print(7+8)"
   ]
  },
  {
   "cell_type": "code",
   "execution_count": null,
   "metadata": {
    "collapsed": false
   },
   "outputs": [],
   "source": [
    "3*4\n",
    "4+6\n",
    "7+8"
   ]
  },
  {
   "cell_type": "code",
   "execution_count": null,
   "metadata": {
    "collapsed": false
   },
   "outputs": [],
   "source": [
    "3*4\n",
    "4+6\n",
    "7+8\n",
    "print('where did the answers go?')"
   ]
  },
  {
   "cell_type": "markdown",
   "metadata": {},
   "source": [
    "<div style=\"direction:rtl\">\n",
    "\n",
    "כפי שאתם רואים ניתן לרשום יותר משורת קוד אחת בתא קוד.\n",
    "במקרה כזה, הדפסה של פעולות חשבון ללא print עובדת רק עבור השורה האחרונה בתא (אם היא פעולת חשבון).\n",
    "לכן, בכל מקרה בו אנו מעוניינים להדפיס ערך, נעדיף להשתמש בפקודה print.\n",
    "<br>\n",
    "שפת פייתון מאפשרת לסמן טקסט או באמצעות סימן גרש בודד, ', כפי שעשינו עד כה, או באמצעות גרשיים, \".\n",
    "כל עוד אותו התו משמש הן לסימון תחילת הטקסט והן לסימון סיומו.\n",
    "הריצו את תאי הקוד הבאים וצפו בתוצאה:\n",
    "</div>"
   ]
  },
  {
   "cell_type": "code",
   "execution_count": null,
   "metadata": {
    "collapsed": false
   },
   "outputs": [],
   "source": [
    "print(\"the sign ' appears because it was not used to define the text\")"
   ]
  },
  {
   "cell_type": "code",
   "execution_count": null,
   "metadata": {
    "collapsed": false
   },
   "outputs": [],
   "source": [
    "print('the sign ' makes problems because we used it')"
   ]
  },
  {
   "cell_type": "markdown",
   "metadata": {},
   "source": [
    "<div style=\"direction:rtl\">\n",
    "בשפת פייתון הסימן סולמית, #, מציין הערה.\n",
    "בכל שורה בה מופיע סימן זה, פייתון תתעלם מהמשך השורה לאחר הסימן.\n",
    "שימו לב! גם אם בהמשך השורה מופיעים עוד סימני # שפת פייתון עדיין תתעלם מהמשך השורה, כפי שניתן לראות בתא הקוד הבא.\n",
    "הריצו אותו וצפו בתוצאה.\n",
    "</div>"
   ]
  },
  {
   "cell_type": "code",
   "execution_count": null,
   "metadata": {
    "collapsed": false
   },
   "outputs": [],
   "source": [
    "# print(5) because of the # sign in the beginning of the line, this line is completely ignored\n",
    "print(7) # This part of the line is ignored. We can write more # signs and it doesn't matter\n",
    "3+1 #+5"
   ]
  },
  {
   "cell_type": "markdown",
   "metadata": {},
   "source": [
    "<div style=\"direction:rtl\">\n",
    "<h3>\n",
    "הטקסטים הלבנים\n",
    "</h3>\n",
    "לחצו כעת על הטסקט עם הרקע הלבן בפסקה זאת (למשל ממש על משפט זה).\n",
    "כפי שאתם רואים מופיעה מסגרת כחולה מסביב לפסקה. למעשה פסקה זו, כמו כל הפסקאות האחרות, מכילה קוד שכבר הורץ.\n",
    "\n",
    "בכדי לראות מה הקוד שיצר את הפסקה לחצו עליה פעמיים (double-click).\n",
    "אתם רואים שהתא נהפך לאפור ופקודות חדשות (בשפת html למי שמכיר) מופיעות.\n",
    "כיצד נריץ תא זה בכדי לחזור לטקסט נורמלי?\n",
    "כמובן: לחצו  shift+enter או ctrl+enter.\n",
    "ע״י עריכה (לא מאד נוחה עבור השפה העברית) ניתן לשנות את הטסקט שבמחברת זאת. \n",
    "</div>"
   ]
  },
  {
   "cell_type": "markdown",
   "metadata": {},
   "source": [
    "<div style=\"direction:rtl\">\n",
    "<h4>\n",
    "משימה 1\n",
    "</h4>\n",
    "גללו את המסמך למעלה והוסיפו לכותרת את שמכם. עשו זאת ע״י לחיצה פעמיים על הכותרת, הוספת השם ואז shift+enter או ctrl+enter.\n",
    "</div>"
   ]
  },
  {
   "cell_type": "markdown",
   "metadata": {},
   "source": [
    "<div style=\"direction:rtl\">\n",
    "<H3>\n",
    "משתנים\n",
    "</H3>\n",
    "\n",
    "הסתכלו על התיבה הבאה ונסו לנחש מה יקרה אם תריצו אותה.\n",
    "הריצו אותה והמשיכו לקרוא.\n",
    "</div>"
   ]
  },
  {
   "cell_type": "code",
   "execution_count": null,
   "metadata": {
    "collapsed": true
   },
   "outputs": [],
   "source": [
    "x=10\n",
    "print(x)"
   ]
  },
  {
   "cell_type": "markdown",
   "metadata": {},
   "source": [
    "<div style=\"direction:rtl\">\n",
    "שפת פייתון, כמו כל שפת תכנות מודרנית, מאפשרת שימוש במשתנים לייצוג ערכים שונים.\n",
    "בקטע הקוד הזה הצבנו את הערך 10 למשתנה בשם x.\n",
    "משמעות הדבר שעד להודעה חדשה מבחינת המחשב x הוא 10.\n",
    "השמת הערך למשתנה איננה פעולה המייצרת פלט ולכן, על מנת לראות את הערך של x, אנו מבצעים את הפקודה print.\n",
    "ניתן לראות שאם הערך המועבר ל print \n",
    "הוא שם של משתנה, יוצג הערך של המשתנה.\n",
    "נסו את התאים הבאים\n",
    "</div>"
   ]
  },
  {
   "cell_type": "code",
   "execution_count": null,
   "metadata": {
    "collapsed": false
   },
   "outputs": [],
   "source": [
    "print(x)"
   ]
  },
  {
   "cell_type": "markdown",
   "metadata": {},
   "source": [
    "<div style=\"direction:rtl\">\n",
    "המחשב עדיין זוכר את הערך של x!\n",
    "</div>"
   ]
  },
  {
   "cell_type": "code",
   "execution_count": null,
   "metadata": {
    "collapsed": true
   },
   "outputs": [],
   "source": [
    "print(x+1)"
   ]
  },
  {
   "cell_type": "code",
   "execution_count": null,
   "metadata": {
    "collapsed": true
   },
   "outputs": [],
   "source": [
    "x=7\n",
    "print(x)"
   ]
  },
  {
   "cell_type": "markdown",
   "metadata": {},
   "source": [
    "<div style=\"direction:rtl\">\n",
    "כעת שינינו את הערך של\n",
    "x. עלו למעלה לתא עם השורה הבודדת\n",
    "</div>\n",
    "\n",
    "    print(x)\n",
    "\n",
    "<div style=\"direction:rtl\">\n",
    "והריצו אותו שוב.\n",
    "<br>\n",
    "אתם רואים שסדר התאים במחברת לא חשוב.\n",
    "מה שחשוב הוא הסדר שבו הרצנו את התאים.\n",
    "<br>\n",
    "מאחורי הקלעים, שפת פייתון שומרת טבלא עם שמות כל המשתנים והערך שלהם.\n",
    "בכל פעם שאנו מבצעים השמה למשתנה באמצעות הסימן =, פייתון בודקת האם כבר קיים משתנה בשם זה בטבלת המשתנים.\n",
    "אם כן, היא מעדכנת את הערך של המשתנה לערך החדש.\n",
    "אם לא, היא יוצרת שורה חדשה בטבלא עם שם המשתנה החדש, ורושמת בה את הערך שהצבנו.\n",
    "</div>"
   ]
  },
  {
   "cell_type": "markdown",
   "metadata": {},
   "source": [
    "<div style=\"direction:rtl\">\n",
    "שימו לב! פייתון שומרת במשתנים ערכים ולא ביטויים מתמטיים.\n",
    "ניתן לראות זאת בקטע הקוד הבא.\n",
    "קיראו אותו, שערו מה יקרה כאשר תריצו אותו, הריצו ובידקו האם צדקתם.\n",
    "</div>"
   ]
  },
  {
   "cell_type": "code",
   "execution_count": null,
   "metadata": {
    "collapsed": false
   },
   "outputs": [],
   "source": [
    "x=5\n",
    "y=x*2\n",
    "print(\"x is:\",x,\" and y is:\",y)\n",
    "x=7\n",
    "print(\"now x is:\",x,\" and y is:\",y)\n"
   ]
  },
  {
   "cell_type": "markdown",
   "metadata": {},
   "source": [
    "<div style=\"direction:rtl\">\n",
    "כפי שאתם רואים, כאשר הערך של x התעדכן, הערך של y לא התעדכן בהתאמה.\n",
    "זאת מפני שכאשר אנו כותבים את השורה:\n",
    "</div>\n",
    "\n",
    "    y=x*2\n",
    "    \n",
    "<div style=\"direction:rtl\">\n",
    "אין הכוונה שמעתה תמיד ערכו של y יהיה כפול מערכו של x.\n",
    "הכוונה היא שברגע הרצת הפקודה פייתון תבדוק מהו הערך של x, תכפיל ערך זה ב-2 ותציב את התוצאה למשתנה y.\n",
    "שינויים בערך של x, שיבוצעו אחרי ההשמה ל-y לא ישפיעו על הערך של y ופייתון לא עוקבת אחר הקשר בין המשתנים.\n",
    "</div>"
   ]
  },
  {
   "cell_type": "markdown",
   "metadata": {},
   "source": [
    "<div style=\"direction:rtl\">\n",
    "אפשר להשתמש כמעט בכל שם רציף למשתנה:\n",
    "</div>"
   ]
  },
  {
   "cell_type": "code",
   "execution_count": null,
   "metadata": {
    "collapsed": false
   },
   "outputs": [],
   "source": [
    "boaz=50\n",
    "uri=50\n",
    "team=boaz+uri\n",
    "print(team)"
   ]
  },
  {
   "cell_type": "markdown",
   "metadata": {},
   "source": [
    "<div style=\"direction:rtl\">\n",
    "יש שמות מותרים ויש אסורים:\n",
    "</div>"
   ]
  },
  {
   "cell_type": "code",
   "execution_count": null,
   "metadata": {
    "collapsed": false
   },
   "outputs": [],
   "source": [
    "israel=3"
   ]
  },
  {
   "cell_type": "code",
   "execution_count": null,
   "metadata": {
    "collapsed": false
   },
   "outputs": [],
   "source": [
    "israel israeli=3"
   ]
  },
  {
   "cell_type": "code",
   "execution_count": null,
   "metadata": {
    "collapsed": true
   },
   "outputs": [],
   "source": [
    "yoni34=4"
   ]
  },
  {
   "cell_type": "markdown",
   "metadata": {},
   "source": [
    "<div style=\"direction:rtl\">\n",
    "שימו לב שהסימן ״=״ כשמציבים למשתנה מתיחס באופן שונה לצד ימין וצד שמאל.\n",
    "לדוגמה, הפקודה הבאה לא עובדת (נסו)\n",
    "</div>"
   ]
  },
  {
   "cell_type": "code",
   "execution_count": null,
   "metadata": {
    "collapsed": false
   },
   "outputs": [],
   "source": [
    "7=x"
   ]
  },
  {
   "cell_type": "markdown",
   "metadata": {},
   "source": [
    "<div style=\"direction:rtl\">\n",
    "בדוגמה הבאה נראה כיצד משתנים הופכים לשימושיים בפתרון בעיות פיסיקליות:\n",
    "<br>\n",
    "התא הבא מחשב את התשובה לשאלה: \n",
    "<br>\n",
    "כדור נזרק כלפי מעלה במהירות התחלתית של 5 מטרים לשניה. מה גובהו ביחס לגובה הזריקה לאחר 0.6 שניות ?\n",
    "</div>"
   ]
  },
  {
   "cell_type": "code",
   "execution_count": null,
   "metadata": {
    "collapsed": false
   },
   "outputs": [],
   "source": [
    "g=10 #m/s^2\n",
    "ay=-g\n",
    "vy0=5 #m/s\n",
    "y0=0  #m\n",
    "t=0.6 #s\n",
    "\n",
    "y=y0+vy0*t+0.5*ay*t**2\n",
    "\n",
    "print('at t=',t,'seconds,  y=',y, 'meters')"
   ]
  },
  {
   "cell_type": "markdown",
   "metadata": {},
   "source": [
    "<div style=\"direction:rtl\">\n",
    "כעת חשבו את הגובה לאחר 1.3 שניות\n",
    "ע״י שינוי ערכו של המשתנה t בתא שלמעלה והרצת התא.\n",
    "כיצד תשתנה התשובה אם המהירות ההתחלתית היא 6 מטרים לשניה ולא 5?\n",
    "שוב ניתן לשנות את הערכים ולהריץ מחדש בקלות.\n",
    "<br>\n",
    "שימו לב שכך יש אפשרות להשמה מסודרת של הנתונים ושימוש מסודר בנוסחה.\n",
    "חשוב לציין שלמחשב אין מושג מה אנחנו מחשבים ובאילו יחידות אנחנו עובדים.\n",
    "ההערות שהוספנו כאן עם היחידות עוזרות להזכיר לנו את היחידות בהם אנו עובדים אך הן חסרות כל משמעות עבור פייתון.\n",
    "</div>"
   ]
  },
  {
   "cell_type": "markdown",
   "metadata": {},
   "source": [
    "<div style=\"direction:rtl\">\n",
    "מספרים גדולים ניתן לכתוב בעזרת חזקות של 10 ע״י שימוש ב e+ או e- כמו בדוגמאות הבאות\n",
    "(ניתן להשתמש ב E באותה מידה)\n",
    "</div>"
   ]
  },
  {
   "cell_type": "code",
   "execution_count": null,
   "metadata": {
    "collapsed": false
   },
   "outputs": [],
   "source": [
    "print('2e3=',2e3)\n",
    "print('20e3=',20e3)\n",
    "print('4E3=',4E3)\n",
    "print('1e-3=',1e-3)\n",
    "print('2e13*2e15=',2e13*2e15)"
   ]
  },
  {
   "cell_type": "markdown",
   "metadata": {},
   "source": [
    "<div style=\"direction:rtl\">\n",
    "<h4>\n",
    "משימה 2\n",
    "</h4>\n",
    "כתבו קוד שיבצע את המשימות הבאות והריצו אותו.\n",
    "אם לא נאמר אחרת הזינו משתנים פיזיקליים ביחידות של מטרים שניות וק״ג.\n",
    "</div>\n"
   ]
  },
  {
   "cell_type": "markdown",
   "metadata": {
    "collapsed": false
   },
   "source": [
    "<div style=\"direction:rtl\">\n",
    "הזינו את המספר 7 למשתנה חדש בשם y\n",
    "והדפיסו את הביטוי y+8 בעזרת הפקודה print.\n",
    "הריצו את הקוד וודאו שמודפס הערך 15.\n",
    "</div>"
   ]
  },
  {
   "cell_type": "code",
   "execution_count": null,
   "metadata": {
    "collapsed": true
   },
   "outputs": [],
   "source": [
    " "
   ]
  },
  {
   "cell_type": "markdown",
   "metadata": {},
   "source": [
    "<div style=\"direction:rtl\">\n",
    "הזינו את הערך של קבוע הגרביטציה האוניברסאלי למשתנה בשם G, את רדיוס כדור הארץ למשתנה בשם Rearth, ואת מסת כדור הארץ למשתנה בשם Mearth.\n",
    "\n",
    "חשבו את תאוצת המשיכה על פני כדור הארץ ע״י שימוש בחוק הכבידה האוניברסאלי ושימוש ישיר במשתנים שהזנתם והדפיסו את התוצאה בעזרת print.\n",
    "להזכירכם, חוק הכבידה האוניברסלי קובע שגודל תאוצת המשיכה במרחק *r* מגוף בעל מסה *M* נתון ע״י :\n",
    "$$a=\\frac{GM}{r^2}$$\n",
    "</div>"
   ]
  },
  {
   "cell_type": "code",
   "execution_count": null,
   "metadata": {
    "collapsed": true
   },
   "outputs": [],
   "source": []
  },
  {
   "cell_type": "markdown",
   "metadata": {},
   "source": [
    "<div style=\"direction:rtl\">\n",
    "הזינו את המרחק (הממוצע) בין כדור הארץ לשמש למשתנה חדש בשם\n",
    "AU ואת מסת השמש למשתנה חדש בשם Msun.\n",
    "חשבו והדפיסו את התאוצה של כדה״א כלפי השמש ע״י שימוש בחוק הכבידה האוניברסאלי.\n",
    "שימו לב שאין צורך להזין מחדש את G מכיוון שהמחשב זוכר את ערכו מההזנה הקודמת.\n",
    "</div>"
   ]
  },
  {
   "cell_type": "code",
   "execution_count": null,
   "metadata": {
    "collapsed": true
   },
   "outputs": [],
   "source": []
  },
  {
   "cell_type": "markdown",
   "metadata": {},
   "source": [
    "<div style=\"direction:rtl\">\n",
    "בעזרת המשתנים שכבר הזנתם חשבו את זמן הסיבוב של כדה״א סביב השמש ע״י שימוש בחוק השלישי של קפלר:\n",
    "</div>\n",
    "$$T=2\\pi\\frac{(AU)^{3/2}}{(GM_{sun})^{1/2}}$$\n",
    "<div style=\"direction:rtl\">\n",
    "הניחו ש pi=3.14\n",
    "הזינו את התשובה למשתנה T.\n",
    "הדפיסו את T.\n",
    "</div>"
   ]
  },
  {
   "cell_type": "markdown",
   "metadata": {},
   "source": [
    "<div style=\"direction:rtl\">\n",
    "צרו משתנה חדש daylength\n",
    "והזינו לתוכו את אורך היום בשניות.\n",
    "בעזרת T מהסעיף הקודם ו daylength,הדפיסו את זמן המחזור של כדה״א סביב השמש בימים.\n",
    "</div>"
   ]
  },
  {
   "cell_type": "code",
   "execution_count": null,
   "metadata": {
    "collapsed": true
   },
   "outputs": [],
   "source": []
  },
  {
   "cell_type": "markdown",
   "metadata": {},
   "source": [
    "<div style=\"direction:rtl\">\n",
    "<H2>\n",
    "שימוש בפונקציות מתמטיות נוספות ונוסחאות עם משתנים\n",
    "</H2>\n",
    "השימוש במשתנים מאפשר לנו להגדיר נוסחא כללית התלויה במשתנים שונים ולקבל את תוצאת הנוסחא בהינתן ערכי המשתנים.\n",
    "<br>\n",
    "לצורך הדוגמא הבאה נזדקק לפעולת השורש, פעולה אשר איננה חלק משפת פייתון הבסיסית.\n",
    "קיימת פקודה המוסיפה הרחבות מתמטיות שונות וכלים נוספים לפייתון, ביניהם את פעולת השורש.\n",
    "<br>\n",
    "הריצו את תא הקוד הבא כעת:\n",
    "שימו לב! עם הרצת תא הקוד יופיע הסימן '*' בשורה:\n",
    "</div>\n",
    "\n",
    "    In[ ]\n",
    "\n",
    "<div style=\"direction:rtl\">\n",
    "אם זוהי הפעם הראשונה בה אתם מפעילים פקודה זאת לאחר התקנת anaconda, ייתכן שיופיעו הודעות אזהרה עם רקע אדום.\n",
    "ניתן להתעלם מהודעות אלו.\n",
    "בנוסף, אם הסימן \\* לא נעלם כעבור כחצי דקה, יש ללחוץ על כפתור האתחול מחדש (סימן של חץ מעגלי בתפריט שבראש העמוד), ואז להריץ את השורה בשנית.\n",
    "ניתן להמשיך בעבודה רק לאחר שסימן ה-* נעלם.\n",
    "<br>\n",
    "בתחילת כל אחד מהפרקים הבאים נריץ תמיד שורת קוד זאת על מנת לטעון את ההרחבות לשפת פייתון.\n",
    "יש צורך להריץ את הפקודה בכל פעם שטוענים מסמך חדש בו משתמשים בהרחבות שהפקודה טוענת.\n",
    "</div>\n"
   ]
  },
  {
   "cell_type": "code",
   "execution_count": null,
   "metadata": {
    "collapsed": false
   },
   "outputs": [],
   "source": [
    "%pylab"
   ]
  },
  {
   "cell_type": "markdown",
   "metadata": {},
   "source": [
    "<div style=\"direction:rtl\">\n",
    "לאחר ההרצה נוספו פקודות שימושיות רבות.\n",
    "</div>"
   ]
  },
  {
   "cell_type": "markdown",
   "metadata": {},
   "source": [
    "<div style=\"direction:rtl\">\n",
    "טריגונומטריה:\n",
    "</div>"
   ]
  },
  {
   "cell_type": "code",
   "execution_count": null,
   "metadata": {
    "collapsed": false
   },
   "outputs": [],
   "source": [
    "print('pi=',pi)\n",
    "print('sin(3 radians)=',sin(3))\n",
    "print('arcsin(0.5)=',arcsin(0.5),'radians')\n",
    "print('arcsin(0.5)=',arcsin(0.5)*180/pi,'degrees')\n",
    "print('tan(pi/4)=',tan(pi/4))"
   ]
  },
  {
   "cell_type": "markdown",
   "metadata": {},
   "source": [
    "<div style=\"direction:rtl\">\n",
    "שורש:\n",
    "</div>"
   ]
  },
  {
   "cell_type": "code",
   "execution_count": null,
   "metadata": {
    "collapsed": false
   },
   "outputs": [],
   "source": [
    "print('sqrt(25)=',sqrt(25),'and also 25^0.5=',25**(0.5))"
   ]
  },
  {
   "cell_type": "markdown",
   "metadata": {},
   "source": [
    "<div style=\"direction:rtl\">\n",
    "<h4>\n",
    "משימה 3\n",
    "</h4>\n",
    "כתבו קוד שיבצע את הפעולות הבאות והריצו אותו.\n",
    "אם לא נאמר אחרת הזינו משתנים פיזיקליים ביחידות של מטרים שניות וק״ג.\n",
    "</div>"
   ]
  },
  {
   "cell_type": "markdown",
   "metadata": {},
   "source": [
    "<div style=\"direction:rtl\">\n",
    "\n",
    "מצאו את הפתרון של המשוואה הריבועית\n",
    "$$ ax^2+bx+c=0 $$\n",
    "בעזרת נוסחת השורשים, עבור המקרה\n",
    "a=1, b=5, c=4\n",
    "ועבור המקרה \n",
    "a=2,b=7,c=3\n",
    "עשו זאת ע״י השלמת הקוד בתאים הבאים במקום סימני השאלה.\n",
    "השתמשו במשתנים a,b,c ולא במספרים וכך תוכלו בקלות להעתיק את הביטויים מהתא הראשון לשני.\n",
    "</div>\n"
   ]
  },
  {
   "cell_type": "code",
   "execution_count": null,
   "metadata": {
    "collapsed": false
   },
   "outputs": [],
   "source": [
    "a=1\n",
    "b=5\n",
    "c=4\n",
    "x1=?\n",
    "x2=?\n",
    "print(x1,x2)"
   ]
  },
  {
   "cell_type": "code",
   "execution_count": null,
   "metadata": {
    "collapsed": true
   },
   "outputs": [],
   "source": [
    "a=2\n",
    "b=7\n",
    "c=3\n",
    "x1=?\n",
    "x2=?\n",
    "print(x1,x2)"
   ]
  },
  {
   "cell_type": "markdown",
   "metadata": {
    "collapsed": true
   },
   "source": [
    "<div style=\"direction:rtl\">\n",
    "כיתבו בתא הקוד הבא פקודות שיחשבו, בהיתן הערכים a ו-b, את נקודות החיתוך של הישר:\n",
    "\n",
    "$$ y=ax+b $$\n",
    "\n",
    "עם ציר ה-x וציר ה-y.\n",
    "הדפיסו את תוצאות החישוב באמצעות פקודת print.\n",
    "</div>"
   ]
  },
  {
   "cell_type": "code",
   "execution_count": null,
   "metadata": {
    "collapsed": true
   },
   "outputs": [],
   "source": []
  },
  {
   "cell_type": "markdown",
   "metadata": {},
   "source": [
    "<div style=\"direction:rtl\">\n",
    "השלימו את הקוד בתא הבא (במקום סימן השאלה) כך שיחשב, בהינתן מיקום התחלתי, מהירות, תאוצה ומיקום סופי, תוך כמה זמן יגיע הגוף למיקום הסופי.\n",
    "</div>"
   ]
  },
  {
   "cell_type": "code",
   "execution_count": null,
   "metadata": {
    "collapsed": false
   },
   "outputs": [],
   "source": [
    "x0=0\n",
    "v0=1\n",
    "a=3.2\n",
    "x=10\n",
    "\n",
    "t=?\n",
    "\n",
    "print(t)"
   ]
  },
  {
   "cell_type": "markdown",
   "metadata": {},
   "source": [
    "<div style=\"direction:rtl\">\n",
    "חשבו שוב את זמן הסיבוב של כדה״א ע״י שימוש בחוק השלישי של קפלר בדומה למה שעשיתם למעלה,\n",
    "רק שהפעם השתמשו בערך המדויק של pi ע״י שימוש במשתנה הקבוע pi\n",
    "ועם נוסחת השורש sqrt במקום החזקה בחצי במכנה\n",
    ":\n",
    "</div>\n",
    "$$T=2\\pi\\frac{(AU)^{3/2}}{\\sqrt{GM_{sun}}}$$\n",
    "<div style=\"direction:rtl\">\n",
    "אין צורך להזין מחדש את G,AU, Msun\n",
    "</div>"
   ]
  },
  {
   "cell_type": "code",
   "execution_count": null,
   "metadata": {
    "collapsed": true
   },
   "outputs": [],
   "source": []
  },
  {
   "cell_type": "markdown",
   "metadata": {},
   "source": [
    "<div style=\"direction:rtl\">\n",
    "שימרו את המסמך המעודכן על ידי הקשה על צלמית הדיסקט  מצד שמאל למעלה, או שימוש בקיצור המקלדת ctrl+s.\n",
    "</div>"
   ]
  },
  {
   "cell_type": "markdown",
   "metadata": {},
   "source": [
    "<div style=\"direction:rtl\">\n",
    "בסיום כל יחידה נסכם את הנושאים המרכזיים שנלמדו בה ונציג את השגיאות הנפוצות שיכולות להופיע כאשר משתמשים בחומר שנלמד ביחידה.\n",
    "<h3>\n",
    "סיכום היחידה:\n",
    "</h3>\n",
    "<ul>\n",
    "<li>\n",
    "בסביבת jupyter notebook שלושה סוגי תאים, תאי טקסט, תאי קוד בשפת פייתון ותאי פלט של קוד.\n",
    "</li>\n",
    "<li>\n",
    "על מנת להריץ את התוכן של כל תא יש להקיש shift+enter או ctrl+enter\n",
    "</li>\n",
    "<li>\n",
    "שפת פייתון מכירה את פעולות החשבון הבסיסיות, חיבור חיסור כפל וחילוק, המבוצעות באמצעות הסימנים + - \\* / פעולת החזקה מבוצעת על ידי הסימן \\*\\*\n",
    "</li>\n",
    "<li>\n",
    "ניתן להציב ערכים מספריים למשתנים. לכל משתנה יש שם שיכול להכיל אותיות ומספרים. התו הראשון בשם חייב להיות אות.\n",
    "</li>\n",
    "<li>\n",
    "על מנת להרחיב את שפת פייתון ולאפשר שימוש בפונקציות מתמטיות מתקדמות כגון שורש או הפונקציות הטריגונומטריות יש להריץ את הפקודה pylab%\n",
    "</li>\n",
    "<li>\n",
    "מספיק להריץ את הפקודה\n",
    "pylab% פעם אחת לאחר טעינת המסמך.\n",
    "בנוסף, משתנים אליהם הוצבו ערכים בתאים שכבר הורצו ישמרו על ערכים אלו בתאים שיורצו לאחר מכן, באותו המסמך.\n",
    "</li>\n",
    "<li>\n",
    "הפקודה print מאפשרת הדפסה של ערכים.\n",
    "ניתן להדפיס תוצאות של חישובים, ערכים של משתנים, או טקסט חופשי.\n",
    "ניתן להשתמש בגרשיים (\") או בגרש בודד (') לציון טקסט חופשי.\n",
    "</li>\n",
    "<li>\n",
    "שפת פייתון אינה מכירה את המושג הפיסיקלי של יחידות, \n",
    "לכן בביצוע חישובים זוהי אחריות המשתמש לזכור את היחידות בהם הוא משתמש בחישוב ולהבין את היחידות של התוצאה.\n",
    "</li>\n",
    "</ul>\n",
    "</div>"
   ]
  },
  {
   "cell_type": "markdown",
   "metadata": {},
   "source": [
    "<div style=\"direction:rtl\">\n",
    "<h3>\n",
    "שגיאות נפוצות והודעות השגיאה שהן גורמות\n",
    "</h3>\n",
    "כל אחד מהתאים הבאים מכיל שגיאה. הריצו כל תא וצפו בפלט המתקבל עבור שגיאה זו.\n",
    "</div>"
   ]
  },
  {
   "cell_type": "markdown",
   "metadata": {},
   "source": [
    "<div style=\"direction:rtl\">\n",
    "חלוקה ב-0\n",
    "</div>"
   ]
  },
  {
   "cell_type": "code",
   "execution_count": null,
   "metadata": {
    "collapsed": false,
    "scrolled": false
   },
   "outputs": [],
   "source": [
    "1/0"
   ]
  },
  {
   "cell_type": "markdown",
   "metadata": {},
   "source": [
    "<div style=\"direction:rtl\">\n",
    "פעולת שורש עבור מספר שלילי (שימו לב, אנו מניחים שההרחבה pylab%\n",
    "נטענה, אם לא, נקבל הודעת שגיאה שפייתון אינה מכירה את הפקודה sqrt)\n",
    "</div>"
   ]
  },
  {
   "cell_type": "code",
   "execution_count": null,
   "metadata": {
    "collapsed": false,
    "scrolled": true
   },
   "outputs": [],
   "source": [
    "sqrt(-1)"
   ]
  },
  {
   "cell_type": "markdown",
   "metadata": {},
   "source": [
    "<div style=\"direction:rtl\">\n",
    "שימוש במשתנה שלא הוגדר\n",
    "</div>"
   ]
  },
  {
   "cell_type": "code",
   "execution_count": null,
   "metadata": {
    "collapsed": false,
    "scrolled": false
   },
   "outputs": [],
   "source": [
    "x=z"
   ]
  },
  {
   "cell_type": "markdown",
   "metadata": {},
   "source": [
    "<div style=\"direction:rtl\">\n",
    "שימוש בשם משתנה לא חוקי\n",
    "</div>"
   ]
  },
  {
   "cell_type": "code",
   "execution_count": null,
   "metadata": {
    "collapsed": false,
    "scrolled": true
   },
   "outputs": [],
   "source": [
    "0x=5"
   ]
  },
  {
   "cell_type": "markdown",
   "metadata": {},
   "source": [
    "<div style=\"direction:rtl\">\n",
    "שימו לב שבכל הודעות השגיאה מצויין מספר השורה בתוך התא בה קרתה השגיאה, והשורה מצוטטת.\n",
    "בנוסף, אם פייתון יכולה להצביע על התו שגרם לשגיאה, גם הוא מסומן באמצעות התו ^\n",
    "</div>"
   ]
  },
  {
   "cell_type": "markdown",
   "metadata": {},
   "source": [
    "<div style=\"direction:rtl\">\n",
    "<h4>\n",
    "מזל טוב, סיימתם את היחידה הראשונה!\n",
    "</h4>\n",
    "</div>"
   ]
  }
 ],
 "metadata": {
  "kernelspec": {
   "display_name": "Python 3",
   "language": "python",
   "name": "python3"
  },
  "language_info": {
   "codemirror_mode": {
    "name": "ipython",
    "version": 3
   },
   "file_extension": ".py",
   "mimetype": "text/x-python",
   "name": "python",
   "nbconvert_exporter": "python",
   "pygments_lexer": "ipython3",
   "version": "3.5.1"
  }
 },
 "nbformat": 4,
 "nbformat_minor": 0
}
