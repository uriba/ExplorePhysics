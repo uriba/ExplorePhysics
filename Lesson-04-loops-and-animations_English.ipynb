{
 "cells": [
  {
   "cell_type": "markdown",
   "metadata": {
    "slideshow": {
     "slide_type": "slide"
    }
   },
   "source": [
    "<H1>\n",
    "Physics with python\n",
    "</H1>\n",
    "<H3>\n",
    "Lesson 4 loops and animations\n",
    "</H3>\n",
    "First we will upload the pylab libraries using %pylab.\n",
    "We will create animations in this lesson and these cannot be shown inline in the document so we do not use the inline option here."
   ]
  },
  {
   "cell_type": "code",
   "execution_count": 2,
   "metadata": {
    "collapsed": false,
    "scrolled": false
   },
   "outputs": [
    {
     "name": "stdout",
     "output_type": "stream",
     "text": [
      "Using matplotlib backend: MacOSX\n",
      "Populating the interactive namespace from numpy and matplotlib\n"
     ]
    }
   ],
   "source": [
    "%pylab"
   ]
  },
  {
   "cell_type": "markdown",
   "metadata": {},
   "source": [
    "<h3>\n",
    "Some additional tricks we will need.\n",
    "</h3>\n",
    "First, a couple of useful properties of arange.\n",
    "<br>\n",
    "If we omit the parameter that sets the step size we get the default which is steps of 1.\n",
    "If in addition we omit the starting value, we get the default value which is 0. Read the code in the next few celles, try to guess what will be their output and then run them to see if your were right."
   ]
  },
  {
   "cell_type": "code",
   "execution_count": null,
   "metadata": {
    "collapsed": true
   },
   "outputs": [],
   "source": [
    "arange(1,10,1)"
   ]
  },
  {
   "cell_type": "code",
   "execution_count": null,
   "metadata": {
    "collapsed": true
   },
   "outputs": [],
   "source": [
    "arange(1,10)"
   ]
  },
  {
   "cell_type": "code",
   "execution_count": null,
   "metadata": {
    "collapsed": false
   },
   "outputs": [],
   "source": [
    "arange(10)"
   ]
  },
  {
   "cell_type": "code",
   "execution_count": null,
   "metadata": {
    "collapsed": false
   },
   "outputs": [],
   "source": [
    "arange(-3)"
   ]
  },
  {
   "cell_type": "markdown",
   "metadata": {},
   "source": [
    "Another usefull command we will need is 'pause(t)' which pauses the program for t seconds. Try it in the next cell. Change the number in the parantheses to see how it works."
   ]
  },
  {
   "cell_type": "code",
   "execution_count": null,
   "metadata": {
    "collapsed": false
   },
   "outputs": [],
   "source": [
    "print('ready? start waiting')\n",
    "pause(3)\n",
    "print('done')\n"
   ]
  },
  {
   "cell_type": "markdown",
   "metadata": {},
   "source": [
    "Note that while you are wating for a cell to finish its program, the word 'In [ ]:' to the left of the cell changes to 'In [*]'. This means the program is now running and has not finihsed yet. Any other code you try to run during this time only work after the current is done. If you want to force it to finish before it is done, you can click the stop button (filled black square in the toolcell at the top of the document's window). "
   ]
  },
  {
   "cell_type": "markdown",
   "metadata": {},
   "source": [
    "Finally, we will need the command 'round' that rounds non integer numbers into integer. Run the next cell to see how it works"
   ]
  },
  {
   "cell_type": "code",
   "execution_count": null,
   "metadata": {
    "collapsed": false
   },
   "outputs": [],
   "source": [
    "print('round(3.7)=',round(3.7))\n",
    "print('round(3.2)=',round(3.2))\n",
    "print('round(3.5)=',round(3.5))\n",
    "print('round(-3.7)=',round(-3.7))\n",
    "print('3/3=',3/3,'but round(3/3)=',round(3/3),' what is the difference?')"
   ]
  },
  {
   "cell_type": "markdown",
   "metadata": {},
   "source": [
    "Note the last line. Even though 1.0 and 1 are the same number exactly, in python they are treated a little bit differently. 1, is a number that is *identified* by python as an integer while 1.0 just a number that happens to equal 1. This is important when trying to use number as indexes. An index only makes sense if it is an integer. Try the following two celles and read the output/error/warnings that results."
   ]
  },
  {
   "cell_type": "code",
   "execution_count": null,
   "metadata": {
    "collapsed": false
   },
   "outputs": [],
   "source": [
    "x=arange(3)\n",
    "n=3/3\n",
    "x[n]"
   ]
  },
  {
   "cell_type": "code",
   "execution_count": null,
   "metadata": {
    "collapsed": false
   },
   "outputs": [],
   "source": [
    "x=arange(3)\n",
    "n=round(3/3)\n",
    "x[n]"
   ]
  },
  {
   "cell_type": "markdown",
   "metadata": {},
   "source": [
    "<div>\n",
    "<H2>\n",
    "Lets start:\n",
    "Loops\n",
    "</H2>\n",
    "Many times, we will want to preform a certain action several times.\n",
    "A simple way to do it is to use loops.\n",
    "<br>\n",
    "The code in the next cell prints the integer numbers in the range 0-9.\n",
    "Run the cell, note the output and continue reading. \n",
    "</div>"
   ]
  },
  {
   "cell_type": "code",
   "execution_count": null,
   "metadata": {
    "collapsed": false
   },
   "outputs": [],
   "source": [
    "x=arange(10)\n",
    "for i in x:\n",
    "    print(i)"
   ]
  },
  {
   "cell_type": "markdown",
   "metadata": {},
   "source": [
    "The code you just ran has three lines.\n",
    "The first line creates a variable (arbitrarly called 'x'), which contains the series 0-9 which we want to print.\n",
    "The next two lines preform a 'loop' in which the computer preforms a similar task again and again using each of the elements in x. If the computer could understand common english we could have told him:\n",
    "<br>\n",
    "For each element in x, take the element and print it.\n",
    "<br>\n",
    "Unforetunetily, it doesn't. It can only preform the specific commands that comprise the programming language. Instead of writing\n",
    "<br>\n",
    "For each element in x\n",
    "<br>\n",
    "we write \n",
    "<br>\n",
    "for i in x:\n",
    "<br>\n",
    "This is our way to tell the computer: \"go over each of the elements in x, for each element, assign its value to a new variable 'i' and preform the next tasks that are written below. \n",
    "Now we have to tell the computer what to do for each element. We do that by adding additional commands. In order that the computer understands that the next commands are associated with the loop, and should be preformed for each element, the next line ( print(i)) is shifted to the right by a few spaces. \n",
    "<br>\n",
    "The following examples should help you understand how such loops work. In each of them, try to guess what will happen (including the possiblity of an error message), then run the cells and see if you were right."
   ]
  },
  {
   "cell_type": "code",
   "execution_count": null,
   "metadata": {
    "collapsed": false
   },
   "outputs": [],
   "source": [
    "x=arange(10)\n",
    "for i in x:\n",
    "    print(i)\n",
    "    print(i)"
   ]
  },
  {
   "cell_type": "code",
   "execution_count": null,
   "metadata": {
    "collapsed": false
   },
   "outputs": [],
   "source": [
    "x=arange(10)\n",
    "for i in x:\n",
    "    print(i)\n",
    "    print(\"i\")\n",
    "    "
   ]
  },
  {
   "cell_type": "code",
   "execution_count": null,
   "metadata": {
    "collapsed": false
   },
   "outputs": [],
   "source": [
    "x=arange(10)\n",
    "for i in x:\n",
    "    print(i)\n",
    "print(\"i\")"
   ]
  },
  {
   "cell_type": "code",
   "execution_count": null,
   "metadata": {
    "collapsed": false
   },
   "outputs": [],
   "source": [
    "x=arange(10)\n",
    "for i in x:\n",
    "print(i)\n",
    "print(\"i\")"
   ]
  },
  {
   "cell_type": "code",
   "execution_count": null,
   "metadata": {
    "collapsed": false
   },
   "outputs": [],
   "source": [
    "yosef=arange(10)\n",
    "for shimon in yosef:\n",
    "    print(shimon)\n"
   ]
  },
  {
   "cell_type": "code",
   "execution_count": null,
   "metadata": {
    "collapsed": false
   },
   "outputs": [],
   "source": [
    "x=arange(-1,5,0.5)\n",
    "for i in x:\n",
    "    print(i)"
   ]
  },
  {
   "cell_type": "code",
   "execution_count": null,
   "metadata": {
    "collapsed": false
   },
   "outputs": [],
   "source": [
    "for i in arange(10):\n",
    "    isquare=i**2\n",
    "    print(i,isquare)"
   ]
  },
  {
   "cell_type": "code",
   "execution_count": null,
   "metadata": {
    "collapsed": false
   },
   "outputs": [],
   "source": [
    "for i in arange(10):\n",
    "    print(i,i**2)"
   ]
  },
  {
   "cell_type": "markdown",
   "metadata": {},
   "source": [
    "In the next cell there is no loop but there is an interesting use of variables that we will need in many kinds of loops. Try to guess what will happen and then run the cell."
   ]
  },
  {
   "cell_type": "code",
   "execution_count": null,
   "metadata": {
    "collapsed": true
   },
   "outputs": [],
   "source": [
    "x=3\n",
    "print(x)\n",
    "x=x+1\n",
    "print(x)\n",
    "x=x+1\n",
    "print(x)"
   ]
  },
  {
   "cell_type": "markdown",
   "metadata": {},
   "source": [
    "The line, \n",
    "$$x=x+1$$\n",
    "does not make sense mathematically.\n",
    "How can a number be larger than itself?\n",
    "Obviously, this is not the way the computer understands it.\n",
    "In many programing languages, the symbol '=' does not mean \"the left-hand-side equals the right-hand-side\", but rather \"calculate the left-hand-side and assign the result to the variable on the right-hand-side\".   \n",
    "Therefore, the computer starts with the right-hand-side which has\n",
    "$$x+1$$\n",
    "It uses the current value of x, known from a previous assignment, to calculate a new number (in this case larger than the value in x).\n",
    "Only then does the computer consider what is written in the left-hand-side 'x'. It therefore assigns the reuslt of the calculation to the variable 'x'. The previous value is forgotten and from now on, x has a the new value.\n",
    "In the next cell, this trick is used in a loop. Try to guess what will happen and then run the cell."
   ]
  },
  {
   "cell_type": "code",
   "execution_count": null,
   "metadata": {
    "collapsed": true
   },
   "outputs": [],
   "source": [
    "x=5\n",
    "for i in arange(10)\n",
    "    x=x+1\n",
    "print(x)"
   ]
  },
  {
   "cell_type": "markdown",
   "metadata": {},
   "source": [
    "<div>\n",
    "Below are some more interesting (and useful) examples.\n",
    "</div>"
   ]
  },
  {
   "cell_type": "code",
   "execution_count": null,
   "metadata": {
    "collapsed": false
   },
   "outputs": [],
   "source": [
    "sumsofar=0\n",
    "for i in arange(10):\n",
    "    sumsofar=sumsofar+i\n",
    "    print(i,sumsofar)"
   ]
  },
  {
   "cell_type": "code",
   "execution_count": null,
   "metadata": {
    "collapsed": false
   },
   "outputs": [],
   "source": [
    "multsofar=1\n",
    "for i in arange(1,10):\n",
    "    multsofar=multsofar*i\n",
    "    print(i,multsofar)\n",
    "print(\"9!=\",multsofar)"
   ]
  },
  {
   "cell_type": "code",
   "execution_count": null,
   "metadata": {
    "collapsed": false
   },
   "outputs": [],
   "source": [
    "n=12\n",
    "multsofar=1\n",
    "for i in arange(1,n+1):\n",
    "    multsofar=multsofar*i\n",
    "print(\"n=\",n)\n",
    "print(\"n!=\",multsofar)"
   ]
  },
  {
   "cell_type": "markdown",
   "metadata": {
    "slideshow": {
     "slide_type": "slide"
    }
   },
   "source": [
    "<h4>\n",
    "Ex 1.:\n",
    "</h4>\n",
    "Write code that preforms each of the following tasks in the cell below it and run it."
   ]
  },
  {
   "cell_type": "markdown",
   "metadata": {},
   "source": [
    "Print the integers in the range 1-15"
   ]
  },
  {
   "cell_type": "code",
   "execution_count": null,
   "metadata": {
    "collapsed": true
   },
   "outputs": [],
   "source": []
  },
  {
   "cell_type": "markdown",
   "metadata": {},
   "source": [
    "Print your name 12 times"
   ]
  },
  {
   "cell_type": "code",
   "execution_count": null,
   "metadata": {
    "collapsed": true
   },
   "outputs": [],
   "source": []
  },
  {
   "cell_type": "markdown",
   "metadata": {},
   "source": [
    "Calculate the third power of each integer in the range 5-10 and print each result."
   ]
  },
  {
   "cell_type": "code",
   "execution_count": null,
   "metadata": {
    "collapsed": true
   },
   "outputs": [],
   "source": []
  },
  {
   "cell_type": "markdown",
   "metadata": {},
   "source": [
    "Calculate the sum of the third power of the integers in the range 5-10 and print the final result."
   ]
  },
  {
   "cell_type": "code",
   "execution_count": null,
   "metadata": {
    "collapsed": true
   },
   "outputs": [],
   "source": []
  },
  {
   "cell_type": "markdown",
   "metadata": {},
   "source": [
    "<h2>\n",
    "Using loops to create animations\n",
    "</h2>\n",
    "We can now use the tools we learned so far in order to create animations of simple physical phenomena. In order to create an animation we need to update the position of each object as time proceeds.  \n",
    "<h3>\n",
    "An animation of a moving dot. \n",
    "</h3>\n",
    "Read the code in the cell below and run it. Note that you need to see the new figure that opens in order to see the simulation. It may be hinding behind the document's window."
   ]
  },
  {
   "cell_type": "code",
   "execution_count": 6,
   "metadata": {
    "collapsed": false
   },
   "outputs": [],
   "source": [
    "objects=plot(0,0,'.')\n",
    "dot=objects[0]\n",
    "\n",
    "xlim(0,30)\n",
    "ylim(0,30)\n",
    "\n",
    "for i in arange(30):\n",
    "    dot.set_data(i,i)\n",
    "    pause(0.1)"
   ]
  },
  {
   "cell_type": "markdown",
   "metadata": {},
   "source": [
    "This code creates an animation of a moving dot. The first line creates a figure and plots the dot at the initial location (0,0).\n",
    "The command plot, returns a list of all the objects that are plotted. So far we ignored this information. Since the line in the code above plots only one object, this list will only have one object with the index 0.\n",
    "The second line assigns this object to a new variable we called 'dot'. This will allow us to access this dot and update its position.\n",
    "<br>\n",
    "The next two lines (with 'xlim' and 'ylim') set the limits of the axes to values which are sufficiently large so that all positions of the dot in the animation would be included. Try to see what would happen if these two lines are commented out (remember to first close the figure before running the animation).\n",
    "<br>\n",
    "The last three lines prefomr the loop which goes over all the integers in the range 0-30.\n",
    "In each step, the location of the dot is updated using the .set_data suffix. Since this is an animation of a single dot, one number for the x value and one number for the y value are sufficient. In this case the loop index i was used.\n",
    "\n",
    "Note that the command 'pause' is used. It has two functions- first it slows down the loop so that the dot does not move too fast. Second, it forces python to update the plot each step. Try to change the time parameter in the pause command or to comment it altogether and see how it affects the simulation.  \n",
    "\n",
    "Note that even if we put very small time values in the pause command, the simulation still takes a non-negligible time to run. This is due to the fact that plot updates are very slow in python."
   ]
  },
  {
   "cell_type": "markdown",
   "metadata": {},
   "source": [
    "<h4>\n",
    "Ex. 2.\n",
    "</h4>\n",
    "Change the code above to make the dot move twice as fast in the y axis than in the x axis."
   ]
  },
  {
   "cell_type": "markdown",
   "metadata": {},
   "source": [
    "<h4>\n",
    "Ex 3.\n",
    "</h4>\n",
    "Change the code below (which is identical to the code we used above) so that the dot moves along the parabola:\n",
    "$$ y=\\frac{-x^2+1000x}{1000} $$"
   ]
  },
  {
   "cell_type": "code",
   "execution_count": null,
   "metadata": {
    "collapsed": false
   },
   "outputs": [],
   "source": [
    "objects=plot(0,0,'.')\n",
    "dot=objects[0]\n",
    "\n",
    "xlim(0,1000)\n",
    "ylim(0,1000)\n",
    "\n",
    "for i in arange(1000):\n",
    "    dot.set_data(i,i)\n",
    "    pause(0.001)"
   ]
  },
  {
   "cell_type": "markdown",
   "metadata": {},
   "source": [
    "<h3>\n",
    "An animation of a line\n",
    "</h3>\n",
    "In the example we studies above a single dot was moving.\n",
    "If we use the plot command to create a line, the object that is returned will represent a line. In this case, we can create an animation of the line changing and moving by updating the x and y values of the line accordingly. \n",
    "Read the code in the cell below, guess what kind of animation will be created, run the code and see if you were right."
   ]
  },
  {
   "cell_type": "code",
   "execution_count": null,
   "metadata": {
    "collapsed": false,
    "scrolled": true
   },
   "outputs": [],
   "source": [
    "xs=arange(0,10,0.1)\n",
    "ys=sin(xs)\n",
    "\n",
    "objects=plot(xs,ys)\n",
    "line=objects[0]\n",
    "\n",
    "for phase in arange(0,10,0.05):\n",
    "    line.set_data(xs,sin(xs+phase))\n",
    "    pause(0.001)"
   ]
  },
  {
   "cell_type": "markdown",
   "metadata": {
    "collapsed": true
   },
   "source": [
    "<h4>\n",
    "Ex. 4\n",
    "</h4>\n",
    "Change the code above so that the amplitude of the sine function will change in the range 0-10 instead of the phase. Make sure you set the axes range before the loop using 'xlim' and 'ylim' to allow the changes to be seen. "
   ]
  },
  {
   "cell_type": "markdown",
   "metadata": {
    "collapsed": true
   },
   "source": [
    "<h3>\n",
    "Combining animation with movable and non-movable parts\n",
    "</h3>\n",
    "Read the code in the cell below, guess what will happen and then run it."
   ]
  },
  {
   "cell_type": "code",
   "execution_count": null,
   "metadata": {
    "collapsed": false
   },
   "outputs": [],
   "source": [
    "angles=arange(0,15,0.01)\n",
    "\n",
    "xs=cos(angles)\n",
    "ys=sin(angles)\n",
    "plot(xs,ys,'r')\n",
    "\n",
    "objects=plot(xs[0],ys[0],'bo')\n",
    "dot=objects[0]\n",
    "\n",
    "for a in angles:\n",
    "    dot.set_data(cos(a),sin(a))\n",
    "    pause(0.001)"
   ]
  },
  {
   "cell_type": "markdown",
   "metadata": {},
   "source": [
    "As you can see, if we plot additional lines and do not change them, they will remain there. Can you make two dots moving at different rates along the circle?"
   ]
  },
  {
   "cell_type": "markdown",
   "metadata": {
    "collapsed": true
   },
   "source": [
    "<h4>\n",
    "Ex. 5.\n",
    "</h4>\n",
    "A ball is thrown with an initial velocity having the components of 1 meter per second in the y direction (up) and 2 meters per second in the x direction (horizontally). \n",
    "Plot the trajectory of the motion in the x-y plane with a dashed green line. Create an animation of the ball (represented by a black dot) moving along the trajectory."
   ]
  },
  {
   "cell_type": "code",
   "execution_count": null,
   "metadata": {
    "collapsed": true
   },
   "outputs": [],
   "source": []
  },
  {
   "cell_type": "markdown",
   "metadata": {
    "collapsed": true
   },
   "source": [
    "Save the updated document using the save button in the top left corner or using the keyboard - ctrl+s"
   ]
  },
  {
   "cell_type": "markdown",
   "metadata": {},
   "source": [
    "<h3>\n",
    "Lesson Summary:\n",
    "</h3>\n",
    "<ul>\n",
    "<li>\n",
    "To preform a task repeatedly we use loops. \n",
    "</li>\n",
    "<li>\n",
    "A simple way to use loops in python is using the 'for' command.\n",
    "This commands accepts a list and a name of a variable. For each element in the list, the value of the element is assigned to the variable and then the commands below the 'for' which are shifted by spaces to the right are preformed.  \n",
    "For example, the loop below prints the elements in the list x\n",
    "</li>\n",
    "</ul>\n",
    "    for i in x:\n",
    "        print(i)\n",
    "<ul>\n",
    "<li>\n",
    "The plot command returns a list of objects that were plotted. \n",
    "</li>\n",
    "<li>\n",
    "We can update the data of a ploted point or line using .set_data\n",
    "</li>\n",
    "<li>\n",
    "The commnad 'pause' can be used to slow down the animation and to force python to update the figure.\n",
    "</li>\n",
    "<li>\n",
    "An animation can be created by combining .set_data and pause in a loop.\n",
    "</li>\n",
    "<li>\n",
    "Several objects (lines /curves) can be used in an animation. Objects for which the data is not updated in the loop are remained fixed.\n",
    "</li>\n",
    "<li>\n",
    "During the time an animation is running, the kernel is busy and other cells cannot be executed. A running animation can be stopped by closing the figure and clicking on the stop button.\n",
    "</li>\n",
    "</ul>\n",
    "</div>"
   ]
  },
  {
   "cell_type": "markdown",
   "metadata": {},
   "source": [
    "<h3>\n",
    "Common errors and the resulting eror messages.\n",
    "</h3>\n",
    "Each of the following cells contains and error. Run each one and read the error message.\n",
    "</div>"
   ]
  },
  {
   "cell_type": "markdown",
   "metadata": {},
   "source": [
    "The commands that are supposed to be preformed each step are not indented to the right"
   ]
  },
  {
   "cell_type": "code",
   "execution_count": null,
   "metadata": {
    "collapsed": false
   },
   "outputs": [],
   "source": [
    "x=arange(0,10,1)\n",
    "for i in x:\n",
    "print(i)"
   ]
  },
  {
   "cell_type": "markdown",
   "metadata": {},
   "source": [
    "An indentation which is not related to a loop"
   ]
  },
  {
   "cell_type": "code",
   "execution_count": null,
   "metadata": {
    "collapsed": false
   },
   "outputs": [],
   "source": [
    "x=5\n",
    "    print(x)"
   ]
  },
  {
   "cell_type": "markdown",
   "metadata": {},
   "source": [
    "The list used in the loop contains only one element."
   ]
  },
  {
   "cell_type": "code",
   "execution_count": null,
   "metadata": {
    "collapsed": false
   },
   "outputs": [],
   "source": [
    "x=5\n",
    "for i in x:\n",
    "    print(i)"
   ]
  },
  {
   "cell_type": "markdown",
   "metadata": {},
   "source": [
    "<h4>\n",
    "Congragulations! You finished lesson 4.\n",
    "</h4>"
   ]
  }
 ],
 "metadata": {
  "kernelspec": {
   "display_name": "Python 3",
   "language": "python",
   "name": "python3"
  },
  "language_info": {
   "codemirror_mode": {
    "name": "ipython",
    "version": 3
   },
   "file_extension": ".py",
   "mimetype": "text/x-python",
   "name": "python",
   "nbconvert_exporter": "python",
   "pygments_lexer": "ipython3",
   "version": "3.5.1"
  }
 },
 "nbformat": 4,
 "nbformat_minor": 0
}
