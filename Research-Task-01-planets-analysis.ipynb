{
 "cells": [
  {
   "cell_type": "markdown",
   "metadata": {},
   "source": [
    "<div style=\"direction:rtl\">\n",
    "<H1>\n",
    "השתלמות בחישובים נומריים למורי פיסיקה חקר\n",
    "</H1>\n",
    "<H2>\n",
    "חקר התנועה של כוכבי הלכת\n",
    "</H2>\n",
    "בעבודה זאת עליכם לחקור את התנועה של ככבי הלכת בשמיים ולבדוק האם יש עדויות שהם מסתובבים סביב השמש.\n",
    "\n",
    "כאשר עוקבים אחרי תנועת השמש וכוכבי הלכת ביחס לרקע של הכוכבים בשמיים, נראה שכולם מקיפים את כדה״א בקירוב לאורך מעגל גדול אחד (בקצבים וצורות שונות).\n",
    "\n",
    "כבר היוונים הקדמונים פירשו עובדה זאת כעדות לכך שגרמי השמים נעים במישור (בקירוב) שבו נמצא גם כדה״א.\n",
    "\n",
    "על מעגל זה נמצאות שתיים עשרה קבוצות הכוכבים שמייצגות את המזלות. \n",
    "\n",
    "המיקום של כל גרם שמים בזמן נתון נקבע בעיקר ע״י זוית אחת - המיקום לאורך קו זה.\n",
    "\n",
    "באופן גס, אפשר לאמר באיזה מזל נמצא גרם השמים, ובאופן מדויק אפשר לציין את הזווית האורכית שלו (Longitude).\n",
    "<br>\n",
    "בקישורים הבאים קבצים עם הזוית כתלות בזמן של\n",
    "<a href=\"http://anaconda.org/explorephysics/data-1/1/download/sun.csv\">\n",
    "השמש(sun)\n",
    "</a>\n",
    "וכוכבי הלכת ההיסטוריים,\n",
    "<a href=\"http://anaconda.org/explorephysics/data-1/1/download/mercury.csv\">\n",
    "כוכב חמה(mercury)\n",
    "</a>,\n",
    "<a href=\"http://anaconda.org/explorephysics/data-1/1/download/venus.csv\">\n",
    "נוגה (venus)\n",
    "</a>,\n",
    "<a href=\"http://anaconda.org/explorephysics/data-1/1/download/mars.csv\">\n",
    "מאדים (mars)\n",
    "</a>,\n",
    "<a href=\"http://anaconda.org/explorephysics/data-1/1/download/jupiter.csv\">\n",
    "צדק (jupiter)\n",
    "</a>, ו\n",
    "<a href=\"http://anaconda.org/explorephysics/data-1/1/download/saturn.csv\">\n",
    "שבתאי (saturn)\n",
    "</a>.\n",
    "<br>\n",
    "\n",
    "השם של כל קובץ הוא שם כוכב הלכת באנגלית וסיומת csv. הורידו את הקבצים ושמרו אותם בספרייה בה אתם עובדים.\n",
    "\n",
    "הזמן נמדד בימים ביחס ל-1 לינואר שנת 2000.\n",
    "</div>"
   ]
  },
  {
   "cell_type": "markdown",
   "metadata": {},
   "source": [
    "<div style=\"direction:rtl\">\n",
    "ראשית נייבא מספר כלים שימושיים. נשתמש ב pylab ומכיוון שעלינו ליבא נתונים, נייבא גם את ספריית pandas.\n",
    "הריצו את התא הבא לייבוא הספריות.\n",
    "</div>"
   ]
  },
  {
   "cell_type": "code",
   "execution_count": null,
   "metadata": {
    "collapsed": false
   },
   "outputs": [],
   "source": [
    "%pylab\n",
    "from pandas import *"
   ]
  },
  {
   "cell_type": "markdown",
   "metadata": {},
   "source": [
    "<div style=\"direction:rtl\">\n",
    "התא הבא מייבא את נתוני מיקום השמש בשמים מתוך הקובץ המתאים- sun.csv.\n",
    "הריצו אותו.\n",
    "</div>"
   ]
  },
  {
   "cell_type": "code",
   "execution_count": null,
   "metadata": {
    "collapsed": false
   },
   "outputs": [],
   "source": [
    "sun=read_csv('sun.csv')"
   ]
  },
  {
   "cell_type": "markdown",
   "metadata": {},
   "source": [
    "<div style=\"direction:rtl\">\n",
    "בכדי לראות כיצד הטבלה נראית, הריצו את התא הבא:\n",
    "</div>"
   ]
  },
  {
   "cell_type": "code",
   "execution_count": null,
   "metadata": {
    "collapsed": false
   },
   "outputs": [],
   "source": [
    "print(sun)"
   ]
  },
  {
   "cell_type": "markdown",
   "metadata": {},
   "source": [
    "<div style=\"direction:rtl\">\n",
    "כפי שאתם רואים הטבלא מכילה עמודת זמן, \n",
    "tdays\n",
    "ועמודת זווית \n",
    "Angledeg.\n",
    "נקרא את העמודות למשתנים:\n",
    "</div>"
   ]
  },
  {
   "cell_type": "code",
   "execution_count": null,
   "metadata": {
    "collapsed": false
   },
   "outputs": [],
   "source": [
    "tsun=array(sun['tdays'])\n",
    "Asun=array(sun['Angledeg'])"
   ]
  },
  {
   "cell_type": "markdown",
   "metadata": {},
   "source": [
    "<div style=\"direction:rtl\">\n",
    "כעת נצייר את הזוית של השמש:\n",
    "</div>"
   ]
  },
  {
   "cell_type": "code",
   "execution_count": null,
   "metadata": {
    "collapsed": false
   },
   "outputs": [],
   "source": [
    "plot(tsun, Asun,'y')"
   ]
  },
  {
   "cell_type": "markdown",
   "metadata": {},
   "source": [
    "<div style=\"direction:rtl\">\n",
    "שימו לב שהזויות גדלות למספרים הגדולים מ-360. הדבר נועד לנוחות. \n",
    "כאשר גרם השמיים מבצע יותר ממעגל שלם, הזווית ממשיכה ברציפות מעבר ל-360.\n",
    "</div>"
   ]
  },
  {
   "cell_type": "markdown",
   "metadata": {},
   "source": [
    "<div style=\"direction:rtl\">\n",
    "<H3>\n",
    "כלים שימושיים נוספים:\n",
    "</H3>\n",
    "<H4>\n",
    "חלק מהעבודה תכלול בניית מודלים של תנועת כוכבי הלכת. לשם כך תזדקקו לפעולות טריגונומטריות.\n",
    "</H4>\n",
    "\n",
    "הריצו את התאים הבאים בכדי להזכר (או להכיר) כיצד עובדות הפונקציות הטריגונומטריות\n",
    "</div>"
   ]
  },
  {
   "cell_type": "code",
   "execution_count": null,
   "metadata": {
    "collapsed": false
   },
   "outputs": [],
   "source": [
    "print(pi,sin(pi/2),cos(pi),tan(pi/4))"
   ]
  },
  {
   "cell_type": "markdown",
   "metadata": {},
   "source": [
    "<div style=\"direction:rtl\">\n",
    "במקרים מסוימים במודל, נדע את רכיבי המיקום של גרם השמים במישור ונרצה לחלץ את הזוית אליו בעזרת arctan(y/x). \n",
    "כפי שאתם יודעים, צריך לקבוע באיזה רביע הזוית נמצאת כדי למצוא את התשובה הסופית.\n",
    "ברביע שבו x שלילי נקבל תשובה שמוזזת ב$\\pi$  מהתשובה הנכונה.\n",
    "</div>\n"
   ]
  },
  {
   "cell_type": "code",
   "execution_count": null,
   "metadata": {
    "collapsed": false
   },
   "outputs": [],
   "source": [
    "R=3\n",
    "A=2.1 #radians\n",
    "x=cos(A)\n",
    "y=sin(A)\n",
    "print('A=',A,'arctan(y/x)=',arctan(y/x))"
   ]
  },
  {
   "cell_type": "markdown",
   "metadata": {},
   "source": [
    "<div style=\"direction:rtl\">\n",
    "פתרו לנו את הבעיה של למצוא רביע ע״י הפקודה arctan2 שמקבלת את x ואת y לחוד:\n",
    "</div>"
   ]
  },
  {
   "cell_type": "code",
   "execution_count": null,
   "metadata": {
    "collapsed": false
   },
   "outputs": [],
   "source": [
    "R=3\n",
    "A=2.1 #radians\n",
    "x=cos(A)\n",
    "y=sin(A)\n",
    "print('A=',A,'arctan2(y,x)=',arctan2(y,x))"
   ]
  },
  {
   "cell_type": "markdown",
   "metadata": {},
   "source": [
    "<div style=\"direction:rtl\">\n",
    "כפי שאתם רואים תודות ל pylab, יש לנו פקודות טריגונומטריות ברדיאנים. \n",
    "מכיוון שהנתונים במעלות, יותר נוח לעבוד ישירות במעלות.\n",
    "התא הבא מייצר פקודות טריגונומטריות חדשות שיעבדו במעלות במקום ברדיאנים.\n",
    "לפקודות יהיו אותם שמות כמו קודם אך עם סיומת d בכדי להזכיר שמדובר ב degrees.\n",
    "<br>\n",
    "אין צורך להבין איך התא עובד (אתם כמובן מוזמנים). בכל מקרה הריצו אותו. \n",
    "</div>"
   ]
  },
  {
   "cell_type": "code",
   "execution_count": null,
   "metadata": {
    "collapsed": true
   },
   "outputs": [],
   "source": [
    "def cosd(x):\n",
    "    return cos(x/180*pi)\n",
    "\n",
    "def sind(x):\n",
    "    return sin(x/180*pi)\n",
    "\n",
    "def tand(x):\n",
    "    return tan(x/180*pi)\n",
    "\n",
    "def arctan2d(y,x):\n",
    "    return 180/pi*arctan2(y,x)"
   ]
  },
  {
   "cell_type": "markdown",
   "metadata": {},
   "source": [
    "<div style=\"direction:rtl\">\n",
    "כעת יש לנו פונקציות טריגונומטריות שעובדות במעלות. נסו את התא הבא:\n",
    "</div>"
   ]
  },
  {
   "cell_type": "code",
   "execution_count": null,
   "metadata": {
    "collapsed": false
   },
   "outputs": [],
   "source": [
    "print(180,sind(90),cosd(180),tand(45))"
   ]
  },
  {
   "cell_type": "markdown",
   "metadata": {},
   "source": [
    "<div style=\"direction:rtl\">\n",
    "\n",
    "<H4>\n",
    "החלקה של זויות שחוצות 360\n",
    "</H4>\n",
    "\n",
    "בתא הבא אנו מנסים לשחזר רצף של זויות שמשלים מעגל שלם וחוצה את הזווית 360\n",
    "</div>"
   ]
  },
  {
   "cell_type": "markdown",
   "metadata": {},
   "source": [
    "<div style=\"direction:rtl\">\n",
    "הסתכלו בדוגמה הבאה.\n",
    "נייצר רצף זויות מ0 עד 400 מעלות:\n",
    "</div>"
   ]
  },
  {
   "cell_type": "code",
   "execution_count": null,
   "metadata": {
    "collapsed": true
   },
   "outputs": [],
   "source": [
    "A=arange(0,400,1)"
   ]
  },
  {
   "cell_type": "markdown",
   "metadata": {},
   "source": [
    "<div style=\"direction:rtl\">\n",
    "נחשב את cos ו sin של זויות אלו:\n",
    "</div>"
   ]
  },
  {
   "cell_type": "code",
   "execution_count": null,
   "metadata": {
    "collapsed": false
   },
   "outputs": [],
   "source": [
    "sinA=sind(A); cosA=cosd(A);"
   ]
  },
  {
   "cell_type": "markdown",
   "metadata": {},
   "source": [
    "<div style=\"direction:rtl\">\n",
    "כעת ננסה לחשב את אותן זויות מתוך הcos והsin:\n",
    "</div>"
   ]
  },
  {
   "cell_type": "code",
   "execution_count": null,
   "metadata": {
    "collapsed": true
   },
   "outputs": [],
   "source": [
    "A_new=arctan2d(sinA,cosA)"
   ]
  },
  {
   "cell_type": "markdown",
   "metadata": {},
   "source": [
    "<div style=\"direction:rtl\">\n",
    "לכאורה A_new אמור להיות שווה ל-A. נצייר אותם אחת למול השניה:\n",
    "</div>"
   ]
  },
  {
   "cell_type": "code",
   "execution_count": null,
   "metadata": {
    "collapsed": false
   },
   "outputs": [],
   "source": [
    "plot(A,A_new)"
   ]
  },
  {
   "cell_type": "markdown",
   "metadata": {},
   "source": [
    "<div style=\"direction:rtl\">\n",
    "כפי שניתן לראות הזויות שוות בהתחלה אבל כש-A עוברת את 180,  A_new קופצת למינוס 180.\n",
    "\n",
    "קל להבין למה: ערכי  sin ו- cos זהים עבור זויות שמופרדות בדיוק ב360 מעלות,\n",
    "(לדוגמה הזויות מינוס 60 מעלות והזוית 300 מעלות).\n",
    " arctan2 לא יכול להבדיל בין שני המקרים ותמיד מחזיר תשובות בין 180- ל 180.\n",
    "בדוגמה זאת יחזיר לכן מינוס 60 מעלות.\n",
    "נסו בעצמכם בתא הבא:\n",
    "</div>"
   ]
  },
  {
   "cell_type": "code",
   "execution_count": null,
   "metadata": {
    "collapsed": false
   },
   "outputs": [],
   "source": [
    "A1=300\n",
    "A2=-60\n",
    "print('A1=',A1,'sin(A1)=',sind(A1),'cos(A1)=',cosd(A1),'arctan2=',arctan2d(sind(A1),cosd(A1)))\n",
    "print('A2=',A2,'sin(A2)=',sind(A2),'cos(A2)=',cosd(A2),'arctan2=',arctan2d(sind(A2),cosd(A2)))\n"
   ]
  },
  {
   "cell_type": "markdown",
   "metadata": {},
   "source": [
    "<div style=\"direction:rtl\">\n",
    "הרצת התא הבא תייצר פקודה חדשה-  smooth360, שתאפשר לנו להחליק את הקפיצות.\n",
    "שוב, אין צורך להבין כיצד התא מבצע זאת.\n",
    "\n",
    "בכל מקרה הריצו את התא וקראו בהמשך.\n",
    "</div>\n",
    "                           "
   ]
  },
  {
   "cell_type": "code",
   "execution_count": null,
   "metadata": {
    "collapsed": true
   },
   "outputs": [],
   "source": [
    "def smooth360(x):\n",
    "    xs=x\n",
    "    for l in range(0,len(x)-2):\n",
    "        d=x[l+1]-x[l]\n",
    "        if abs(d)>200:\n",
    "            xs[l+1:]=xs[l+1:]-sign(d)*360\n",
    "    return xs"
   ]
  },
  {
   "cell_type": "markdown",
   "metadata": {},
   "source": [
    "<div style=\"direction:rtl\">\n",
    "כעת נראה כיצד להשתמש בפקודה החדשה. נחליק את הזוויות A_new ונשמור במשתנה חדש A_new_smooth:\n",
    "</div>"
   ]
  },
  {
   "cell_type": "code",
   "execution_count": null,
   "metadata": {
    "collapsed": true
   },
   "outputs": [],
   "source": [
    "A_new_smooth=smooth360(A_new)"
   ]
  },
  {
   "cell_type": "markdown",
   "metadata": {},
   "source": [
    "<div style=\"direction:rtl\">\n",
    "נשווה שוב לזויות המקוריות\n",
    "</div>"
   ]
  },
  {
   "cell_type": "code",
   "execution_count": null,
   "metadata": {
    "collapsed": false
   },
   "outputs": [],
   "source": [
    "plot(A,A_new_smooth,'r') "
   ]
  },
  {
   "cell_type": "markdown",
   "metadata": {
    "collapsed": true
   },
   "source": [
    "<div style=\"direction:rtl\">\n",
    "כעת הזוויות זהות שוב!\n",
    "<br>\n",
    "זהו.\n",
    "יש לכם את הכלים וגישה לכל הנתונים!\n",
    "בהצלחה במחקר...\n",
    "</div>"
   ]
  },
  {
   "cell_type": "code",
   "execution_count": null,
   "metadata": {
    "collapsed": true
   },
   "outputs": [],
   "source": []
  }
 ],
 "metadata": {
  "kernelspec": {
   "display_name": "Python 3",
   "language": "python",
   "name": "python3"
  },
  "language_info": {
   "codemirror_mode": {
    "name": "ipython",
    "version": 3
   },
   "file_extension": ".py",
   "mimetype": "text/x-python",
   "name": "python",
   "nbconvert_exporter": "python",
   "pygments_lexer": "ipython3",
   "version": "3.5.1"
  }
 },
 "nbformat": 4,
 "nbformat_minor": 0
}
