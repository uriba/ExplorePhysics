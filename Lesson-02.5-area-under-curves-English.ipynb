{
 "cells": [
  {
   "cell_type": "markdown",
   "metadata": {},
   "source": [
    "# Exploring physics with python and jupyter notebook\n",
    "\n",
    "\n",
    "### Lesson 2.5, calculating areas under curves\n",
    "\n",
    "\n",
    "We can calculate the area under a curve by approximating it as a series of rectangles. We will need to create arrays and plots so we have to first upload the pylab libraries using the command %pylab. "
   ]
  },
  {
   "cell_type": "code",
   "execution_count": null,
   "metadata": {
    "collapsed": false,
    "scrolled": false
   },
   "outputs": [],
   "source": [
    "%pylab"
   ]
  },
  {
   "cell_type": "markdown",
   "metadata": {},
   "source": [
    "### Drawing rectangles using 'bar'\n",
    "In order to see the rectangles we are using we need a good way to plot rectangles. A useful way is using the 'bar' command which is used to create bar charts. To see how this command works we will first generate some hypothetical data. Run the next cell code which creates data of the number of apples in each of 4 indexed boxes and plots it."
   ]
  },
  {
   "cell_type": "code",
   "execution_count": null,
   "metadata": {
    "collapsed": false
   },
   "outputs": [],
   "source": [
    "boxnumber=array([1,2,3,4])\n",
    "apples=array([3,5,7,4])\n",
    "plot(boxnumber,apples,'r.')\n",
    "xlabel('box number')\n",
    "ylabel('amount of apples in box')\n",
    "ylim(0,8)\n",
    "xlim(0,5)"
   ]
  },
  {
   "cell_type": "markdown",
   "metadata": {},
   "source": [
    "Now we will see how the same data can be presented with bars using the 'bar' command. Run the next cell."
   ]
  },
  {
   "cell_type": "code",
   "execution_count": null,
   "metadata": {
    "collapsed": false
   },
   "outputs": [],
   "source": [
    "bar(boxnumber,apples,0.3)"
   ]
  },
  {
   "cell_type": "markdown",
   "metadata": {},
   "source": [
    "As you can see, for each data point we get a rectangle, with the data point setting its top left corner. The width of the rectangles is 0.3 in this example as set by the third parameter we provided to the 'bar' command. Lets make the rectangles wider and color them green. Run the next code cell."
   ]
  },
  {
   "cell_type": "code",
   "execution_count": null,
   "metadata": {
    "collapsed": false
   },
   "outputs": [],
   "source": [
    "bar(boxnumber,apples,0.5,color='g')"
   ]
  },
  {
   "cell_type": "markdown",
   "metadata": {},
   "source": [
    "## Numerical calculation of the area under a curve \n",
    "Now we can address the problem of calculating areas under curves.\n",
    "Suppose we want to calculate the area under the curve of the function\n",
    "$$y=x^2$$\n",
    "in the range\n",
    "$$0\\leq x\\leq 1$$\n",
    "We will first draw the curve and the area we want to calculate. Run the cell below to draw the curve."
   ]
  },
  {
   "cell_type": "code",
   "execution_count": null,
   "metadata": {
    "collapsed": false
   },
   "outputs": [],
   "source": [
    "xcurve=arange(0,1,0.001)\n",
    "ycurve=xcurve**2\n",
    "plot(xcurve,ycurve,'b')\n",
    "xlim(-0.1,1.1)\n",
    "ylim(0,1.1)"
   ]
  },
  {
   "cell_type": "markdown",
   "metadata": {},
   "source": [
    "In order to make it clear what is the area we want to calculate, we can use a command called 'fill_between' that colors the area between two curves. By default one of the curves is the x axis which is what we want. Run the cell below."
   ]
  },
  {
   "cell_type": "code",
   "execution_count": null,
   "metadata": {
    "collapsed": false
   },
   "outputs": [],
   "source": [
    "fill_between(xcurve,ycurve)"
   ]
  },
  {
   "cell_type": "markdown",
   "metadata": {},
   "source": [
    "Now we have the required area shown. In order to calculate this area, we will approximate it by rectangles. We first choose a set of points along the curve where we will put our rectangles. The points should cover the desired range in small steps, say of 0.1. We may later want to change the size of the steps so we will assign it to a variable 'dx'. Run the next code cell that creates the 'x' values, calculates the values of the function for them and assigns it to a variable 'y' and then plots the result."
   ]
  },
  {
   "cell_type": "code",
   "execution_count": null,
   "metadata": {
    "collapsed": false
   },
   "outputs": [],
   "source": [
    "dx=0.1\n",
    "x=arange(0,1,dx)\n",
    "y=x**2\n",
    "plot(x,y,'r.')"
   ]
  },
  {
   "cell_type": "markdown",
   "metadata": {},
   "source": [
    "Next we will draw the rectangles that approximately cover the area. By setting the width of the rectangles to be dx (the step size in x) the rectangles will touch each other to best cover the area. \n",
    "Run the next cell code to draw the rectangles."
   ]
  },
  {
   "cell_type": "code",
   "execution_count": null,
   "metadata": {
    "collapsed": false
   },
   "outputs": [],
   "source": [
    "bar(x,y,dx,color='g')"
   ]
  },
  {
   "cell_type": "markdown",
   "metadata": {},
   "source": [
    "Note that the first bar, between $x=0$ and $x=0.1$ seems absent.\n",
    "This is because the first value of 'y' is zero.\n",
    "The first bar has a height of y[0] (zero) and a base from x[0] to x[0]+dx which is the same as x[0] to x[1] (0 to 0.1).\n",
    "The second bar has a height y[1] (0.01) and spans the x-value range x[1] to x[2] (0.1 to 0.2), and so on.\n",
    "As can be seen, the area of the green rectangles is similar (but certainly not equal) to the area we want to calculate (blue area).\n",
    "\n",
    "It is very easy to calculate the area of the green rectangles.\n",
    "All rectangles have the same base size of dx, and heights equal to the y values.\n",
    "The area of the rectangles is thus:\n",
    "$$\\rm{Area~of~rectangles}=y[0]dx+y[1]dx+...+y[9]dx$$\n",
    "We have a common factor, $dx$, so we can factor it out and write the sum as:\n",
    "$$=dx(y[0]+y[1]+...+y[9])$$\n",
    "This sum can be easily calculated using the command sum. Run the calculation in the cell code below to calculate the area of the rectangles."
   ]
  },
  {
   "cell_type": "code",
   "execution_count": null,
   "metadata": {
    "collapsed": false
   },
   "outputs": [],
   "source": [
    "Area_of_rec=sum(y)*dx\n",
    "print('Area of rectangles is ',sum(y)*dx)"
   ]
  },
  {
   "cell_type": "markdown",
   "metadata": {},
   "source": [
    "In order to get a more accurate result, we need to use many more, narrower, rectangles.\n",
    "This can be done by decreasing dx.\n",
    "To try different values of dx it is useful to have all the commands in one cell.\n",
    "If the window with the graph and areas is still open close it and run the cell below which will recreate it.\n",
    "Repeatedly change the value of dx below and try to get a more accurate result.\n",
    "Each time close the figure window before running the cell again, as otherwise python will draw the new rectangles over the previous ones, making the figure hard to understand."
   ]
  },
  {
   "cell_type": "code",
   "execution_count": null,
   "metadata": {
    "collapsed": false
   },
   "outputs": [],
   "source": [
    "xcurve=arange(0,1,0.001)\n",
    "ycurve=xcurve**2\n",
    "plot(xcurve,ycurve,'b')\n",
    "xlim(-0.1,1.1)\n",
    "ylim(0,1.1)\n",
    "fill_between(xcurve,ycurve)\n",
    "dx=0.01\n",
    "x=arange(0,1,dx)\n",
    "y=x**2\n",
    "plot(x,y,'r.')\n",
    "bar(x,y,dx,color='g')\n",
    "Area_of_rec=sum(y)*dx\n",
    "print('Area of rectangles is ',sum(y)*dx)"
   ]
  },
  {
   "cell_type": "markdown",
   "metadata": {},
   "source": [
    "For very small values of dx the plotting commands may take some time.\n",
    "If we are only interested in the final result there is no need to plot anything.\n",
    "The following cell performs only the calculation itself.\n",
    "Note how short and simple it is.\n",
    "More importantly, this cell can be run quickly even for very small values of dx.\n",
    "For sufficiently small values, too much time and memory are needed for creating x and y and the calculation may become slow. "
   ]
  },
  {
   "cell_type": "code",
   "execution_count": null,
   "metadata": {
    "collapsed": false
   },
   "outputs": [],
   "source": [
    "dx=0.00001\n",
    "x=arange(0,1,dx)\n",
    "y=x**2\n",
    "print('Area of rectangles is ',sum(y)*dx)"
   ]
  },
  {
   "cell_type": "markdown",
   "metadata": {
    "collapsed": true
   },
   "source": [
    "#### Exercise 7\n",
    "In this exercise we will calculate the value of $\\pi$. \n",
    "As we saw in a previous lesson, we can use 'pi' to get the numerical value of pi stored in python as in the cell below."
   ]
  },
  {
   "cell_type": "code",
   "execution_count": null,
   "metadata": {
    "collapsed": false
   },
   "outputs": [],
   "source": [
    "print(pi)"
   ]
  },
  {
   "cell_type": "markdown",
   "metadata": {},
   "source": [
    "In order to calculate $\\pi$ using elementary functions (not including trigonometric functions), we will use the fact that the area of a circle with unit radius is $\\pi$.\n",
    "The first two lines in the cell below create an array of x values.\n",
    "Calculate appropriate y values (using the Pythagorean theorem) in order that the points x,y are on the unit circle (with center at 0,0).\n",
    "The plot command will allow you to see if you indeed get (half a circle).\n",
    "Now calculate the area under the resulting shape.\n",
    "To get $\\pi$ we will need the full circle meaning that we need to multiply the result by 2.\n",
    "By changing dx, try to obtain more and more accurate values for $\\pi$.\n",
    "You can remove or comment out the plot command to make the calculations faster.\n",
    "Compare your calculated value to the value of $\\pi$ that python has."
   ]
  },
  {
   "cell_type": "code",
   "execution_count": null,
   "metadata": {
    "collapsed": true
   },
   "outputs": [],
   "source": [
    "dx=0.1\n",
    "x=arange(-1,1,dx)\n",
    "y=?\n",
    "plot(x,y)\n",
    "print(sum(y*dx))"
   ]
  },
  {
   "cell_type": "markdown",
   "metadata": {},
   "source": [
    "The displacement of an object from an initial position can be found by calculating the area under the curve of its velocity as a function of time (with areas having negative velocity values counted as negative).\n",
    "Consider a ball that moves on a straight line.\n",
    "Assume that in the time interval $0\\leq t \\leq 10$ seconds its velocity is given by:\n",
    "$$ v(t)=t^2-5 $$ meters per second.\n",
    "The following cell calculates the displacement of the ball in this time interval. "
   ]
  },
  {
   "cell_type": "code",
   "execution_count": null,
   "metadata": {
    "collapsed": false
   },
   "outputs": [],
   "source": [
    "dt=0.1\n",
    "times=arange(0,10,dt)\n",
    "vs=times**2-5\n",
    "x=sum(vs*dt)\n",
    "print(x)"
   ]
  },
  {
   "cell_type": "markdown",
   "metadata": {},
   "source": [
    "#### Exercise  8\n",
    "\n",
    "Change the code in the cell above to calculate the displacement in the time interval $ 0\\leq t \\leq 20 $ of a body the velocity of which is given by:\n",
    "$$ v(t)=\\sqrt{t} $$\n",
    "(with $t$ measured in seconds and $v$ in meters per second). "
   ]
  },
  {
   "cell_type": "markdown",
   "metadata": {},
   "source": [
    "#### Congragulations, you finished the leason!"
   ]
  }
 ],
 "metadata": {
  "kernelspec": {
   "display_name": "Python 3",
   "language": "python",
   "name": "python3"
  },
  "language_info": {
   "codemirror_mode": {
    "name": "ipython",
    "version": 3
   },
   "file_extension": ".py",
   "mimetype": "text/x-python",
   "name": "python",
   "nbconvert_exporter": "python",
   "pygments_lexer": "ipython3",
   "version": "3.5.1"
  }
 },
 "nbformat": 4,
 "nbformat_minor": 0
}
