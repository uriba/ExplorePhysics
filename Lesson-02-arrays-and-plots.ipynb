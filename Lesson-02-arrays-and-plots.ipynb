{
 "cells": [
  {
   "cell_type": "markdown",
   "metadata": {},
   "source": [
    "<div style=\"direction:rtl\">\n",
    "<H1>\n",
    "השתלמות בחישובים נומריים למורי פיסיקה חקר\n",
    "</H1>\n",
    "<H3>\n",
    "יחידה 2, סדרות וגרפים\n",
    "</H3>\n",
    "\n",
    "<H2>\n",
    "סדרות של ערכים\n",
    "</H2>\n",
    "על מנת ליצור סדרות של ערכים, כמו גם להדפיס גרפים עלינו לטעון תחילה את ההרחבה pylab%.\n",
    "בשורת הקוד הבאה אנו מציינים, בנוסף לטעינה, כי על הגרפים אותם נצייר להופיע בגוף ה-jupyter notebook.\n",
    "הוראה זו ניתנת שכן אנו מציגים דף זה באינטרנט באופן פומבי.\n",
    "אנו ממליצים, בעבודה רגילה על המסמך על גבי המחשב האישי, להשמיט את המילה inline כך שגרפים יוצגו בחלון נפרד.\n",
    "מחקו את הוראת inline מתא הקוד הבא והריצו אותו כעת.\n",
    "</div>\n"
   ]
  },
  {
   "cell_type": "code",
   "execution_count": null,
   "metadata": {
    "collapsed": false,
    "scrolled": true
   },
   "outputs": [],
   "source": [
    "%pylab inline"
   ]
  },
  {
   "cell_type": "markdown",
   "metadata": {},
   "source": [
    "<div style=\"direction:rtl\">\n",
    "קיימים סוגים שונים של ערכים שמשתנים יכולים להכיל.\n",
    "עד כה השתמשנו רק בערכים מספריים, כלומר כל משתנה הכיל מספר בודד.\n",
    "אחת ההרחבות שהשימוש ב-pylab% מאפשר היא שימוש בסדרות של ערכים וביצוע פעולות חשבון על סדרות שכאלו.\n",
    "הריצו את תא הקוד הבא, צפו בפלט ואז קיראו את ההסבר.\n",
    "</div>"
   ]
  },
  {
   "cell_type": "code",
   "execution_count": null,
   "metadata": {
    "collapsed": false,
    "scrolled": true
   },
   "outputs": [],
   "source": [
    "x=arange(0,10,0.5)\n",
    "print(x)"
   ]
  },
  {
   "cell_type": "markdown",
   "metadata": {},
   "source": [
    "<div style=\"direction:rtl\">\n",
    "בתא הקוד אנו משתמשים בפונקציה arange אשר מקבלת ערך התחלה, ערך סיום, וגודל צעד, ומחזירה סדרת מספרים שהיא סדרה חשבונית בטווח שניתן ועם צעד בגודל שנקבע.\n",
    "<br>\n",
    "שימו לב ש-x מכיל את כל האיברים מערך ההתחלה ועד איבר אחד לפני ערך הסיום.\n",
    "<h4>\n",
    "משימה 1\n",
    "</h4>\n",
    "עדכנו את הקוד כך שהסדרה תכיל את כל המספרים בין -(1-) ל-1, כולל הערך 1, במרווחים של 0.1.\n",
    "</div>"
   ]
  },
  {
   "cell_type": "markdown",
   "metadata": {},
   "source": [
    "<div style=\"direction:rtl\">\n",
    "<h3>\n",
    "גישה לערכים מסוימים בסדרה\n",
    "</h3>\n",
    "על מנת להשתמש או לשנות ערך מסוים בסדרה נשתמש בסוגריים מרובעים [].\n",
    "המיקום של האיבר הראשון בסדרה הוא [0], מיקום האיבר השני הוא [1] וכן הלאה, כך שאם בסדרה n איברים, האיבר האחרון בסדרה נמצא במיקום [n-1].\n",
    "ניתן גם לגשת לאברי הסדרה מהסוף: האיבר האחרון בסדרה ניתן לגישה על ידי [1-], האיבר הלפני אחרון על ידי [2-] וכו'.\n",
    "</div>"
   ]
  },
  {
   "cell_type": "code",
   "execution_count": null,
   "metadata": {
    "collapsed": false
   },
   "outputs": [],
   "source": [
    "print(x[2])\n",
    "print(x[-1])\n",
    "print(x[19])\n",
    "x[2]=4\n",
    "print(x[2])"
   ]
  },
  {
   "cell_type": "markdown",
   "metadata": {},
   "source": [
    "<div style=\"direction:rtl\">\n",
    "<h4>\n",
    "משימה 2\n",
    "</h4>\n",
    "צרו סדרה בת 20 איברים המכילה את המספרים 1 עד 20.\n",
    "החליפו את הערך 10 בסדרה בערך 100 והדפיסו את הסדרה המעודכנת.\n",
    "</div>"
   ]
  },
  {
   "cell_type": "code",
   "execution_count": null,
   "metadata": {
    "collapsed": true
   },
   "outputs": [],
   "source": []
  },
  {
   "cell_type": "markdown",
   "metadata": {},
   "source": [
    "<div style=\"direction:rtl\">\n",
    "<h3>\n",
    "גישה לטווח ערכים בסדרה\n",
    "</h3>\n",
    "הסימן ':' מסמן טווח של ערכים בסדרה.\n",
    "ניתן לציין את מיקום ההתחלה ומיקום הסיום של הטווח ותתקבל סדרה המכילה רק את הערכים בטווח המקומות שצויין (כאשר אם צויין מיקום סיום, הטווח יכיל את כל הערכים עד למקום אחד לפני מיקום הסיום).\n",
    "הריצו את הקוד הבא וצפו בתוצאה.\n",
    "</div>"
   ]
  },
  {
   "cell_type": "code",
   "execution_count": null,
   "metadata": {
    "collapsed": false
   },
   "outputs": [],
   "source": [
    "x=arange(0,5,0.5)\n",
    "print(x)\n",
    "print(x[2:4])\n",
    "\n",
    "print(x[:4])\n",
    "\n",
    "print(x[4:])\n",
    "print(x[4:-1])\n",
    "\n",
    "print(x[:])\n",
    "\n",
    "y=x[2:5]\n",
    "print(y)\n",
    "\n",
    "x[2:4]=3\n",
    "print(x)"
   ]
  },
  {
   "cell_type": "markdown",
   "metadata": {},
   "source": [
    "<div style=\"direction:rtl\">\n",
    "\n",
    "כפי שאתם רואים ניתן להשמיט את מיקום ההתחלה או הסיום של הטווח ופייתון תשלים את הטווח מההתחלה או עד סיום הסדרה בהתאם.\n",
    "ניתן להשתמש במיקום או ביחס לתחילת הסדרה (מיקומים חיוביים) או ביחס לסיומה (מיקומים שליליים).\n",
    "ניתן לבצע השמה לטווח הערכים שנבחר.\n",
    "ניתן ליצור סדרה חדשה מהסדרה בטווח הערכים שנבחר.\n",
    "</div>"
   ]
  },
  {
   "cell_type": "markdown",
   "metadata": {},
   "source": [
    "<div style=\"direction:rtl\">\n",
    "<h3>\n",
    "ביצוע פעולות חשבון על סדרות\n",
    "</h3>\n",
    "ניתן לבצע את כל פעולות החשבון על סדרות מספרים כאשר המשמעות היא שהפעולות מבוצעות על כל ערך בסדרה בנפרד.\n",
    "בתא הבא אנו מכפילים את כל ערכי הסדרה ב-2, ומציבים את התוצאה למשתנה y.\n",
    "לאחר מכן אנו מכפילים את שתי הסדרות כאשר המשמעות של הכפלת שתי סדרות היא יצירת סדרה שמכילה בכל מקום את מכפלת האיברים המתאימים מהסדרות שהוכפלו.\n",
    "</div>"
   ]
  },
  {
   "cell_type": "code",
   "execution_count": null,
   "metadata": {
    "collapsed": false
   },
   "outputs": [],
   "source": [
    "x=arange(0,10,1)\n",
    "y=2*x\n",
    "print(y)\n",
    "print(x*y)"
   ]
  },
  {
   "cell_type": "markdown",
   "metadata": {},
   "source": [
    "<div style=\"direction:rtl\">\n",
    "<h4>\n",
    "משימה 3\n",
    "</h4>\n",
    "עדכנו את תא הקוד הבא כך שהפלט יהיה ריבועי כל המספרים מ-1 עד 10, כלומר הסדרה 1, 4, 9 ... 100. \n",
    "</div>\n"
   ]
  },
  {
   "cell_type": "code",
   "execution_count": null,
   "metadata": {
    "collapsed": false,
    "scrolled": true
   },
   "outputs": [],
   "source": []
  },
  {
   "cell_type": "markdown",
   "metadata": {},
   "source": [
    "<div style=\"direction:rtl\">\n",
    "<h3>\n",
    "פעולות נוספות עם סדרות\n",
    "</h3>\n",
    "בנוסף לפקודה arange היוצרת סדרת ערכים בין ערך התחלה לערך סיום, עם רווחים מוגדרים מראש קיימות שלוש פקודות שימושיות נוספות ליצירת סדרות.\n",
    "הריצו את תא הקוד הבא וקיראו את ההסבר בהמשך.\n",
    "</div>"
   ]
  },
  {
   "cell_type": "code",
   "execution_count": null,
   "metadata": {
    "collapsed": false
   },
   "outputs": [],
   "source": [
    "x=zeros(5)\n",
    "y=ones(10)\n",
    "z=arange(-1,1,0.1)\n",
    "v=array([3,4,6,7])\n",
    "print(x)\n",
    "print(y)\n",
    "print(len(z))\n",
    "print(v)"
   ]
  },
  {
   "cell_type": "markdown",
   "metadata": {},
   "source": [
    "<div style=\"direction:rtl\">\n",
    "\n",
    "הפקודות zeros ו-ones מייצרות כל אחת סדרה באורך נתון שכל ערכיה הם 0 או 1, בהתאמה.\n",
    "הפקודה len מאפשרת לנו לגלות כמה איברים יש בסדרה.\n",
    "הפקודה array מאפשרת לנו להגדיר סדרה שמכילה רשימה מפורשת של ערכים.\n",
    "<h4>\n",
    "משימה 4\n",
    "</h4>\n",
    "עדכנו את תא הקוד הבא כך שיגדיר סדרת אפסים בעלת 30 איברים.\n",
    "<br>\n",
    "אח״כ חשבו כמה איברים יש בסדרת המספרים המתחילה ב-0, מסתיימת ב-10, ואשר גודל הקפיצות בה הוא 0.66.\n",
    "</div>"
   ]
  },
  {
   "cell_type": "code",
   "execution_count": null,
   "metadata": {
    "collapsed": true
   },
   "outputs": [],
   "source": []
  },
  {
   "cell_type": "markdown",
   "metadata": {},
   "source": [
    "<div style=\"direction:rtl\">\n",
    "<H2>\n",
    "שרטוט גרפים\n",
    "</H2>\n",
    "סביבת jupyter notebook מאפשרת שרטוט גרפים באמצעות הפקודה plot.\n",
    "הגרף יכול להווצר או בחלון נפרד, אז ניתן להגדיל אותו ולהתמקד בחלקים שונים שלו, או בגוף הnotebook, בתא ה-output.\n",
    "ברירת המחדל (המומלצת) היא הדפסת הגרף בחלון נפרד.\n",
    "במסמך זה, על מנת לראות את הגרפים בסמוך לקוד, בחרנו באפשרות הצגת הגרפים בגוף המסמך.\n",
    "בחירה זו מבוצעת על ידי הרצת הפקודה pylab inline%, במקום pylab%.\n",
    "הריצו את תא הקוד כעת.\n",
    "</div>\n"
   ]
  },
  {
   "cell_type": "code",
   "execution_count": null,
   "metadata": {
    "collapsed": false
   },
   "outputs": [],
   "source": [
    "x=arange(0,10,1)\n",
    "y=5*x+2\n",
    "plot(x,y,'.')"
   ]
  },
  {
   "cell_type": "markdown",
   "metadata": {},
   "source": [
    "<div style=\"direction:rtl\">\n",
    "על מנת לשרטט גרף עלינו לספק לפונקציה plot את ערכי ה-x וערכי ה-y של נקודות הגרף.\n",
    "בתא הקוד אנו מציבים למשתנה x את סדרת המספרים בין 0 ל-9, ולמשתנה y את הנקודות המתאימות על גבי הישר:\n",
    "\n",
    "$$ y=5x+2 $$\n",
    "\n",
    "לאחר מכן אנו קוראים לפונקציה plot על מנת לשרטט את הגרף.\n",
    "הסימן '.' מורה לפונקציה לצייר את הנקודות בלבד.\n",
    "(ברירת המחדל, אם סימן זה מושמט, היא לצייר קו בין הנקודות.)\n",
    "<h4>\n",
    "משימה 5\n",
    "</h4>\n",
    "עדכנו את הקוד כך שהפונקציה שתשורטט תהיה\n",
    "$$ x^2-5x-3 $$\n",
    "והגרף יציג קו המחבר בין הנקודות ולא את הנקודות עצמן\n",
    "</div>"
   ]
  },
  {
   "cell_type": "markdown",
   "metadata": {},
   "source": [
    "<div style=\"direction:rtl\">\n",
    "<h3>\n",
    "שליטה על סימנים, צבעים וסגנון השרטוט\n",
    "</h3>\n",
    "לפקודה plot אפשרויות רבות המגדירות כיצד בדיוק ישורטט הגרף.\n",
    "ניתן לאמר לפקודה באיזה סימן לציין את הנקודות כאשר אפשרויות שונות במקום '.' הן '\\*', 'x', 'o', ועוד.\n",
    "<br>\n",
    "ניתן להוסיף לפני ציון הסימן אות המציינת באיזה צבע לצייר את הנקודות.\n",
    "הצבעים הבסיסיים הם:\n",
    "כחול - b, אדום - r, ירוק - g, צהוב - y, טורקיז - c, סגול - m, שחור - k ולבן w.\n",
    "ניתן גם להורות לפקודה לשרטט קו מקווקו בדוגמאות שונות, ועוד.\n",
    "<br>\n",
    "רשימת אפשרויות נרחבת יותר מצויה \n",
    "<a href=\"http://matplotlib.org/api/pyplot_api.html#matplotlib.pyplot.plot\">\n",
    "בקישור הזה\n",
    "</a>.\n",
    "הריצו את תא הקוד הבא לצפייה במספר אפשרויות שרטוט וקראו את ההסבר בהמשך.\n",
    "</div>\n"
   ]
  },
  {
   "cell_type": "code",
   "execution_count": null,
   "metadata": {
    "collapsed": false,
    "scrolled": true
   },
   "outputs": [],
   "source": [
    "x=arange(0.1,10,0.5)\n",
    "y1=2*x\n",
    "y2=x**2\n",
    "y3=10/x\n",
    "y4=10*sin(x)\n",
    "plot(x,y1,'bo')\n",
    "plot(x,y2,'rx')\n",
    "plot(x,y3,'m')\n",
    "plot(x,y4,'c--')"
   ]
  },
  {
   "cell_type": "markdown",
   "metadata": {},
   "source": [
    "<div style=\"direction:rtl\">\n",
    "כאשר מבוצעות מספר פקודות plot ברצף באותו תא הקוד הגרפים השונים משורטטים על גבי אותה מערכת צירים.\n",
    "פייתון מגדירה באופן אוטומטי את גבולות הצירים כך שיכילו את כל הנקודות ששורטטו.\n",
    "\n",
    "<h3>\n",
    "שליטה על מרכיבים נוספים בשרטוט\n",
    "</h3>\n",
    "בנוסף לאפשרויות של הפקודה plot עצמה, ישנן עוד פקודות שמשפיעות על תצוגת הגרף.\n",
    "הריצו את תא הקוד הבא וצפו בתוצאה.\n",
    "</div>"
   ]
  },
  {
   "cell_type": "code",
   "execution_count": null,
   "metadata": {
    "collapsed": false
   },
   "outputs": [],
   "source": [
    "x=arange(0.1,10,0.5)\n",
    "y1=2*x\n",
    "y2=x**2\n",
    "y3=10/x\n",
    "y4=10*sin(x)\n",
    "\n",
    "plot(x,y1,'bo')\n",
    "plot(x,y2,'rx')\n",
    "plot(x,y3,'m')\n",
    "plot(x,y4,'c--')\n",
    "\n",
    "suptitle('title of the plot') #Sets the title of the plot\n",
    "\n",
    "xlabel('values on x')\n",
    "ylabel('values on y')\n",
    "\n",
    "xlim(-1,8) # Sets the minimum and maximum values of the x axis\n",
    "ylim(-30,30) # Sets the minimum and maximum values of the y axis"
   ]
  },
  {
   "cell_type": "markdown",
   "metadata": {},
   "source": [
    "<div style=\"direction:rtl\">\n",
    "<a href=\"http://matplotlib.org/gallery.html\">\n",
    "בקישור הזה\n",
    "</a>\n",
    "ישנן דוגמאות רבות לגרפים יחד עם הקוד המשמש ליצירתם.\n",
    "ניתן ללמוד דרכן על האפשרויות השונות לשרטוט גרפים בשפת פייתון.\n",
    "</div>"
   ]
  },
  {
   "cell_type": "markdown",
   "metadata": {
    "collapsed": true
   },
   "source": [
    "<div style=\"direction:rtl\">\n",
    "<H4>\n",
    "משימה 6\n",
    "</H4>\n",
    "שרטטו גרף מקווקו של הפונקציה cos(x) בתחום המספרים 1- עד 5, בצבע ירוק.\n",
    "</div>\n"
   ]
  },
  {
   "cell_type": "code",
   "execution_count": null,
   "metadata": {
    "collapsed": true
   },
   "outputs": [],
   "source": []
  },
  {
   "cell_type": "markdown",
   "metadata": {},
   "source": [
    "<div style=\"direction:rtl\">\n",
    "<h2>\n",
    "חישוב מקורב של שטח מתחת לגרף\n",
    "</h2>\n",
    "כאשר ידועים לנו הערכים של פונקציה מתמטית בצפיפות גבוהה לאורך ציר ה-x, אנו יכולים לחשב, בקירוב, את השטח הכלוא בין קו הפונקציה לציר ה-x.\n",
    "אנו נסמן ב-dx את ההפרש בין כל שתי נקודות לאורך ציר ה-x עבורן אנו מחשבים את ערך הפונקציה.\n",
    "על מנת לחשב את השטח כל שעלינו לעשות הוא לחשב, עבור כל נקודה של הפונקציה\n",
    ",את שטח המלבן שגובהו כגובה הנקודה, ושרוחבו הוא dx\n",
    "(הגרף הבא ממחיש את הכוונה).\n",
    "אנו מעוניינים לחשב את השטח הכלוא מתחת לפונקציה\n",
    "$$-x^2+3$$\n",
    "המסומנת בקו כחול, בתחום הערכים\n",
    "$$-1\\leq x \\leq 1$$\n",
    "לשם כך אנו מחשבים את ערכי הפונקציה במרווחים של 0.1 על גבי ציר ה-x, וסוכמים את שטחי המלבנים המסומנים באדום.\n",
    "על מנת לבצע את הסכימה אנו משתמשים בפונקציה sum, אשר בהנתן סדרה מחשבת את סכום אבריה.\n",
    "שיטת חישוב זו מכונה אינטגרציה נומרית ורמת הדיוק בחישוב השטח עולה ככל שהערך של dx קטן.\n",
    "<br>\n",
    "בקטע קוד זה אנו משתמשים בפקודה bar על מנת לצייר את המלבנים, וזאת להמחשה בלבד.\n",
    "הפקודה מקבלת את ערכי ה-x וה-y של כל מלבן ואת רוחבו.\n",
    "אפשר לציין מפורשות מהו הצבע בו אנו רוצים שהמלבנים ישורטטו על ידי הפרמטר color.\n",
    "</div>\n"
   ]
  },
  {
   "cell_type": "code",
   "execution_count": null,
   "metadata": {
    "collapsed": false
   },
   "outputs": [],
   "source": [
    "dx=0.1\n",
    "x=arange(-1,1,dx)\n",
    "y=-x**2+3\n",
    "plot(x,y)\n",
    "bar(x,y,dx,color='r')\n",
    "print(sum(y*dx))"
   ]
  },
  {
   "cell_type": "markdown",
   "metadata": {
    "collapsed": true
   },
   "source": [
    "<div style=\"direction:rtl\">\n",
    "<H4>\n",
    "משימה 7\n",
    "</H4>\n",
    "במשימה זו נשתמש בשיטת האינטגרציה הנומרית להערכת ערכו של $\\pi$.\n",
    "ערכו של $\\pi$ מוזן כבר בשפת פייתון כמשתנה בשם pi כפי שניתן לראות בתא הקוד הבא\n",
    "</div>\n"
   ]
  },
  {
   "cell_type": "code",
   "execution_count": null,
   "metadata": {
    "collapsed": false
   },
   "outputs": [],
   "source": [
    "print(pi)"
   ]
  },
  {
   "cell_type": "markdown",
   "metadata": {},
   "source": [
    "<div style=\"direction:rtl\">\n",
    "נשתמש בעובדה שידוע כי השטח של מעגל היחידה הוא $\\pi$.\n",
    "<br>\n",
    "עדכנו את קטע הקוד הבא כך שערכי y יהיו בהתאם לחציו החיובי של מעגל היחידה (רמז: השתמשו במשפט פיתגורס)\n",
    "ציירו את הגרף המתקבל.\n",
    "האם הוא נראה כחצי מעגל?\n",
    "<br>\n",
    "חשבו את השטח הכלוא מתחת לחצי מעגל היחידה, הכפילו ב-2, והשוו לערך המוזן בשפת פייתון.\n",
    "האם התוצאה מדויקת?\n",
    "<br>\n",
    "האם שינוי בערך dx משפר את דיוק התוצאה?\n",
    "</div>"
   ]
  },
  {
   "cell_type": "code",
   "execution_count": null,
   "metadata": {
    "collapsed": true
   },
   "outputs": [],
   "source": [
    "dx=0.1\n",
    "x=arange(-1,1,dx)\n",
    "y=?\n",
    "plot(x,y)\n",
    "print(sum(y*dx))"
   ]
  },
  {
   "cell_type": "markdown",
   "metadata": {},
   "source": [
    "<div style=\"direction:rtl\">\n",
    "ניתן להשתמש בשיטה זו על מנת לחשב, למשל, את הדרך שעובר גוף אשר מהירותו בנקודות זמן שונות נתונה.\n",
    "למשל, אם ידוע שמהירותו של גוף בכל רגע בטווח הזמן 0-1- שניות היא:\n",
    "$$ v(t)=t^2-5 $$\n",
    "ואנו מעוניינים לחשב את העתק הגוף בטווח זמן זה, אנו יכולים לבצע את החישוב הבא:\n",
    "</div>"
   ]
  },
  {
   "cell_type": "code",
   "execution_count": null,
   "metadata": {
    "collapsed": false
   },
   "outputs": [],
   "source": [
    "dt=0.1\n",
    "times=arange(0,10,dt)\n",
    "vs=times**2-5\n",
    "x=sum(vs*dt)\n",
    "print(x)"
   ]
  },
  {
   "cell_type": "markdown",
   "metadata": {},
   "source": [
    "<div style=\"direction:rtl\">\n",
    "<h4>\n",
    "משימה 8\n",
    "</h4>\n",
    "עדכנו את קטע הקוד ומצאו מהו ההעתק של גוף שמהירותו הרגעית נתונה על ידי הנוסחא:\n",
    "$$ v(t)=\\sqrt{t} $$\n",
    "בזמן 20 שניות ביחס למיקומו בזמן 0.\n",
    "</div>"
   ]
  },
  {
   "cell_type": "markdown",
   "metadata": {},
   "source": [
    "<div style=\"direction:rtl\">\n",
    "שימרו את המסמך המעודכן על ידי הקשה על צלמית הדיסקט  מצד שמאל למעלה, או שימוש בקיצור המקלדת ctrl+s.\n",
    "</div>"
   ]
  },
  {
   "cell_type": "markdown",
   "metadata": {},
   "source": [
    "<div style=\"direction:rtl\">\n",
    "<h3>\n",
    "סיכום היחידה:\n",
    "</h3>\n",
    "<ul>\n",
    "<li>\n",
    "בנוסף לערכים בודדים, משתנים יכולים להכיל סדרות של ערכים.\n",
    "</li>\n",
    "<li>\n",
    "ניתן לבצע את כל פעולות החשבון על סדרות של ערכים.\n",
    "התוצאה היא סדרה חדשה שכל איבר בה מכיל את תוצאת הפעלת פעולת החשבון על האיבר המתאים בסדרה המקורית.\n",
    "</li>\n",
    "<li>\n",
    "ניתן לאתחל סדרות לערכים בטווח מסוים עם ריווח קבוע באמצעות הפקודה arange.\n",
    "בנוסף ניתן לאתחל סדרות כך שכל ערכיהן יהיו 0, באמצעות הפקודה zeros, או שכל ערכיהן יהיו 1, באמצעות הפקודה ones.\n",
    "</li>\n",
    "<li>\n",
    "הפקודה len מחזירה את מספר האיברים בסדרה.\n",
    "</li>\n",
    "<li>\n",
    "הפקודה array מגדירה סדרה מרשימת ערכים נתונה.\n",
    "</li>\n",
    "\n",
    "<li>\n",
    "ניתן לגשת לאיבר מסוים בסדרה על ידי סוגריים מרובעים, []. האיבר הראשון בסדרה נמצא במקום [0], האיבר השני במקום [1] וכן הלאה.\n",
    "ניתן לגשת לאברי הסדרה גם מסופה. האיבר האחרון נמצא במקום [1-], האיבר האחד לפני אחרון במקום [2-] וכו'.\n",
    "</li>\n",
    "<li>\n",
    "ניתן להשתמש בסימן נקודותיים (:) על מנת לגשת לטווח של ערכים בסדרה. אם משמיטים את מקום ההתחלה הטווח יתחיל באיבר הראשון בסדרה.\n",
    "אם משמיטים את מקום הסיום הסדרה הטווח יסתיים באיבר האחרון בסדרה.\n",
    "</li>\n",
    "<li>\n",
    "ניתן לשרטט גרפים באמצעות הפקודה plot.\n",
    "הפקודה מקבלת שתי סדרות, סדרת ערכי x וסדרת ערכי y, ומשרטטת גרף בהתאם.\n",
    "</li>\n",
    "<li>\n",
    "ניתן לשלוט על הצבע והסימון בו יוצגו הערכים השונים.\n",
    "</li>\n",
    "<li>\n",
    "הצבעים הבסיסיים הם:\n",
    "כחול - b, אדום - r, ירוק - g, צהוב - y, טורקיז - c, סגול - m, שחור - k ולבן w.\n",
    "</li>\n",
    "<li>\n",
    "מספר סימנים לדוגמא הם: '.', 'o', 'x', '\\*'.\n",
    "אם לא מצויין סימון, ברירת המחדל היא קו העובר דרך הנקודות.\n",
    "</li>\n",
    "<li>\n",
    "ניתן לשלב אות המסמנת צבע ותו המסמן סימן, למשל 'go' מסמן צבע ירוק וסימן בצורת עיגול.\n",
    "</li>\n",
    "<li>\n",
    "ניתן לקבוע עבור שרטוט את הכותרת באמצעות הפקודה suptitle,\n",
    "את כותרות הצירים באמצעות הפקודות xtitle,ytitle,\n",
    "ואת גבולות הצירים באמצעות הפקודות xlim ו-ylim.\n",
    "</li>\n",
    "<li>\n",
    "כאשר נתונות סדרות של ערכים ניתן לחשב את השטח הכלוא תחת הגרף אותו מתארת סדרה על ידי סכימת אברי הסדרה והכפלת התוצאה ברווח בין אברי הסדרה.\n",
    "</li>\n",
    "</ul>\n",
    "</div>"
   ]
  },
  {
   "cell_type": "markdown",
   "metadata": {},
   "source": [
    "<div style=\"direction:rtl\">\n",
    "<h3>\n",
    "שגיאות נפוצות והודעות השגיאה שהן גורמות\n",
    "</h3>\n",
    "כל אחד מהתאים הבאים מכיל שגיאה. הריצו כל תא וצפו בפלט המתקבל עבור שגיאה זו.\n",
    "</div>"
   ]
  },
  {
   "cell_type": "markdown",
   "metadata": {},
   "source": [
    "<div style=\"direction:rtl\">\n",
    "גישה לאיבר מחוץ לגבולות סדרה\n",
    "</div>"
   ]
  },
  {
   "cell_type": "code",
   "execution_count": null,
   "metadata": {
    "collapsed": false
   },
   "outputs": [],
   "source": [
    "x=zeros(10)\n",
    "print(x[10])"
   ]
  },
  {
   "cell_type": "markdown",
   "metadata": {},
   "source": [
    "<div style=\"direction:rtl\">\n",
    "ביצוע פעולת חישוב בין סדרות באורכים שונים\n",
    "</div>"
   ]
  },
  {
   "cell_type": "code",
   "execution_count": null,
   "metadata": {
    "collapsed": false
   },
   "outputs": [],
   "source": [
    "x=ones(3)\n",
    "y=ones(5)\n",
    "print(x+y)"
   ]
  },
  {
   "cell_type": "markdown",
   "metadata": {},
   "source": [
    "<div style=\"direction:rtl\">\n",
    "ביצוע פעולת חישוב שאינה אפשרית עבור חלק מאברי הסדרה\n",
    "</div>"
   ]
  },
  {
   "cell_type": "code",
   "execution_count": null,
   "metadata": {
    "collapsed": false,
    "scrolled": true
   },
   "outputs": [],
   "source": [
    "x=arange(-1,1,0.1)\n",
    "print(sqrt(x))"
   ]
  },
  {
   "cell_type": "markdown",
   "metadata": {},
   "source": [
    "<div style=\"direction:rtl\">\n",
    "התייחסות לטווח החורג מגודל הסדרה (שימו לב כיצד פייתון מגיבה!)\n",
    "</div>"
   ]
  },
  {
   "cell_type": "code",
   "execution_count": null,
   "metadata": {
    "collapsed": false,
    "scrolled": true
   },
   "outputs": [],
   "source": [
    "x=arange(0,10,1)\n",
    "print(x[2:11])"
   ]
  },
  {
   "cell_type": "markdown",
   "metadata": {},
   "source": [
    "<div style=\"direction:rtl\">\n",
    "הדפסת גרף כאשר יש חוסר התאמה בין מספר אברי הסדרה המתארת את ערכי ה-x למספר אברי הסדרה המתארת את ערכי ה-y.\n",
    "</div>"
   ]
  },
  {
   "cell_type": "code",
   "execution_count": null,
   "metadata": {
    "collapsed": false
   },
   "outputs": [],
   "source": [
    "x=arange(0,10,1)\n",
    "y=ones(len(x)-1)\n",
    "plot(x,y)"
   ]
  },
  {
   "cell_type": "markdown",
   "metadata": {},
   "source": [
    "<div style=\"direction:rtl\">\n",
    "<h4>\n",
    "מזל טוב, סיימתם יחידה זו!\n",
    "</h4>\n",
    "</div>"
   ]
  }
 ],
 "metadata": {
  "kernelspec": {
   "display_name": "Python 3",
   "language": "python",
   "name": "python3"
  },
  "language_info": {
   "codemirror_mode": {
    "name": "ipython",
    "version": 3
   },
   "file_extension": ".py",
   "mimetype": "text/x-python",
   "name": "python",
   "nbconvert_exporter": "python",
   "pygments_lexer": "ipython3",
   "version": "3.5.1"
  }
 },
 "nbformat": 4,
 "nbformat_minor": 0
}
