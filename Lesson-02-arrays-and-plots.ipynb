{
 "cells": [
  {
   "cell_type": "markdown",
   "metadata": {},
   "source": [
    "<div style=\"direction:rtl\">\n",
    "<H1>\n",
    "השתלמות בחישובים נומריים למורי פיסיקה חקר\n",
    "</H1>\n",
    "<H3>\n",
    "יחידה 2, סדרות וגרפים\n",
    "</H3>\n",
    "\n",
    "<H2>\n",
    "סדרות של ערכים\n",
    "</H2>\n",
    "על מנת ליצור סדרות של ערכים, כמו גם להדפיס גרפים עלינו לטעון תחילה את ההרחבה pylab%.\n",
    "בשורת הקוד הבאה אנו מציינים, בנוסף לטעינה, כי על הגרפים אותם נצייר להופיע בגוף ה-jupyter notebook.\n",
    "הוראה זו ניתנת שכן אנו מציגים דף זה באינטרנט באופן פומבי.\n",
    "אנו ממליצים, בעבודה רגילה על המסמך על גבי המחשב האישי, להשמיט את המילה inline כך שגרפים יוצגו בחלון נפרד.\n",
    "מחקו את הוראת inline מתא הקוד הבא והריצו אותו כעת.\n",
    "</div>\n"
   ]
  },
  {
   "cell_type": "code",
   "execution_count": 6,
   "metadata": {
    "collapsed": false
   },
   "outputs": [
    {
     "name": "stdout",
     "output_type": "stream",
     "text": [
      "Populating the interactive namespace from numpy and matplotlib\n"
     ]
    }
   ],
   "source": [
    "%pylab inline"
   ]
  },
  {
   "cell_type": "markdown",
   "metadata": {},
   "source": [
    "<div style=\"direction:rtl\">\n",
    "קיימים סוגים שונים של ערכים שמשתנים יכולים להכיל.\n",
    "עד כה השתמשנו רק בערכים מספריים, כלומר כל משתנה הכיל מספר בודד.\n",
    "אחת ההרחבות שהשימוש ב-pylab% מאפשר היא שימוש בסדרות של ערכים וביצוע פעולות חשבון על סדרות שכאלו.\n",
    "בתא הקוד הבא אנו משתמשים בפונקציה arange אשר מקבלת ערך התחלה, ערך סיום, וגודל צעד, ומחזירה סדרת מספרים שהיא סדרה חשבונית בטווח שניתן ועם צעד בגודל שנקבע.\n",
    "</div>"
   ]
  },
  {
   "cell_type": "code",
   "execution_count": 4,
   "metadata": {
    "collapsed": false
   },
   "outputs": [
    {
     "name": "stdout",
     "output_type": "stream",
     "text": [
      "[ 0.   0.5  1.   1.5  2.   2.5  3.   3.5  4.   4.5  5.   5.5  6.   6.5  7.\n",
      "  7.5  8.   8.5  9.   9.5]\n"
     ]
    }
   ],
   "source": [
    "x=arange(0,10,0.5)\n",
    "print(x)"
   ]
  },
  {
   "cell_type": "markdown",
   "metadata": {},
   "source": [
    "<div style=\"direction:rtl\">\n",
    "שימו לב ש-x מכיל את כל האיברים מערך ההתחלה ועד איבר אחד לפני ערך הסיום.\n",
    "<br>\n",
    "על מנת להשתמש או לשנות ערך מסוים בסדרה נשתמש בסוגריים מרובעים [].\n",
    "המיקום של האיבר הראשון בסדרה הוא [0], מיקום האיבר השני הוא [1] וכן הלאה, כך שאם בסדרה n איברים, האיבר האחרון בסדרה נמצא במיקום [n-1].\n",
    "ניתן גם לגשת לאברי הסדרה מהסוף: האיבר האחרון בסדרה ניתן לגישה על ידי [1-], האיבר הלפני אחרון על ידי [2-] וכו'.\n",
    "</div>"
   ]
  },
  {
   "cell_type": "code",
   "execution_count": 3,
   "metadata": {
    "collapsed": false
   },
   "outputs": [
    {
     "name": "stdout",
     "output_type": "stream",
     "text": [
      "1.0\n",
      "9.5\n",
      "9.5\n"
     ]
    }
   ],
   "source": [
    "print(x[2])\n",
    "print(x[-1])\n",
    "print(x[19])"
   ]
  },
  {
   "cell_type": "markdown",
   "metadata": {},
   "source": [
    "<div style=\"direction:rtl\">\n",
    "ניתן לבצע את כל פעולות החשבון על סדרת המספרים כאשר המשמעות היא שהפעולות מבוצעות על כל ערך בסדרה בנפרד.\n",
    "בתא הבא אנו מכפילים את כל ערכי הסדרה ב-2, ומציבים את התוצאה למשתנה y.\n",
    "לאחר מכן אנו מכפילים את שתי הסדרות כאשר המשמעות של הכפלת שתי סדרות היא יצירת סדרה שמכילה בכל מקום את מכפלת האיברים המתאימים מהסדרות שהוכפלו.\n",
    "</div>"
   ]
  },
  {
   "cell_type": "code",
   "execution_count": 4,
   "metadata": {
    "collapsed": false
   },
   "outputs": [
    {
     "name": "stdout",
     "output_type": "stream",
     "text": [
      "[  0.   1.   2.   3.   4.   5.   6.   7.   8.   9.  10.  11.  12.  13.  14.\n",
      "  15.  16.  17.  18.  19.]\n",
      "[   0.     0.5    2.     4.5    8.    12.5   18.    24.5   32.    40.5\n",
      "   50.    60.5   72.    84.5   98.   112.5  128.   144.5  162.   180.5]\n"
     ]
    }
   ],
   "source": [
    "y=2*x\n",
    "print(y)\n",
    "print(x*y)"
   ]
  },
  {
   "cell_type": "markdown",
   "metadata": {},
   "source": [
    "<div style=\"direction:rtl\">\n",
    "<h4>\n",
    "משימה 1\n",
    "</h4>\n",
    "עדכנו את תא הקוד הבא כך שהפלט יהיה ריבועי כל המספרים מ-1 עד 10 (כולל)\n",
    "</div>\n"
   ]
  },
  {
   "cell_type": "code",
   "execution_count": null,
   "metadata": {
    "collapsed": false,
    "scrolled": true
   },
   "outputs": [],
   "source": []
  },
  {
   "cell_type": "markdown",
   "metadata": {},
   "source": [
    "<div style=\"direction:rtl\">\n",
    "<H2>\n",
    "שרטוט גרפים\n",
    "</H2>\n",
    "סביבת jupyter notebook מאפשרת שרטוט גרפים באמצעות הפונקציה plot.\n",
    "הגרף יכול להווצר או בחלון נפרד, אז ניתן להגדיל אותו ולהתמקד בחלקים שונים שלו, או בגוף הnotebook, בתא ה-output.\n",
    "ברירת המחדל (המומלצת) היא הדפסת הגרף בחלון נפרד.\n",
    "במסמך זה, על מנת לראות את הגרפים בסמוך לקוד, בחרנו באפשרות הצגת הגרפים בגוף המסמך.\n",
    "בחירה זו מבוצעת על ידי הרצת הפקודה pylab inline%, במקום pylab%.\n",
    "<br>\n",
    "על מנת לשרטט גרף עלינו לספק לפונקציה plot את ערכי ה-x וערכי ה-y של נקודות הגרף.\n",
    "בתא הקוד הבא אנו מציבים למשתנה x את סדרת המספרים בין 0 ל-9, ולמשתנה y את הנקודות המתאימות על גבי הישר:\n",
    "\n",
    "$$ y=5x+2 $$\n",
    "\n",
    "לאחר מכן אנו קוראים לפונקציה plot על מנת לשרטט את הגרף.\n",
    "הסימן '.' מורה לפונקציה לצייר את הנקודות בלבד.\n",
    "(ברירת המחדל, אם סימן זה מושמט, היא לצייר קו בין הנקודות.)\n",
    "<h4>\n",
    "משימה 2\n",
    "</h4>\n",
    "עדכנו את הקוד כך שהפונקציה שתשורטט תהיה\n",
    "$$ x^2-5x-3 $$\n",
    "והגרף יציג קו המחבר בין הנקודות ולא את הנקודות עצמן\n",
    "</div>\n"
   ]
  },
  {
   "cell_type": "code",
   "execution_count": 7,
   "metadata": {
    "collapsed": false
   },
   "outputs": [
    {
     "data": {
      "text/plain": [
       "[<matplotlib.lines.Line2D at 0x7fabb3114da0>]"
      ]
     },
     "execution_count": 7,
     "metadata": {},
     "output_type": "execute_result"
    },
    {
     "data": {
      "image/png": "[encoded data removed]",
      "text/plain": [
       "<matplotlib.figure.Figure at 0x7fabb37ee2b0>"
      ]
     },
     "metadata": {},
     "output_type": "display_data"
    }
   ],
   "source": [
    "x=arange(0,10,1)\n",
    "y=5*x+2\n",
    "plot(x,y,'.')"
   ]
  },
  {
   "cell_type": "markdown",
   "metadata": {},
   "source": [
    "<div style=\"direction:rtl\">\n",
    "<h2>\n",
    "חישוב מקורב של שטח מתחת לגרף\n",
    "</h2>\n",
    "כאשר ידועים לנו הערכים של פונקציה מתמטית בצפיפות גבוהה לאורך ציר ה-x, אנו יכולים לחשב, בקירוב, את השטח הכלוא בין קו הפונקציה לציר ה-x.\n",
    "אנו נסמן ב-dx את ההפרש בין כל שתי נקודות לאורך ציר ה-x עבורן אנו מחשבים את ערך הפונקציה.\n",
    "על מנת לחשב את השטח כל שעלינו לעשות הוא לחשב, עבור כל נקודה של הפונקציה\n",
    ",את שטח המלבן שגובהו כגובה הנקודה, ושרוחבו הוא dx\n",
    "(הגרף הבא ממחיש את הכוונה).\n",
    "אנו מעוניינים לחשב את השטח הכלוא מתחת לפונקציה\n",
    "$$-x^2+3$$\n",
    "המסומנת בקו כחול, בתחום הערכים\n",
    "$$-1\\leq x \\leq 1$$\n",
    "לשם כך אנו מחשבים את ערכי הפונקציה במרווחים של 0.1 על גבי ציר ה-x, וסוכמים את שטחי המלבנים המסומנים באדום.\n",
    "על מנת לבצע את הסכימה אנו משתמשים בפונקציה sum, אשר בהנתן סדרה מחשבת את סכום אבריה.\n",
    "שיטת חישוב זו מכונה אינטגרציה נומרית ורמת הדיוק בחישוב השטח עולה ככל שהערך של dx קטן.\n",
    "<br>\n",
    "בקטע קוד זה אנו משתמשים בפקודה bar על מנת לצייר את המלבנים, וזאת להמחשה בלבד.\n",
    "הפקודה מקבלת את ערכי ה-x וה-y של כל מלבן ואת רוחבו.\n",
    "אפשר לציין מפורשות מהו הצבע בו אנו רוצים שהמלבנים ישורטטו על ידי הפרמטר color.\n",
    "</div>\n"
   ]
  },
  {
   "cell_type": "code",
   "execution_count": 8,
   "metadata": {
    "collapsed": false
   },
   "outputs": [
    {
     "name": "stdout",
     "output_type": "stream",
     "text": [
      "5.33\n"
     ]
    },
    {
     "data": {
      "image/png": "[encoded data removed]",
      "text/plain": [
       "<matplotlib.figure.Figure at 0x7fabb30ebe80>"
      ]
     },
     "metadata": {},
     "output_type": "display_data"
    }
   ],
   "source": [
    "dx=0.1\n",
    "x=arange(-1,1,dx)\n",
    "y=-x**2+3\n",
    "plot(x,y)\n",
    "bar(x,y,dx,color='red')\n",
    "print(sum(y*dx))"
   ]
  },
  {
   "cell_type": "markdown",
   "metadata": {
    "collapsed": true
   },
   "source": [
    "<div style=\"direction:rtl\">\n",
    "<H4>\n",
    "משימה 3\n",
    "</H4>\n",
    "במשימה זו נשתמש בשיטת האינטגרציה הנומרית להערכת ערכו של $\\pi$.\n",
    "ערכו של $\\pi$ מוזן כבר בשפת פייתון כמשתנה בשם pi כפי שניתן לראות בתא הקוד הבא\n",
    "</div>\n"
   ]
  },
  {
   "cell_type": "code",
   "execution_count": 13,
   "metadata": {
    "collapsed": false
   },
   "outputs": [
    {
     "data": {
      "text/plain": [
       "3.141592653589793"
      ]
     },
     "execution_count": 13,
     "metadata": {},
     "output_type": "execute_result"
    }
   ],
   "source": [
    "pi"
   ]
  },
  {
   "cell_type": "markdown",
   "metadata": {},
   "source": [
    "<div style=\"direction:rtl\">\n",
    "נשתמש בעובדה שידוע כי השטח של מעגל היחידה הוא $\\pi$.\n",
    "<br>\n",
    "עדכנו את קטע הקוד הבא כך שערכי y יהיו בהתאם לחציו החיובי של מעגל היחידה (רמז: השתמשו במשפט פיתגורס)\n",
    "ציירו את הגרף המתקבל.\n",
    "האם הוא נראה כחצי מעגל?\n",
    "<br>\n",
    "חשבו את השטח הכלוא מתחת לחצי מעגל היחידה, הכפילו ב-2, והשוו לערך המוזן בשפת פייתון.\n",
    "האם התוצאה מדויקת?\n",
    "<br>\n",
    "האם שינוי בערך dx משפר את דיוק התוצאה?\n",
    "</div>"
   ]
  },
  {
   "cell_type": "code",
   "execution_count": null,
   "metadata": {
    "collapsed": true
   },
   "outputs": [],
   "source": [
    "dx=0.1\n",
    "x=arange(-1,1,dx)\n",
    "y= \n",
    "plot(x,y)"
   ]
  },
  {
   "cell_type": "markdown",
   "metadata": {},
   "source": [
    "<div style=\"direction:rtl\">\n",
    "שימרו את המסמך המעודכן על ידי הקשה על צלמית הדיסקט  מצד שמאל למעלה, או שימוש בקיצור המקלדת ctrl+s.\n",
    "<h4>\n",
    "מזל טוב! סיימתם יחידה זו.\n",
    "</h4>\n",
    "</div>"
   ]
  },
  {
   "cell_type": "code",
   "execution_count": null,
   "metadata": {
    "collapsed": true
   },
   "outputs": [],
   "source": []
  }
 ],
 "metadata": {
  "kernelspec": {
   "display_name": "Python 3",
   "language": "python",
   "name": "python3"
  },
  "language_info": {
   "codemirror_mode": {
    "name": "ipython",
    "version": 3
   },
   "file_extension": ".py",
   "mimetype": "text/x-python",
   "name": "python",
   "nbconvert_exporter": "python",
   "pygments_lexer": "ipython3",
   "version": "3.5.1"
  }
 },
 "nbformat": 4,
 "nbformat_minor": 0
}
