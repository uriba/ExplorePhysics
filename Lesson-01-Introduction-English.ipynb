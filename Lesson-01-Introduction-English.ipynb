{
 "cells": [
  {
   "cell_type": "markdown",
   "metadata": {},
   "source": [
    "<H1>\n",
    "Physics with python - English translation not complete\n",
    "</H1>"
   ]
  },
  {
   "cell_type": "markdown",
   "metadata": {},
   "source": [
    "<H2>\n",
    "Lesson 1, Introduction\n",
    "</H2>\n",
    "\n",
    "<H2>\n",
    "Introduction to jupyter notebook\n",
    "</H2>"
   ]
  },
  {
   "cell_type": "markdown",
   "metadata": {},
   "source": [
    "\n",
    "&nbsp;\n",
    "Welcome to the jupyter notebook invironment. This is a wonderfull tool that allows us to preform scientific calculations using a simple, useful and widely used programing language called 'Python'.\n",
    "\n",
    "In this tutorial we will learn how to install and start jupyter notebook as well as some first useful examples of how to use it.\n",
    "\n",
    "\n",
    "<H3>\n",
    "Installation \n",
    "</H3>\n",
    "\n",
    "There are several ways to install the required elements for jupyter notebook. We recommend installing the anaconda package from\n",
    "<a href=\"https://www.continuum.io/downloads\">\n",
    "this link\n",
    "</a>\n",
    ".\n",
    "<ul>\n",
    "<li>\n",
    "Choose python version 3.5 and the appropriate operating system.\n",
    "</li>\n",
    "<li>\n",
    "It is recomended to install 'for this user only' and not 'for all users'\n",
    "</li>\n",
    "<li>\n",
    "If using windows 10, to start jupyter notebook, go to the start menu, write down 'jupyter notebook' in the search box and press enter. For other operating systems see\n",
    "<a href=\"http://jupyter-notebook-beginner-guide.readthedocs.io/en/latest/execute.html\">\n",
    "this link </a>.\n",
    "</li>\n",
    "<li>\n",
    "Once started, a new tab in your internet browser will open up and you will see a list of the files and folders in the the start-up folder of jupyter notebook. At this point you can only work on files within this folder or its subfolders. \n",
    "</li>\n",
    "<li>\n",
    "Using this screen, we recommend to create a new folder for the tutorial files. \n",
    "<li>\n",
    "Next you need to open this document using Jupyter Notebook. If you haven't, and are reading this document from the website anaconda.org, right-click 'Download' in the upper right side of the screen and save the file in the dedicated directory you created. If you don'e know where the new directory is located in your computer follow the instructions in \n",
    "<a href=\"https://youtu.be/-QAED9UaMIE\"> this video </a>\n",
    "</li>\n",
    "<li>\n",
    "Now open the file you downloaded from the jupyter notebook interface. This will open a new tab in the browser with this file. Make sure to close the tab where you read the same file from the internet so you do not get confused. This lesson cannot be completed, when reading directly from the internet.\n",
    "</li>\n",
    "</ul>\n",
    "From now on, when working on these tutorials, first download them to your computer, and open them using jupyter notebook."
   ]
  },
  {
   "cell_type": "markdown",
   "metadata": {},
   "source": [
    "<h3>\n",
    "Basic layout of jupyter notebook\n",
    "</h3>\n",
    "A jupyter notebook contains three kinds of cells:\n",
    "<ul>\n",
    "<li>\n",
    "Cells that contain text such as this one. Such cells have a white background.\n",
    "</li>\n",
    "<li>\n",
    "Cells that contain code such as the cell below this text. Code cells have a grey background and have $\\text{In[ ]:}$ written to their left.\n",
    "</li>\n",
    "<li>\n",
    "Cells that contain output. These cells have a white background and have $\\text{Out[ ]:}$ written to their left. Output cells always appear below a code cell and only if the code has been executed.\n",
    "</li>\n",
    "</ul>\n",
    "<H3>\n",
    "Lets start: using the notebook as a simple calculator\n",
    "</H3>\n",
    "Note the grey code cell below which contains the expression\n",
    "'2\\*(3+7)/5'.\n",
    "Unlike text you have read so far, code cells can be executed.\n",
    "Press shift+enter on your keyboard, see what happens and continue reading below."
   ]
  },
  {
   "cell_type": "code",
   "execution_count": 2,
   "metadata": {
    "collapsed": false
   },
   "outputs": [
    {
     "data": {
      "text/plain": [
       "4.0"
      ]
     },
     "execution_count": 2,
     "metadata": {},
     "output_type": "execute_result"
    }
   ],
   "source": [
    "2*(3+7)/5"
   ]
  },
  {
   "cell_type": "markdown",
   "metadata": {},
   "source": [
    "As you can see, several things happened. First, the computer preformed the written calculation and printed the result in a new output cell. \n",
    "\n",
    "Note that the marking to the left of the input code cell changed and now reads\n",
    "\n",
    "    In [1]:\n",
    "\n",
    "The word 'In' stands for Input - our way of telling the computer what we want it to do.\n",
    "Note that next to the result appears the text \n",
    "    Out [1]:\n",
    "The word 'Out' stands for Output- the computer's way of telling us the results of the code we ran or if there is a problem with our code.\n",
    "The number in the square brackets tells us how many times we ran code (and therefore provided inputs and obtained outputs) in the current session.\n",
    "<br>\n",
    "Press shift+enter on the code cell above again.\n",
    "<br>\n",
    "As you can see, the calculation was preformed again and the same result was printed. The only change is the that the number in the In and Out square brackets increased by 1.\n",
    "<br>\n",
    "Now change the expression to represent different calculations of your choice and each time press shift+enter to see the result.\n",
    "<br>\n",
    "Now try to press ctrl+enter on the cell rather than shift+enter. \n",
    "Both of these keyboard shortcuts exectue the cell. The difference is that shift+enter advances the notebook to the next cell (be it a white text cell or a grey code cell) while ctrl+enter does not change the current location within the document.\n",
    "<br>\n",
    "Below are a few examples that show how to preform different kinds of arithmetic calculations. Try to guess what will happen in each case and then run the cell using shift+enter or ctrl+enter (choose which one is more convinient for you)."
   ]
  },
  {
   "cell_type": "code",
   "execution_count": null,
   "metadata": {
    "collapsed": true
   },
   "outputs": [],
   "source": [
    "3+3*3"
   ]
  },
  {
   "cell_type": "code",
   "execution_count": null,
   "metadata": {
    "collapsed": false
   },
   "outputs": [],
   "source": [
    "3**2"
   ]
  },
  {
   "cell_type": "code",
   "execution_count": null,
   "metadata": {
    "collapsed": true
   },
   "outputs": [],
   "source": [
    "2**3"
   ]
  },
  {
   "cell_type": "code",
   "execution_count": null,
   "metadata": {
    "collapsed": false
   },
   "outputs": [],
   "source": [
    "9**(0.5)"
   ]
  },
  {
   "cell_type": "markdown",
   "metadata": {},
   "source": [
    "Note that 'a to the power b' is written as 'a\\*\\*b'. \n",
    "In many other languages, this operation is written as 'a^b'. \n",
    "Will this work here as well?\n",
    "Run the next cell code and see what happens. "
   ]
  },
  {
   "cell_type": "code",
   "execution_count": null,
   "metadata": {
    "collapsed": false
   },
   "outputs": [],
   "source": [
    "3^2 "
   ]
  },
  {
   "cell_type": "markdown",
   "metadata": {},
   "source": [
    "The answer is (unfortunetily in our view) no.\n",
    "The symbol '^' in python is used for an operation called 'bitwise xor' that we will not need in these tutorials."
   ]
  },
  {
   "cell_type": "markdown",
   "metadata": {},
   "source": [
    "How about trigonometric functions?\n",
    "Does python know trigonometry?\n",
    "Try the next cell code"
   ]
  },
  {
   "cell_type": "code",
   "execution_count": null,
   "metadata": {
    "collapsed": false
   },
   "outputs": [],
   "source": [
    "cos(60)"
   ]
  },
  {
   "cell_type": "markdown",
   "metadata": {},
   "source": [
    "No. Python skipped a few classes in high-school and does not know trigonometry. Luckily, with a very simple shortcut we can upload libraries that will contain trigonometric functions and many more tools for scientific computation. We will do this later on in this document. \n",
    "<br>\n",
    "So far each code you ran already had a greay cell code ready for you. You can add new code cells by clicking the '+' button in the left part of the horizontal tool-box at the head of this screen, next to the 'save' button with the floppy disc cartoon (see <a href=\"https://youtu.be/BJ2pazLPwpc\">\n",
    "this video\n",
    "</a>). \n",
    "In order to delete a cell, click the cell and then the button with the scissors cartoon which is next to the '+' button.\n",
    "<br>\n",
    "Next, preform the following excersises. \n",
    "In order to preform each calculation add a code cell below the calculation using the '+' button.וסיפו מתחתיו תיבה אפורה.\n",
    "<br>\n",
    "Note that for certain versions of chrome browsers, a vertical line symbol '|' appears at the end of many mathematical expressions. Ignore this line."
   ]
  },
  {
   "cell_type": "markdown",
   "metadata": {},
   "source": [
    "$$ 1*2*3*4*5 $$\n",
    "\n",
    "(The result should be 120)"
   ]
  },
  {
   "cell_type": "markdown",
   "metadata": {},
   "source": [
    "$$  ((2+3)*4+5)^2*(5+8) $$\n",
    "\n",
    "(The result should be 8125)"
   ]
  },
  {
   "cell_type": "markdown",
   "metadata": {},
   "source": [
    "$$  \\left(\\frac{1.3-0.7}{0.1+0.2}\\right) ^2 $$\n",
    "\n",
    "(The result should be 4.0)"
   ]
  },
  {
   "cell_type": "markdown",
   "metadata": {},
   "source": [
    "<h3>\n",
    "First command - print\n",
    "</h3>\n",
    "Run the next grey code cell (shift+enter or ctrl+enter as usual)"
   ]
  },
  {
   "cell_type": "code",
   "execution_count": null,
   "metadata": {
    "collapsed": false
   },
   "outputs": [],
   "source": [
    "print(3*2)"
   ]
  },
  {
   "cell_type": "markdown",
   "metadata": {},
   "source": [
    "The command 'print' tells the computer to print the variables in the parantheses. \n",
    "As you can see, the result is identical to what we would obtain if we wrote the arithmetic calculation directly as we did so far.\n",
    "Python is programed to print arithmetic operations even without the command 'print'.\n",
    "Now try the next cell:"
   ]
  },
  {
   "cell_type": "code",
   "execution_count": null,
   "metadata": {
    "collapsed": false
   },
   "outputs": [],
   "source": [
    "print('hello world')"
   ]
  },
  {
   "cell_type": "markdown",
   "metadata": {},
   "source": [
    "Note the apostrophes bounding the text. Their job is to tell the computer this is text. Try to remove them and run the cell again.\n",
    "In the next few cells, try to guess what will happen and then run the code and see if you were right. Explanations are provided below the code cells."
   ]
  },
  {
   "cell_type": "code",
   "execution_count": null,
   "metadata": {
    "collapsed": false
   },
   "outputs": [],
   "source": [
    "print('3*4')"
   ]
  },
  {
   "cell_type": "code",
   "execution_count": null,
   "metadata": {
    "collapsed": true
   },
   "outputs": [],
   "source": [
    "print(3*4)"
   ]
  },
  {
   "cell_type": "code",
   "execution_count": null,
   "metadata": {
    "collapsed": false
   },
   "outputs": [],
   "source": [
    "print(hello world)"
   ]
  },
  {
   "cell_type": "code",
   "execution_count": null,
   "metadata": {
    "collapsed": false
   },
   "outputs": [],
   "source": [
    "print(3,4,5)"
   ]
  },
  {
   "cell_type": "code",
   "execution_count": null,
   "metadata": {
    "collapsed": true
   },
   "outputs": [],
   "source": [
    "print('3*4',3*4)"
   ]
  },
  {
   "cell_type": "code",
   "execution_count": null,
   "metadata": {
    "collapsed": false
   },
   "outputs": [],
   "source": [
    "print('the answer to 334*4 is',334*4)"
   ]
  },
  {
   "cell_type": "code",
   "execution_count": null,
   "metadata": {
    "collapsed": false
   },
   "outputs": [],
   "source": [
    "print(3*4)\n",
    "print(4+6)\n",
    "print(7+8)"
   ]
  },
  {
   "cell_type": "code",
   "execution_count": null,
   "metadata": {
    "collapsed": false
   },
   "outputs": [],
   "source": [
    "3*4\n",
    "4+6\n",
    "7+8"
   ]
  },
  {
   "cell_type": "code",
   "execution_count": null,
   "metadata": {
    "collapsed": false
   },
   "outputs": [],
   "source": [
    "3*4\n",
    "4+6\n",
    "7+8\n",
    "print('where did the answers go?')"
   ]
  },
  {
   "cell_type": "markdown",
   "metadata": {},
   "source": [
    "As you can see it is possible to write more than one line of code within each cell. An arithmetic calculation is printed without the use of the command 'print' only if it is the last line of the code. When the 'print' command is used, the result is always printed.\n",
    "<br>\n",
    "Python allows the decleration of text with either apostropes ('), as we did so far, or with quotation marks (\") as long as we use the same symbol at the beginning and ending of the line. \n",
    "Run the following code cells and examin what happens. "
   ]
  },
  {
   "cell_type": "code",
   "execution_count": null,
   "metadata": {
    "collapsed": false
   },
   "outputs": [],
   "source": [
    "print(\"the sign ' appears because it was not used to define the text\")"
   ]
  },
  {
   "cell_type": "code",
   "execution_count": null,
   "metadata": {
    "collapsed": false
   },
   "outputs": [],
   "source": [
    "print('the sign ' makes problems because we used it')"
   ]
  },
  {
   "cell_type": "markdown",
   "metadata": {},
   "source": [
    "In python the hash tag symbol '#' is used to add comments to code.\n",
    "If a hash tag is added in a line, python ignores anything beyon the hash tag within the line. Note that additional hash tags are ignored as well within the same line. Run the code below to see how hash tags work."
   ]
  },
  {
   "cell_type": "code",
   "execution_count": null,
   "metadata": {
    "collapsed": false
   },
   "outputs": [],
   "source": [
    "# print(5) because of the # sign in the beginning of the line, this line is completely ignored\n",
    "print(7) # This part of the line is ignored. We can write more # signs and it doesn't matter\n",
    "3+1 #+5"
   ]
  },
  {
   "cell_type": "markdown",
   "metadata": {},
   "source": [
    "<h3>\n",
    "White text cells\n",
    "</h3>\n",
    "Click the text with the white background in this paragraph (you can click this very sentence). As you can see, a blue boundary appears around the paragraph. In fact, this paragraph, like all paragraphs is created by a simple code that has been executed already. \n",
    "Double click on the paragraph to see the code behind it. As you can see, the cell becomes grey and some commands appear (this is html. If you don't know html or even what it means, don't worry you don't have to.). How can we turn this back into text with white background? simply execute it with shift+enter or ctrl+enter. When in grey mode, the text can be edited.  "
   ]
  },
  {
   "cell_type": "markdown",
   "metadata": {},
   "source": [
    "<h4>\n",
    "Ex 1\n",
    "</h4>\n",
    "Go to the very beggining of this document and add your name to the title. You can edit the title by double-clicking it as was just explained."
   ]
  },
  {
   "cell_type": "markdown",
   "metadata": {},
   "source": [
    "<H3>\n",
    "Variables\n",
    "</H3>\n",
    "Look at the next cell, try to guess what it does, run it and continue reading."
   ]
  },
  {
   "cell_type": "code",
   "execution_count": null,
   "metadata": {
    "collapsed": true
   },
   "outputs": [],
   "source": [
    "x=10\n",
    "print(x)"
   ]
  },
  {
   "cell_type": "markdown",
   "metadata": {},
   "source": [
    "Python, like any modern computer language, allows the use of variables to represent different kinds of values.\n",
    "In the code cell above, the number 10 was asigned to a variable named 'x'. \n",
    "For python this means that untill further notice, 'x' holds the value 10.\n",
    "In order to see what the value stored in 'x' is the command 'print' was used.\n",
    "As you can see, when 'print' is provided with a name of a variable, the value stored in the variable is printed.\n",
    "Try the cells below."
   ]
  },
  {
   "cell_type": "code",
   "execution_count": null,
   "metadata": {
    "collapsed": false
   },
   "outputs": [],
   "source": [
    "print(x)"
   ]
  },
  {
   "cell_type": "markdown",
   "metadata": {},
   "source": [
    "The computer still remembers what is stored in x!"
   ]
  },
  {
   "cell_type": "code",
   "execution_count": null,
   "metadata": {
    "collapsed": true
   },
   "outputs": [],
   "source": [
    "print(x+1)"
   ]
  },
  {
   "cell_type": "code",
   "execution_count": null,
   "metadata": {
    "collapsed": true
   },
   "outputs": [],
   "source": [
    "x=7\n",
    "print(x)"
   ]
  },
  {
   "cell_type": "markdown",
   "metadata": {},
   "source": [
    "This last code cell changed the value of x. \n",
    "Go a few cells up in the document, to the cell with the single line 'print(x)' and run it again.\n",
    "<br>\n",
    "As you can see, the order in which the cells appear in the document has no significance. What counts is the order in which the cells were run.\n",
    "<br>\n",
    "Behind the scenes, python keeps a table with all the existing variable names and their stored values.\n",
    "Each time we assign a value to a variable using the equality symbol '=', python checks if a variable with this name exists in its table. If it does, python updates the value in the variable to the new assigned value. If a variable with this name does not exist, python creates adds a new row to the table with the new variable name and its assigned value."
   ]
  },
  {
   "cell_type": "markdown",
   "metadata": {},
   "source": [
    "Note that when using mathematical expressions, python keeps the numerical result and not the expression itself.\n",
    "You can see this by running the next code cell. Read it, try to guess what will happen and then run it."
   ]
  },
  {
   "cell_type": "code",
   "execution_count": null,
   "metadata": {
    "collapsed": false
   },
   "outputs": [],
   "source": [
    "x=5\n",
    "y=x*2\n",
    "print(\"x is:\",x,\" and y is:\",y)\n",
    "x=7\n",
    "print(\"now x is:\",x,\" and y is:\",y)\n"
   ]
  },
  {
   "cell_type": "markdown",
   "metadata": {},
   "source": [
    "As you can see, even though we wrote 'y=x\\*2', when we updated the value of 'x', the value of 'y' was not updated.\n",
    "The way python read the line 'y=x\\*2' is: take the current value of 'x' (which was 5 in this case), multiply it by 2 and assign the resulting *numerical value* (10 in this case) to 'y'.\n",
    "Python continues on, remembering that 'y' equals 10 but not remembering how this value was obtained. When the value of 'x' is updated to 7, this has no effect on 'y' anymore.  "
   ]
  },
  {
   "cell_type": "markdown",
   "metadata": {},
   "source": [
    "You can use almost any name you want for a variable:"
   ]
  },
  {
   "cell_type": "code",
   "execution_count": null,
   "metadata": {
    "collapsed": false
   },
   "outputs": [],
   "source": [
    "boaz=50\n",
    "uri=50\n",
    "team=boaz+uri\n",
    "print(team)"
   ]
  },
  {
   "cell_type": "markdown",
   "metadata": {},
   "source": [
    "However some names are not allowed:"
   ]
  },
  {
   "cell_type": "code",
   "execution_count": null,
   "metadata": {
    "collapsed": false
   },
   "outputs": [],
   "source": [
    "israel=3"
   ]
  },
  {
   "cell_type": "code",
   "execution_count": null,
   "metadata": {
    "collapsed": false
   },
   "outputs": [],
   "source": [
    "israel israeli=3"
   ]
  },
  {
   "cell_type": "code",
   "execution_count": null,
   "metadata": {
    "collapsed": true
   },
   "outputs": [],
   "source": [
    "yoni34=4"
   ]
  },
  {
   "cell_type": "markdown",
   "metadata": {},
   "source": [
    "Note that in an assignment to a variable, what's written to the left of the equality sign '=' is treated differently than what's written to its right.\n",
    "For example, the next line does not work (try)."
   ]
  },
  {
   "cell_type": "code",
   "execution_count": null,
   "metadata": {
    "collapsed": false
   },
   "outputs": [],
   "source": [
    "7=x"
   ]
  },
  {
   "cell_type": "markdown",
   "metadata": {},
   "source": [
    "In the next example we will see how variables are useful for preforming calculations in physics.\n",
    "<br>\n",
    "The next cell code calculates the answer to the following problem:\n",
    "<br>\n",
    "A ball is thrown upwards at an initial velocity of 5 meters per second. How high will the ball be after 0.6 seconds with respect to its initial position?"
   ]
  },
  {
   "cell_type": "code",
   "execution_count": null,
   "metadata": {
    "collapsed": false
   },
   "outputs": [],
   "source": [
    "g=10 #m/s^2\n",
    "ay=-g\n",
    "vy0=5 #m/s\n",
    "y0=0  #m\n",
    "t=0.6 #s\n",
    "\n",
    "y=y0+vy0*t+0.5*ay*t**2\n",
    "\n",
    "print('at t=',t,'seconds,  y=',y, 'meters')"
   ]
  },
  {
   "cell_type": "markdown",
   "metadata": {},
   "source": [
    "Change the code above to calculate the hight after 1.3 seconds instead of 0.6 and run it.\n",
    "What would be the result if the initial velocity is 6 meters per second and not 5?\n",
    "As you can see we can easily study how changes to the parameters affect the result using this simple code.\n",
    "<br>\n",
    "In addition to fast results and the ease of making changes, the code makes the assignment of the initial values and the use of the equation of motion with constant acceleration organized and easy to read.\n",
    "It is important to note that the computer has no idea what we are calculating or what are the physical units we are using.\n",
    "The comments in the code above help the user remember what are the units he is using. These comments have no meaning to python and do not affect the outcome."
   ]
  },
  {
   "cell_type": "markdown",
   "metadata": {},
   "source": [
    "You can write very big numbers and very small numbers using powers of 10 by using 'e+' and 'e-' as shown in the next examples (E works just as well). "
   ]
  },
  {
   "cell_type": "code",
   "execution_count": 2,
   "metadata": {
    "collapsed": false
   },
   "outputs": [
    {
     "name": "stdout",
     "output_type": "stream",
     "text": [
      "2e3= 2000.0\n",
      "20e3= 20000.0\n",
      "4E3= 4000.0\n",
      "1e-3= 0.001\n",
      "2e13*2e15= 4e+28\n"
     ]
    }
   ],
   "source": [
    "print('2e3=',2e3)\n",
    "print('20e3=',20e3)\n",
    "print('4E3=',4E3)\n",
    "print('1e-3=',1e-3)\n",
    "print('2e13*2e15=',2e13*2e15)"
   ]
  },
  {
   "cell_type": "markdown",
   "metadata": {},
   "source": [
    "<h4>\n",
    "Ex. 2\n",
    "</h4>\n",
    "Write code to preform the each of teh following exercises and run it.\n",
    "Unless otherwise stated, use units of meters, seconds and kilograms."
   ]
  },
  {
   "cell_type": "markdown",
   "metadata": {
    "collapsed": false
   },
   "source": [
    "Assing the number 7 to a variable called 'y' and print the expression 'y+8'.\n",
    "Run the code and make sure you get 15."
   ]
  },
  {
   "cell_type": "code",
   "execution_count": null,
   "metadata": {
    "collapsed": true
   },
   "outputs": [],
   "source": [
    " "
   ]
  },
  {
   "cell_type": "markdown",
   "metadata": {},
   "source": [
    "Assing the value of the universal gravitational constant to a variable 'G', earth's radius to 'Rearth' and earth's mass to 'Mearth'.\n",
    "Calculate the magnitude of the acceleration at the surface of earth by using the universal gravitational attraction law\n",
    "$$a=\\frac{GM}{r^2}$$,\n",
    "where *a* is the magnitude of the acceleration, *M* is the mass of the object and *r* is the distance from the center of the object (assuming it is spherical). Use the variables 'G','Rearth' and 'Mearth' that you assigned and print the result. Check that it is equal to the standard acceleration of free fall. "
   ]
  },
  {
   "cell_type": "code",
   "execution_count": null,
   "metadata": {
    "collapsed": true
   },
   "outputs": [],
   "source": []
  },
  {
   "cell_type": "markdown",
   "metadata": {},
   "source": [
    "Assing the semimajor axis of earth's orbit around the sun to a new variable 'AU' (the standard abrevation of Astronomical Unit) and the mass of the sun to 'Msun'. Calculate and print the magnitude of the acceleration of earth towards the sun using the universal law of gravitation. Note that you do not need to define 'G' again since you already did in the previous exercise."
   ]
  },
  {
   "cell_type": "code",
   "execution_count": null,
   "metadata": {
    "collapsed": true
   },
   "outputs": [],
   "source": []
  },
  {
   "cell_type": "markdown",
   "metadata": {},
   "source": [
    "Assign the approximate value 3.14 to a new variable 'pi' which stands for $\\pi$. \n",
    "Using the variables you already defined, calculate the period of earth's orbit around the sun using Kepler's third law\n",
    "$$T=2\\pi\\frac{r^{3/2}}{(GM_{sun})^{1/2}}$$\n",
    "where *r* is the semi-major axis of the orbit around the sun. Assign the result to a new variable 'T'. Print the result using the line:\n",
    "<br>\n",
    "print('The period of earth's orbit around the sun is',T,'seconds')"
   ]
  },
  {
   "cell_type": "markdown",
   "metadata": {},
   "source": [
    "Create a new variable named 'daylength' and assign to it the length of a day in seconds.\n",
    "Print the period of earth's orbit in days using the line:\n",
    "<br>\n",
    "print('The period of earth's orbit around the sun is',T/daylength,'days')"
   ]
  },
  {
   "cell_type": "code",
   "execution_count": null,
   "metadata": {
    "collapsed": true
   },
   "outputs": [],
   "source": []
  },
  {
   "cell_type": "markdown",
   "metadata": {},
   "source": [
    "<H2>\n",
    "Using additional mathematical functions with variables\n",
    "</H2>\n",
    "For the next example we need a square root function which does not exist in the basic python programming language.\n",
    "We will therfore import libraries that contain such a function. The anaconda package you installed allows a set of libraries with additional commands that are useful for scientific computation to be uploaded using a single symple command.\n",
    "\n",
    "<br>\n",
    "Run the next code cell with the command '%pylab'. The execution may take a short while when done for the first time and an astriks '\\*' will appear in the In[\\*]: label to the left of the code as long as the code is running. \n",
    "Some warnings with red background may appear. As long as these are warnings and not errors, you can ignore them.\n",
    "If the execution takes more than about a minute, click the refresh button at the right end of the toolbox at the top of the screen.\n",
    "This document can be continued only once this code finished running and the \\* is replaced by a number in the In[] label.\n",
    "\n",
    "<br>\n",
    "In the beginning of the rest of the tutorials we will usually first run the '%pylab' command to upload the libraries needed for scientific computation. \n"
   ]
  },
  {
   "cell_type": "code",
   "execution_count": null,
   "metadata": {
    "collapsed": false
   },
   "outputs": [],
   "source": [
    "%pylab"
   ]
  },
  {
   "cell_type": "markdown",
   "metadata": {},
   "source": [
    "Now we have access to numerous new commands that were not available before. A couple of examples:"
   ]
  },
  {
   "cell_type": "markdown",
   "metadata": {},
   "source": [
    "Trigonometry:"
   ]
  },
  {
   "cell_type": "code",
   "execution_count": null,
   "metadata": {
    "collapsed": false
   },
   "outputs": [],
   "source": [
    "print('pi=',pi)\n",
    "print('sin(3 radians)=',sin(3))\n",
    "print('arcsin(0.5)=',arcsin(0.5),'radians')\n",
    "print('arcsin(0.5)=',arcsin(0.5)*180/pi,'degrees')\n",
    "print('tan(pi/4)=',tan(pi/4))"
   ]
  },
  {
   "cell_type": "markdown",
   "metadata": {},
   "source": [
    "Square root:"
   ]
  },
  {
   "cell_type": "code",
   "execution_count": null,
   "metadata": {
    "collapsed": false
   },
   "outputs": [],
   "source": [
    "print('sqrt(25)=',sqrt(25),'and also 25^0.5=',25**(0.5))"
   ]
  },
  {
   "cell_type": "markdown",
   "metadata": {},
   "source": [
    "<h4>\n",
    "Ex. 3\n",
    "</h4>\n",
    "Write a code that will preform the next tasks and run it. Unless otherwise stated, use units of meters, seconds and kilograms."
   ]
  },
  {
   "cell_type": "markdown",
   "metadata": {},
   "source": [
    "Find the solutions to the quadratic equation,\n",
    "$$ ax^2+bx+c=0 $$\n",
    "using the quadratic formula for the cases <br>\n",
    "a=1, b=5, c=4\n",
    "<br>\n",
    "and\n",
    "<br>\n",
    "a=2,b=7,c=3\n",
    "<br>\n",
    "You can do this by completing the code in the two cells below by replacing the question marks with appropriate code. You can use copy/paste to coppy the relevant lines between the two cells."
   ]
  },
  {
   "cell_type": "code",
   "execution_count": null,
   "metadata": {
    "collapsed": false
   },
   "outputs": [],
   "source": [
    "a=1\n",
    "b=5\n",
    "c=4\n",
    "x1=?\n",
    "x2=?\n",
    "print(x1,x2)"
   ]
  },
  {
   "cell_type": "code",
   "execution_count": null,
   "metadata": {
    "collapsed": true
   },
   "outputs": [],
   "source": [
    "a=2\n",
    "b=7\n",
    "c=3\n",
    "x1=?\n",
    "x2=?\n",
    "print(x1,x2)"
   ]
  },
  {
   "cell_type": "markdown",
   "metadata": {
    "collapsed": true
   },
   "source": [
    "Write code in the next cell that will calculate and print the points of intersection of the line\n",
    "$$ y=ax+b $$\n",
    "with the x and y axis."
   ]
  },
  {
   "cell_type": "code",
   "execution_count": null,
   "metadata": {
    "collapsed": true
   },
   "outputs": [],
   "source": []
  },
  {
   "cell_type": "markdown",
   "metadata": {},
   "source": [
    "Complete the code below by replacing the question marks with appropriate code so that it will calculate the time it will take a body moving with a constant acceleration 'a' along the x-axis to reach the position 'x', assuming it had an initial position 'x0' and velocity 'v0' at time 0."
   ]
  },
  {
   "cell_type": "code",
   "execution_count": null,
   "metadata": {
    "collapsed": false
   },
   "outputs": [],
   "source": [
    "x0=0\n",
    "v0=1\n",
    "a=3.2\n",
    "x=10\n",
    "\n",
    "t=?\n",
    "\n",
    "print(t)"
   ]
  },
  {
   "cell_type": "markdown",
   "metadata": {},
   "source": [
    "Calculate the period of earth's orbit around the sun again, only this time use the variable 'pi' which now contains the accurate value of 'pi' (to machine precision) and using the 'sqrt' function in the denomenator of the equation\n",
    "$$T=2\\pi\\frac{r^{3/2}}{\\sqrt{GM_{sun}}}$$\n",
    "Assuming you did not restart the document, you do not need to define 'G','AU' and 'Msun' again."
   ]
  },
  {
   "cell_type": "code",
   "execution_count": null,
   "metadata": {
    "collapsed": true
   },
   "outputs": [],
   "source": []
  },
  {
   "cell_type": "markdown",
   "metadata": {},
   "source": [
    "Save this document which you have been updating by clicking on the save button with the floppy disk cartoon in the toolbox or by using the keyboard shortcut ctrl+s."
   ]
  },
  {
   "cell_type": "markdown",
   "metadata": {},
   "source": [
    "<h3>\n",
    "Lesson summary:\n",
    "</h3>\n",
    "<ul>\n",
    "<li>\n",
    "jupyter notebook has three types of cells: text, code, and output.\n",
    "</li>\n",
    "<li>\n",
    "To execute a code in a cell, press shift+enter or ctrl+enter\n",
    "</li>\n",
    "<li>\n",
    "Python includes basic arithmetic operations inlucing addition, subtraction, multiplication and division using +,-,\\*,/ respectively. a to the power b is written a\\*\\*b.\n",
    "</li>\n",
    "<li>\n",
    "Numbers can be asigned to variables. Variable names can contain letters and numerals but cannot begin with numerals.\n",
    "</li>\n",
    "<li>\n",
    "In order to upload useful libraries for scientific computation use the %pylab command.\n",
    "</li>\n",
    "<li>\n",
    "%pylab need only be run once when working in a document.\n",
    "Similarly, if a variable has been assigned a number, it will be saved as long as the document is not stopped or a new value assigned to the variable.\n",
    "</li>\n",
    "<li>\n",
    "Results of calculations, values of variables, and text can be printed in the output using the 'print' command.\n",
    "Text needs to be bounded by quotation marks or apostrophes.\n",
    "</li>\n",
    "<li>\n",
    "Python does not know physics and is not aware of physical units. \n",
    "When preforming calculations with units, the user needs to keep track of the units in the calculation and the result.\n",
    "</li>\n",
    "</ul>\n",
    "</div>"
   ]
  },
  {
   "cell_type": "markdown",
   "metadata": {},
   "source": [
    "<h3>\n",
    "Common errors and their error messages:\n",
    "</h3>\n",
    "Each of the cells below contains an error. Run each one and look at the error messages that are created."
   ]
  },
  {
   "cell_type": "markdown",
   "metadata": {},
   "source": [
    "Devision by 0"
   ]
  },
  {
   "cell_type": "code",
   "execution_count": null,
   "metadata": {
    "collapsed": false,
    "scrolled": false
   },
   "outputs": [],
   "source": [
    "1/0"
   ]
  },
  {
   "cell_type": "markdown",
   "metadata": {},
   "source": [
    "Using 'sqrt' with a negative number (it is assumed tyat %pylab has been uploaded, otherwise you may get an error that 'sqrt' is not defined)"
   ]
  },
  {
   "cell_type": "code",
   "execution_count": null,
   "metadata": {
    "collapsed": false,
    "scrolled": true
   },
   "outputs": [],
   "source": [
    "sqrt(-1)"
   ]
  },
  {
   "cell_type": "markdown",
   "metadata": {},
   "source": [
    "Use of a variable that has not been defined yet."
   ]
  },
  {
   "cell_type": "code",
   "execution_count": null,
   "metadata": {
    "collapsed": false,
    "scrolled": false
   },
   "outputs": [],
   "source": [
    "x=z"
   ]
  },
  {
   "cell_type": "markdown",
   "metadata": {},
   "source": [
    "Use of variable names that are not allowed"
   ]
  },
  {
   "cell_type": "code",
   "execution_count": null,
   "metadata": {
    "collapsed": false,
    "scrolled": true
   },
   "outputs": [],
   "source": [
    "0x=5"
   ]
  },
  {
   "cell_type": "markdown",
   "metadata": {},
   "source": [
    "Note that each error message, the line number within the cell which contains the error is provided and the line itself is shown. In addition, if possible the symbol '^' points to the location within the line where the error happened. "
   ]
  },
  {
   "cell_type": "markdown",
   "metadata": {},
   "source": [
    "<h4>\n",
    "Congragulations! You finished the first lesson!\n",
    "</h4>"
   ]
  }
 ],
 "metadata": {
  "kernelspec": {
   "display_name": "Python 3",
   "language": "python",
   "name": "python3"
  },
  "language_info": {
   "codemirror_mode": {
    "name": "ipython",
    "version": 3
   },
   "file_extension": ".py",
   "mimetype": "text/x-python",
   "name": "python",
   "nbconvert_exporter": "python",
   "pygments_lexer": "ipython3",
   "version": "3.5.1"
  }
 },
 "nbformat": 4,
 "nbformat_minor": 0
}
