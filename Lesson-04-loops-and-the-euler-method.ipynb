{
 "cells": [
  {
   "cell_type": "markdown",
   "metadata": {
    "slideshow": {
     "slide_type": "slide"
    }
   },
   "source": [
    "<div style=\"direction:rtl\">\n",
    "<H1>\n",
    "השתלמות בחישובים נומריים למורי פיסיקה חקר\n",
    "</H1>\n",
    "<H3>\n",
    "יחידה 4, לולאות וקידום בזמן בצעדים קטנים\n",
    "</H3>\n",
    "לשם תחילת העבודה, הריצו את התא הבא שמייבא את ספריית הפקודות pylab \n",
    "</div>"
   ]
  },
  {
   "cell_type": "code",
   "execution_count": 23,
   "metadata": {
    "collapsed": false,
    "scrolled": true
   },
   "outputs": [
    {
     "name": "stdout",
     "output_type": "stream",
     "text": [
      "Populating the interactive namespace from numpy and matplotlib\n"
     ]
    }
   ],
   "source": [
    "%pylab inline"
   ]
  },
  {
   "cell_type": "markdown",
   "metadata": {},
   "source": [
    "<div style=\"direction:rtl\">\n",
    "<H2>\n",
    "לולאות\n",
    "</H2>\n",
    "\n",
    "לפעמים בביצוע חישוב, אנו מעוניינים לחזור על קטע קוד מסוים מספר פעמים.\n",
    "הדרך לעשות זאת בשפת פייתון היא באמצעות לולאות\n",
    "(loops).\n",
    "<br>\n",
    "הקוד שבתא הבא, גורם להדפסה של כל המספרים מ-1 עד 9. הריצו אותו, צפו בפלט ולאחר מכן קראו את ההסבר לדרך שבה הוא עובד.\n",
    "\n",
    "</div>"
   ]
  },
  {
   "cell_type": "code",
   "execution_count": null,
   "metadata": {
    "collapsed": false
   },
   "outputs": [],
   "source": [
    "x=arange(1,10,1)\n",
    "for i in x:\n",
    "    print(i)"
   ]
  },
  {
   "cell_type": "markdown",
   "metadata": {},
   "source": [
    "<div style=\"direction:rtl\">\n",
    "בקוד שהרצנו שלוש שורות.\n",
    "השורה הראשונה יוצרת משתנה (שם המשתנה נבחר שרירותית כ-x) שמכיל את סדרת המספרים שאנו רוצים להדפיס. \n",
    "שתי השורות הבאות ביחד מבצעות \"לולאה\" בה המחשב חוזר שוב ושוב על פעולה דומה שמבוצעת על כל אחד מהערכים שב x.\n",
    "אם המחשב היה מבין אנגלית היינו יכולים לאמר לו:\n",
    "<br>\n",
    "For each element in x, take the element and print it.\n",
    "<br>\n",
    "כמובן שהמחשב לא מבין אנגלית וצריך פקודות סדורות.\n",
    "לכן, במקום: \n",
    "<br>\n",
    "For each element in x\n",
    "<br>\n",
    "אנו רושמים:\n",
    "<br>\n",
    ":for i in x\n",
    "<br>\n",
    "זו הדרך לאמר למחשב: \"תעבור על כל אחד מהערכים בx, הצב אותו למשתנה בשם i, ותבצע את הפקודות הבאות\".\n",
    "כעת עלינו להורות למחשב מה לעשות בכל פעם. זאת אנו עושים עם פקודות נוספות.\n",
    "בכדי שהמחשב יקשר בין הפקודות הנוספות ללולאה ולא יחשוב שאלו סתם פקודות חדשות, השורה הבאה, print(i), מוזזת ימינה. \n",
    "<br>\n",
    "הדוגמאות הבאות יעזרו להבין את המבנה של הקוד. בכל אחת מהן נסו לנחש מה יקרה (כולל אפשרות של הודעת שגיאה), הריצו את הקוד וראו אם צדקתם.\n",
    "</div>\n"
   ]
  },
  {
   "cell_type": "code",
   "execution_count": null,
   "metadata": {
    "collapsed": false,
    "scrolled": true
   },
   "outputs": [],
   "source": [
    "x=arange(1,10,1)\n",
    "for i in x:\n",
    "    print(i)"
   ]
  },
  {
   "cell_type": "code",
   "execution_count": null,
   "metadata": {
    "collapsed": false
   },
   "outputs": [],
   "source": [
    "x=arange(1,10,1)\n",
    "for i in x:\n",
    "    print(i)\n",
    "    print(i)"
   ]
  },
  {
   "cell_type": "code",
   "execution_count": null,
   "metadata": {
    "collapsed": false
   },
   "outputs": [],
   "source": [
    "x=arange(1,10,1)\n",
    "for i in x:\n",
    "    print(i)\n",
    "    print(\"i\")\n",
    "    "
   ]
  },
  {
   "cell_type": "code",
   "execution_count": null,
   "metadata": {
    "collapsed": false
   },
   "outputs": [],
   "source": [
    "x=arange(1,10,1)\n",
    "for i in x:\n",
    "    print(i)\n",
    "print(\"i\")"
   ]
  },
  {
   "cell_type": "code",
   "execution_count": null,
   "metadata": {
    "collapsed": false
   },
   "outputs": [],
   "source": [
    "x=arange(1,10,1)\n",
    "for i in x:\n",
    "print(i)\n",
    "print(\"i\")"
   ]
  },
  {
   "cell_type": "code",
   "execution_count": null,
   "metadata": {
    "collapsed": false
   },
   "outputs": [],
   "source": [
    "yosef=arange(1,10,1)\n",
    "for shimon in yosef:\n",
    "    print(shimon)\n"
   ]
  },
  {
   "cell_type": "code",
   "execution_count": null,
   "metadata": {
    "collapsed": false
   },
   "outputs": [],
   "source": [
    "x=arange(1,10,1)\n",
    "for i in x:\n",
    "    print(x)"
   ]
  },
  {
   "cell_type": "code",
   "execution_count": null,
   "metadata": {
    "collapsed": false
   },
   "outputs": [],
   "source": [
    "x=arange(-1,5,0.5)\n",
    "for i in x:\n",
    "    print(i)"
   ]
  },
  {
   "cell_type": "code",
   "execution_count": null,
   "metadata": {
    "collapsed": false
   },
   "outputs": [],
   "source": [
    "x=arange(1,10,1)\n",
    "for i in x:\n",
    "    isquare=i**2\n",
    "    print(i,isquare)"
   ]
  },
  {
   "cell_type": "code",
   "execution_count": null,
   "metadata": {
    "collapsed": false
   },
   "outputs": [],
   "source": [
    "x=arange(1,10,1)\n",
    "for i in x:\n",
    "    print(i,i**2)"
   ]
  },
  {
   "cell_type": "code",
   "execution_count": null,
   "metadata": {
    "collapsed": false
   },
   "outputs": [],
   "source": [
    "x=arange(1,10,1)\n",
    "sumsofar=0\n",
    "for i in x:\n",
    "    sumsofar=sumsofar+i\n",
    "    print(i,sumsofar)"
   ]
  },
  {
   "cell_type": "code",
   "execution_count": null,
   "metadata": {
    "collapsed": false
   },
   "outputs": [],
   "source": [
    "x=arange(1,10,1)\n",
    "multsofar=1\n",
    "for i in x:\n",
    "    multsofar=multsofar*i\n",
    "    print(i,multsofar)\n",
    "print(\"9!=\",multsofar)"
   ]
  },
  {
   "cell_type": "code",
   "execution_count": null,
   "metadata": {
    "collapsed": false
   },
   "outputs": [],
   "source": [
    "n=12\n",
    "x=arange(1,n+1,1)\n",
    "multsofar=1\n",
    "for i in x:\n",
    "    multsofar=multsofar*i\n",
    "print(\"n=\",n)\n",
    "print(\"n!=\",multsofar)"
   ]
  },
  {
   "cell_type": "markdown",
   "metadata": {
    "slideshow": {
     "slide_type": "slide"
    }
   },
   "source": [
    "<div style=\"direction:rtl\">\n",
    "<h4>\n",
    "משימה 1: כתבו קוד שיבצע את הפעולות הבאות\n",
    "</h4>\n",
    "\n",
    "</div>"
   ]
  },
  {
   "cell_type": "markdown",
   "metadata": {},
   "source": [
    "<div style=\"direction:rtl\">\n",
    "הדפס את כל המספרים מ1 עד 15\n",
    "</div>"
   ]
  },
  {
   "cell_type": "code",
   "execution_count": null,
   "metadata": {
    "collapsed": true
   },
   "outputs": [],
   "source": []
  },
  {
   "cell_type": "markdown",
   "metadata": {},
   "source": [
    "<div style=\"direction:rtl\">\n",
    "הדפס את השם שלך באנגלית 12 פעמים\n",
    "</div>"
   ]
  },
  {
   "cell_type": "code",
   "execution_count": null,
   "metadata": {
    "collapsed": true
   },
   "outputs": [],
   "source": []
  },
  {
   "cell_type": "markdown",
   "metadata": {},
   "source": [
    "<div style=\"direction:rtl\">\n",
    "חשב את החזקות השלישיות של המספרים 5 עד 10 והדפס כל אחת מהתוצאות\n",
    "</div>"
   ]
  },
  {
   "cell_type": "code",
   "execution_count": null,
   "metadata": {
    "collapsed": true
   },
   "outputs": [],
   "source": []
  },
  {
   "cell_type": "markdown",
   "metadata": {},
   "source": [
    "<div style=\"direction:rtl\">\n",
    "חשב את סכום החזקות השלישיות של המספרים 5 עד 10 והדפס את התוצאה הסופית\n",
    "</div>"
   ]
  },
  {
   "cell_type": "code",
   "execution_count": null,
   "metadata": {
    "collapsed": true
   },
   "outputs": [],
   "source": []
  },
  {
   "cell_type": "markdown",
   "metadata": {},
   "source": [
    "<div style=\"direction:rtl\">\n",
    "<h2>\n",
    "שימוש בלולאות לסימולציה פיסיקלית בצעדי זמן קטנים\n",
    "</h2>\n",
    "\n",
    "אחד השימושים הבולטים בלולאות בהקשר פיסיקלי הוא לביצוע מעקב אחרי ההתפתחות בזמן של מערכת נתונה.\n",
    "בשיטה זו, מוצבים ערכי התחלה למשתני הבעייה ואז מבוצעת לולאה המעדכנת את המשתנים בהתאם לכלל נתון.\n",
    "\n",
    "<h3>\n",
    "תנועה במימד אחד בתאוצה קבועה\n",
    "</h3>\n",
    "\n",
    "בדוגמה הבאה מחושב מיקומו של גוף המתחיל ממנוחה ונע בתאוצה קבועה במהלך 10 שניות.  \n",
    "הריצו את הקוד ולאחר מכן קראו את ההסבר למבנהו.\n",
    "</div>\n",
    "\n"
   ]
  },
  {
   "cell_type": "code",
   "execution_count": null,
   "metadata": {
    "collapsed": false
   },
   "outputs": [],
   "source": [
    "a=10\n",
    "v=0\n",
    "x=0\n",
    "\n",
    "dt=0.1\n",
    "times=arange(0,10,dt)\n",
    "\n",
    "for t in times:\n",
    "    x=x+v*dt\n",
    "    v=v+a*dt\n",
    "\n",
    "print(x)\n",
    "print(v)"
   ]
  },
  {
   "cell_type": "markdown",
   "metadata": {
    "collapsed": true
   },
   "source": [
    "<div style=\"direction:rtl\">\n",
    "כפי שניתן לראות בקוד, ראשית מוזנים ערכים לתאוצה, למהירות ולמיקום בהתחלה.\n",
    "<br>\n",
    "$$ a=10 $$\n",
    "$$ v=0 $$\n",
    "$$ x=0 $$\n",
    "\n",
    "שימו לב שאין יחידות. המחשב אינו יודע שהמשתנים מייצגים גדלים פיזיקליים. עבורו אלו הם מספרים ופעולות מתמטיות. האחריות לזכור על אילו יחידות מדובר היא עלינו. \n",
    "בשתי השורות הבאות, מוגדר משתנה times שמכיל ערכי זמן בקפיצות קטנות.\n",
    "גודל הקפיצות הקטנות שמור במשתנה dt.\n",
    "בשלב זה מבוצעת הלולאה שעוברת על כל אחד מהזמנים ב times.\n",
    "בכל זמן מבוצעות שתי פעולות:\n",
    "<br>\n",
    "עדכון המיקום לזמן החדש\n",
    "\n",
    "$$ x=x+v*dt $$\n",
    "ועדכון המהירות לזמן החדש\n",
    "$$ v=v+a*dt $$\n",
    "\n",
    "תהליך העדכון של המשתנים x ו-v מחליף (דורס) את הערך שלהם מצעד הזמן הקודם בערך המחושב עבור צעד הזמן הנוכחי.\n",
    "שימו לב שהמשוואה הראשונה אינה נכונה באופן מדויק עבור תנועה בתאוצה קבועה, למרות זאת היא נכונה בקירוב טוב אם dt קטן מאוד. \n",
    "עוד שימו לב לכך שאין שימוש במשתנה הלולאה, t במהלכה. \n",
    "זאת מכיוון שההתפתחות בזמן אינה תלוי בזמן הספציפי אלא רק בערכי המיקום, המהירות והתאוצה, ובגודל צעד הזמן (הקבוע) dt.\n",
    "<br>\n",
    "היות ובדוגמא זו התאוצה נותרת קבועה, ניתן היה גם להשתמש בנוסחאות של תנועה בתאוצה קבועה, אך שיטת החישוב בה השתמשנו כאן תתאים גם למקרים של תאוצה שאינה קבועה.\n",
    "\n",
    "<br>\n",
    "בסיום קטע הקוד אנו מדפיסים את המיקום הסופי והמהירות הסופית של הגוף.\n",
    "<h4>\n",
    "משימה 2\n",
    "</h4>\n",
    "שנו את קפיצות הזמן לערכים dt=0.1, 0.5, 1\n",
    "וראו כיצד התוצאה משתנה.\n",
    "\n",
    "\n",
    "השוו בין תוצאות אלו לחישוב רגיל ע\"י שימוש בנוסחת תנועה בתאוצה קבועה. \n",
    "ע\"י ניסוי ותהייה מצאו מהו בקירוב צעד הזמן המקסימלי שעבורו ההפרש בין שתי שיטות החישוב קטן מ-0.01.\n",
    "\n",
    "</div>\n",
    "\n"
   ]
  },
  {
   "cell_type": "code",
   "execution_count": null,
   "metadata": {
    "collapsed": true
   },
   "outputs": [],
   "source": []
  },
  {
   "cell_type": "markdown",
   "metadata": {},
   "source": [
    "<div style=\"direction:rtl\">\n",
    "<h3>\n",
    "שמירת תוצרי הביניים של החישוב למעקב אחר התפתחות המערכת בזמן\n",
    "</h3>\n",
    "בדוגמא הקודמת ביצענו את הלולאה אך לא שמרנו את הערכים לאורך צעדי הזמן השונים.\n",
    "כך אמנם חישבנו את המיקום והמהירות של הגוף בתום קטע הזמן, אך לא את תוצאות חישובי הביניים.\n",
    "<br>\n",
    "בקטע הקוד הבא אנו מבצעים את אותו החישוב בדיוק, אך שומרים את תוצאות החישוב בכל צעד זמן לסדרות העוקבות אחר המיקום והמהירות.\n",
    "לצורך כך אנו מאתחלים, בנוסף לסדרת הזמן, שתי סדרות באורך זהה למעקב אחר המיקום והמהירות.\n",
    "<br>\n",
    "קראו את קטע הקוד הבא, הריצו אותו, ולאחר מכן קראו את ההסבר.\n",
    "</div>\n"
   ]
  },
  {
   "cell_type": "code",
   "execution_count": 24,
   "metadata": {
    "collapsed": false
   },
   "outputs": [
    {
     "data": {
      "text/plain": [
       "[<matplotlib.lines.Line2D at 0x7fc0bab91080>]"
      ]
     },
     "execution_count": 24,
     "metadata": {},
     "output_type": "execute_result"
    },
    {
     "data": {
      "image/png": "[encoded data removed]",
      "text/plain": [
       "<matplotlib.figure.Figure at 0x7fc0baf16588>"
      ]
     },
     "metadata": {},
     "output_type": "display_data"
    }
   ],
   "source": [
    "a=10\n",
    "x=0\n",
    "v=0\n",
    "\n",
    "dt=0.1\n",
    "times=arange(0,10,dt)\n",
    "\n",
    "n=len(times)\n",
    "xs=zeros(n)\n",
    "vs=zeros(n)\n",
    "\n",
    "for (i,t) in enumerate(times):\n",
    "    x=x+v*dt\n",
    "    v=v+a*dt\n",
    "    xs[i]=x\n",
    "    vs[i]=v\n",
    "    \n",
    "plot(times,xs,'.')   \n"
   ]
  },
  {
   "cell_type": "markdown",
   "metadata": {
    "collapsed": true
   },
   "source": [
    "<div style=\"direction:rtl\">\n",
    "קטע הקוד נפתח בדיוק כמו קטע הקוד הקודם, באתחול המשתנים x, v ו-a.\n",
    "<br>\n",
    "לאחר מכן אנו שוב יוצרים סדרת זמן,  times, בעלת צעדי זמן בגודל dt.\n",
    "<br>\n",
    "כעת ברצוננו ליצור שתי סדרות חדשות, אחת עבור מיקומי הגוף בכל צעד זמן, והשנייה עבור מהירויות הגוף בכל צעד זמן.\n",
    "לשם כך עלינו ראשית לדעת כמה צעדי זמן יש.\n",
    "הפונקציה ()len מקבלת סדרה ומחזירה את מספר האיברים שבה.\n",
    "אנו שומרים מספר זה במשתנה n.\n",
    "<br>\n",
    "על מנת ליצור סדרות באורך זה, אנו עושים שימוש בפונקציה ()zeros אשר מקבלת מספר ומחזירה סדרה בעלת מספר זה של איברים, אשר ערכם 0.\n",
    "קיימת פונקציה דומה בשם ()ones ליצירת סדרה באורך נתון שערך כל אבריה 1.\n",
    "<br>\n",
    "לאחר יצירת הסדרות xs ו-vs, אנו מעוניינים לבצע את הלולאה, אך אנו נתקלים בבעייה:\n",
    "כיצד נדע לאיזה מקום בסדרות xs ו-vs להציב ערך בכל מעבר על הלולאה?\n",
    "על המקום להיות מספר שלם, אך הסדרה times מכילה ערכי זמן שאינם שלמים.\n",
    "<br>\n",
    "על מנת להתגבר על קושי זה אנו משתמשים בפונקציה ()enumerate.\n",
    "פונקציה זו מקבלת סדרה ומחזירה סדרה חדשה שכל איבר שלה הוא צמד ערכים.\n",
    "הערך הראשון הוא המיקום בסדרה, והערך השני הוא הערך של האיבר בסדרה.\n",
    "לולאת ה-for מציבה את הצמדים למשתנים i ו-t, כך שבכל מעבר על הלולאה i מכיל את המיקום ב-times אליו מתייחסת הלולאה כעת ואילו t מכיל את הערך של times במיקום זה.\n",
    "<br>\n",
    "הקוד לביצוע בלולאה הוא כעת פשוט.\n",
    "אנו מעדכנים את ערכי המיקום והמהירות של הגוף, כפי שעשינו בדוגמא הקודמת, ושומרים את הערכים החדשים שחושבו למקומות המתאימים בסדרות xs ו-vs.\n",
    "<br>\n",
    "לסיום אנו מציירים גרף של מיקום הגוף שחושב כנגד הזמן.\n",
    "\n",
    "<h3>\n",
    "תנועת גוף במימד אחד בתאוצה משתנה\n",
    "</h3>\n",
    "ראינו בחלק הקודם כיצד לדמות תנועת גוף כאשר התאוצה קבועה.\n",
    "ניתן להשתמש באותה השיטה לדמות תנועת גוף גם כאשר התאוצה אינה קבועה אלא תלויה במשתנים האחרים במערכת (הזמן, המיקום, או המהירות, למשל).\n",
    "<h4>\n",
    "משימה 3 סימולציה של תנועת גוף המחובר לקפיץ\n",
    "</h4>\n",
    "השלימו את תוכן הלולאה בקטע הקוד הבא לתיאור תנועת גוף המחובר לקפיץ.\n",
    "להזכירכם, הכוח שקפיץ מפעיל על גוף בתנועה במימד אחד הוא:\n",
    "$$ f=-kx $$\n",
    "ולכן תאוצת הגוף הנובעת מכוח זה היא:\n",
    "$$ a=\\frac{f}{m}=\\frac{-kx}{m}$$\n",
    "האם הגרף שמתקבל דומה לציפיותיכם?\n",
    "שנו את ערכי dt וראו כיצד הגרף משתנה.\n",
    "</div>\n"
   ]
  },
  {
   "cell_type": "code",
   "execution_count": 22,
   "metadata": {
    "collapsed": false
   },
   "outputs": [
    {
     "data": {
      "text/plain": [
       "[<matplotlib.lines.Line2D at 0x7fc0bad7a358>]"
      ]
     },
     "execution_count": 22,
     "metadata": {},
     "output_type": "execute_result"
    }
   ],
   "source": [
    "a=0\n",
    "x=1\n",
    "v=0\n",
    "m=1\n",
    "k=1\n",
    "\n",
    "dt=0.1\n",
    "times=arange(0,10,dt)\n",
    "\n",
    "n=len(times)\n",
    "xs=zeros(n)\n",
    "vs=zeros(n)\n",
    "\n",
    "for (i,t) in enumerate(times):\n",
    "    x=?\n",
    "    v=?\n",
    "    a=?\n",
    "    xs[i]=x\n",
    "    vs[i]=v\n",
    "    \n",
    "plot(times,xs,'.')   \n"
   ]
  },
  {
   "cell_type": "markdown",
   "metadata": {},
   "source": [
    "<div style=\"direction:rtl\">\n",
    "<h3>\n",
    "מעקב אחר האנרגיה במערכת הקפיץ\n",
    "</h3>\n",
    "לאחר שבנינו סימולציה לתנועת גוף המחובר לקפיץ, אנו יכולים להשתמש בה על מנת לחקור תכונות נוספות של המערכת.\n",
    "עדכנו את קטע הקוד כך שבכל צעד זמן יחושבו האנרגיה הקינטית של הגוף, האנרגיה האלסטית האגורה בקפיץ, וסכום אנרגיות אלו.\n",
    "שרטטו גרפים של שלוש אנרגיות אלו.\n",
    "האם האנרגיה הכוללת נשמרת במערכת?\n",
    "שנו את ערכי dt וראו כיצד הדבר משפיע על חישובי האנרגיה.\n",
    "</div>"
   ]
  },
  {
   "cell_type": "code",
   "execution_count": null,
   "metadata": {
    "collapsed": true
   },
   "outputs": [],
   "source": []
  }
 ],
 "metadata": {
  "kernelspec": {
   "display_name": "Python 3",
   "language": "python",
   "name": "python3"
  },
  "language_info": {
   "codemirror_mode": {
    "name": "ipython",
    "version": 3
   },
   "file_extension": ".py",
   "mimetype": "text/x-python",
   "name": "python",
   "nbconvert_exporter": "python",
   "pygments_lexer": "ipython3",
   "version": "3.5.1"
  }
 },
 "nbformat": 4,
 "nbformat_minor": 0
}
