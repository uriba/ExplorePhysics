{
 "cells": [
  {
   "cell_type": "markdown",
   "metadata": {
    "slideshow": {
     "slide_type": "slide"
    }
   },
   "source": [
    "<div style=\"direction:rtl\">\n",
    "<H1>\n",
    "השתלמות בחישובים נומריים למורי פיסיקה חקר\n",
    "</H1>\n",
    "<H3>\n",
    "יחידה 4, לולאות ושיטת אוילר\n",
    "</H3>\n",
    "\n",
    "<H2>\n",
    "לולאות\n",
    "</H2>\n",
    "\n",
    "לפעמים בביצוע חישוב, אנו מעוניינים לחזור על קטע קוד מסוים מספר פעמים.\n",
    "הדרך לעשות זאת בשפת פייתון היא באמצעות לולאות\n",
    "(loops).\n",
    "<br>\n",
    "הלולאה הבסיסית ביותר בפייתון היא לולאת for.\n",
    "לולאה זו מקבלת שם של משתנה ורשימת ערכים (בקטע הקוד הבא שם המשתנה הוא i, ורשימת הערכים היא x)\n",
    "הלולאה מציבה למשתנה את ערכי הרשימה, אחד בכל פעם, ואז מריצה קטע קוד.\n",
    "בשפת פייתון קטע הקוד אותו מבצעת הלולאה מסומן על ידי כינון (אינדנטציה) של הקטע,\n",
    "כפי שנראה בתא הקוד הבא.\n",
    "<br>\n",
    "כל שורות הקוד המכוננות (מוזזות) ימינה נכללות בקטע הקוד שיבוצע בכל מעבר של הלולאה.\n",
    "על כל שורות הקוד שנכללות בלולאה להיות מכוננות במספר זהה של רווחים או טאבים.\n",
    "השורה הראשונה אחרי שורת ה-for שאינה מכוננת, מציינת את סיום הלולאה ותהיה השורה הראשונה שתבוצע כשהרצת הלולאה תסתיים.\n",
    "<br>\n",
    "בקטע הקוד הבא הלולאה מכילה שתי שורות קוד אשר מדפיסות הודעה למשתמש ואת הערך של משתנה הלולאה.\n",
    "הריצו את הקוד וצפו בפלט המתקבל.\n",
    "</div>\n"
   ]
  },
  {
   "cell_type": "code",
   "execution_count": null,
   "metadata": {
    "collapsed": false,
    "scrolled": false,
    "slideshow": {
     "slide_type": "slide"
    }
   },
   "outputs": [],
   "source": [
    "%pylab\n",
    "x=arange(0,10,0.5)\n",
    "for i in x:\n",
    "    print(\"I am in the loop\")\n",
    "    print(i)\n",
    "print(\"The loop is done\")"
   ]
  },
  {
   "cell_type": "markdown",
   "metadata": {
    "slideshow": {
     "slide_type": "slide"
    }
   },
   "source": [
    "<div style=\"direction:rtl\">\n",
    "<h4>\n",
    "משימה 1\n",
    "</h4>\n",
    "בקטע הקוד הבא אנו משתמשים בלולאה על מנת לחשב את את הביטוי 10! (10 עצרת).\n",
    "<br>\n",
    "עדכנו את קטע הקוד כך שבמקום הביטוי 10! הוא יחשב את ערך האיבר העשירי בסדרת פיבונצ'י (סידרה אשר כל איבר בה מורכב מסכום שני האיברים שקדמו לו בסדרה).\n",
    "הניחו כי ערך שני האיברים הראשונים בסדרה הוא 1.\n",
    "</div>"
   ]
  },
  {
   "cell_type": "code",
   "execution_count": 2,
   "metadata": {
    "collapsed": false,
    "slideshow": {
     "slide_type": "slide"
    }
   },
   "outputs": [
    {
     "name": "stdout",
     "output_type": "stream",
     "text": [
      "Using matplotlib backend: Qt4Agg\n",
      "Populating the interactive namespace from numpy and matplotlib\n",
      "362880\n"
     ]
    }
   ],
   "source": [
    "%pylab\n",
    "n=10\n",
    "x=arange(1,n,1)\n",
    "result=1\n",
    "for i in x:\n",
    "    result=result*i\n",
    "print(result)"
   ]
  },
  {
   "cell_type": "markdown",
   "metadata": {},
   "source": []
  },
  {
   "cell_type": "markdown",
   "metadata": {},
   "source": []
  },
  {
   "cell_type": "code",
   "execution_count": null,
   "metadata": {
    "collapsed": true
   },
   "outputs": [],
   "source": []
  }
 ],
 "metadata": {
  "kernelspec": {
   "display_name": "Python 3",
   "language": "python",
   "name": "python3"
  },
  "language_info": {
   "codemirror_mode": {
    "name": "ipython",
    "version": 3
   },
   "file_extension": ".py",
   "mimetype": "text/x-python",
   "name": "python",
   "nbconvert_exporter": "python",
   "pygments_lexer": "ipython3",
   "version": "3.5.1"
  }
 },
 "nbformat": 4,
 "nbformat_minor": 0
}
