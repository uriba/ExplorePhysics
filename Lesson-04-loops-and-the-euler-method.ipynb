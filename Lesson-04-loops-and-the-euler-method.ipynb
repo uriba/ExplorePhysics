{
 "cells": [
  {
   "cell_type": "markdown",
   "metadata": {
    "slideshow": {
     "slide_type": "slide"
    }
   },
   "source": [
    "<div style=\"direction:rtl\">\n",
    "<H1>\n",
    "השתלמות בחישובים נומריים למורי פיסיקה חקר\n",
    "</H1>\n",
    "<H3>\n",
    "יחידה 4, לולאות וקידום בזמן בצעדים קטנים\n",
    "</H3>\n",
    "לשם תחילת העבודה, הריצו את התא הבא שמייבא את ספריית הפקודות pylab \n",
    "</div>"
   ]
  },
  {
   "cell_type": "code",
   "execution_count": null,
   "metadata": {
    "collapsed": false
   },
   "outputs": [],
   "source": [
    "%pylab "
   ]
  },
  {
   "cell_type": "markdown",
   "metadata": {},
   "source": [
    "<div style=\"direction:rtl\">\n",
    "<H2>\n",
    "לולאות\n",
    "</H2>\n",
    "\n",
    "לפעמים בביצוע חישוב, אנו מעוניינים לחזור על קטע קוד מסוים מספר פעמים.\n",
    "הדרך לעשות זאת בשפת פייתון היא באמצעות לולאות\n",
    "(loops).\n",
    "<br>\n",
    "הקוד שבתא הבא, גורם להדפסה של כל המספרים מ-1 עד 9. הריצו אותו, צפו בפלט ולאחר מכן קראו את ההסבר לדרך שבה הוא עובד.\n",
    "\n",
    "</div>"
   ]
  },
  {
   "cell_type": "code",
   "execution_count": null,
   "metadata": {
    "collapsed": false
   },
   "outputs": [],
   "source": [
    "x=arange(1,10,1)\n",
    "for i in x:\n",
    "    print(i)"
   ]
  },
  {
   "cell_type": "markdown",
   "metadata": {},
   "source": [
    "<div style=\"direction:rtl\">\n",
    "כפי שאתם רואים בקוד שהרצנו שלוש שורות.\n",
    "השורה הראשונה, יוצרת משתנה (כאן נבחר שרירותית כ x) שמכיל את כל המספרים שאנו רוצים להדפיס. \n",
    "שתי השורות הבאות ביחד מבצעות \"לולאה\" בה המחשב חוזר שוב ושוב על פעולה דומה שמבוצעת על כל אחד מהערכים שב x.\n",
    "אם המחשב היה מבין אנגלית היינו יכולים לאמר לו:\n",
    "<br>\n",
    "For each element in x, take the element and print it.\n",
    "<br>\n",
    "כמובן שהמחשב לא מבין אנגלית וצריך פקודות סדורות.\n",
    "במקום \n",
    "<br>\n",
    "For each element in x\n",
    "<br>\n",
    "רשום,\n",
    "<br>\n",
    "for i in x:\n",
    "<br>\n",
    "זו הדרך לאמר למחשב, תעבור על כל אחד מהערכים בx ותעשה איתו את הדברים הבאים:\n",
    "כעת עלינו לאמר למחשב מה לעשות עם כל ערך. זו אנו עושים עם פקודות נוספות. בכדי שהמחשב יקשר בין הפקודות הנוספות ללולאה ולא יחשוב שאלו סתם פקודות חדשות, השורה השניה מוזזת קצת.\n",
    "על כן השורה השניה היא \n",
    "<br>\n",
    "    print(i)\n",
    "<br>\n",
    "הדוגמאות הבאות יעזרו להבין את המבנה של הקוד. בכל אחת מהם נסו לנחש מה יקרה (כולל אפשרות של הודעת שגיאה) ואז הריצו וראו אם צדקתם.\n",
    "</div>\n"
   ]
  },
  {
   "cell_type": "code",
   "execution_count": null,
   "metadata": {
    "collapsed": true
   },
   "outputs": [],
   "source": [
    "x=arange(1,10,1)\n",
    "for i in x:\n",
    "    print(i)"
   ]
  },
  {
   "cell_type": "code",
   "execution_count": null,
   "metadata": {
    "collapsed": true
   },
   "outputs": [],
   "source": [
    "x=arange(1,10,1)\n",
    "for i in x:\n",
    "    print(i)\n",
    "    print(i)"
   ]
  },
  {
   "cell_type": "code",
   "execution_count": null,
   "metadata": {
    "collapsed": false
   },
   "outputs": [],
   "source": [
    "x=arange(1,10,1)\n",
    "for i in x:\n",
    "    print(i)\n",
    "    print(\"i\")\n",
    "    "
   ]
  },
  {
   "cell_type": "code",
   "execution_count": null,
   "metadata": {
    "collapsed": false
   },
   "outputs": [],
   "source": [
    "x=arange(1,10,1)\n",
    "for i in x:\n",
    "    print(i)\n",
    "print(\"i\")"
   ]
  },
  {
   "cell_type": "code",
   "execution_count": null,
   "metadata": {
    "collapsed": true
   },
   "outputs": [],
   "source": [
    "x=arange(1,10,1)\n",
    "for i in x:\n",
    "print(i)\n",
    "print(\"i\")"
   ]
  },
  {
   "cell_type": "code",
   "execution_count": null,
   "metadata": {
    "collapsed": true
   },
   "outputs": [],
   "source": [
    "yosef=arange(1,10,1)\n",
    "for shimon in yosef:\n",
    "    print(shimon)\n"
   ]
  },
  {
   "cell_type": "code",
   "execution_count": null,
   "metadata": {
    "collapsed": false
   },
   "outputs": [],
   "source": [
    "x=arange(1,10,1)\n",
    "for i in x:\n",
    "    print(x)"
   ]
  },
  {
   "cell_type": "code",
   "execution_count": null,
   "metadata": {
    "collapsed": false
   },
   "outputs": [],
   "source": [
    "x=arange(-1,5,0.5)\n",
    "for i in x:\n",
    "    print(i)"
   ]
  },
  {
   "cell_type": "code",
   "execution_count": null,
   "metadata": {
    "collapsed": false
   },
   "outputs": [],
   "source": [
    "x=arange(1,10,1)\n",
    "for i in x:\n",
    "    isquare=i**2\n",
    "    print(i,isquare)"
   ]
  },
  {
   "cell_type": "code",
   "execution_count": null,
   "metadata": {
    "collapsed": true
   },
   "outputs": [],
   "source": [
    "x=arange(1,10,1)\n",
    "for i in x:\n",
    "    print(i,i**2)"
   ]
  },
  {
   "cell_type": "code",
   "execution_count": null,
   "metadata": {
    "collapsed": false
   },
   "outputs": [],
   "source": [
    "x=arange(1,10,1)\n",
    "sumsofar=0\n",
    "for i in x:\n",
    "    sumsofar=sumsofar+i\n",
    "    print(i,sumsofar)"
   ]
  },
  {
   "cell_type": "code",
   "execution_count": null,
   "metadata": {
    "collapsed": false
   },
   "outputs": [],
   "source": [
    "x=arange(1,10,1)\n",
    "multsofar=1\n",
    "for i in x:\n",
    "    multsofar=multsofar*i\n",
    "    print(i,multsofar)\n",
    "print(\"9!=\",multsofar)"
   ]
  },
  {
   "cell_type": "code",
   "execution_count": 26,
   "metadata": {
    "collapsed": false
   },
   "outputs": [
    {
     "name": "stdout",
     "output_type": "stream",
     "text": [
      "n= 12\n",
      "n!= 479001600\n"
     ]
    }
   ],
   "source": [
    "n=12\n",
    "x=arange(1,n+1,1)\n",
    "multsofar=1\n",
    "for i in x:\n",
    "    multsofar=multsofar*i\n",
    "print(\"n=\",n)\n",
    "print(\"n!=\",multsofar)"
   ]
  },
  {
   "cell_type": "markdown",
   "metadata": {
    "slideshow": {
     "slide_type": "slide"
    }
   },
   "source": [
    "<div style=\"direction:rtl\">\n",
    "<h4>\n",
    "משימה 1: כתבו קוד שיבצע את הפעולות הבאות\n",
    "</h4>\n",
    "\n",
    "</div>"
   ]
  },
  {
   "cell_type": "markdown",
   "metadata": {},
   "source": [
    "<div style=\"direction:rtl\">\n",
    "הדפס את כל המספרים מ1 עד 15\n",
    "</div>"
   ]
  },
  {
   "cell_type": "code",
   "execution_count": null,
   "metadata": {
    "collapsed": true
   },
   "outputs": [],
   "source": []
  },
  {
   "cell_type": "markdown",
   "metadata": {},
   "source": [
    "<div style=\"direction:rtl\">\n",
    "הדפס את השם שלך באנגלית 12 פעמים\n",
    "</div>"
   ]
  },
  {
   "cell_type": "code",
   "execution_count": null,
   "metadata": {
    "collapsed": true
   },
   "outputs": [],
   "source": []
  },
  {
   "cell_type": "markdown",
   "metadata": {},
   "source": [
    "<div style=\"direction:rtl\">\n",
    "חשב את החזקות השלישיות של המספרים 5 עד 10 והדפס כל אחת מהתוצאות\n",
    "</div>"
   ]
  },
  {
   "cell_type": "code",
   "execution_count": null,
   "metadata": {
    "collapsed": true
   },
   "outputs": [],
   "source": []
  },
  {
   "cell_type": "markdown",
   "metadata": {},
   "source": [
    "<div style=\"direction:rtl\">\n",
    "חשב את סכום החזקות השלישיות של המספרים 5 עד 10 והדפס את התוצאה הסופית\n",
    "</div>"
   ]
  },
  {
   "cell_type": "code",
   "execution_count": null,
   "metadata": {
    "collapsed": true
   },
   "outputs": [],
   "source": []
  },
  {
   "cell_type": "markdown",
   "metadata": {},
   "source": [
    "<div style=\"direction:rtl\">\n",
    "<h2>\n",
    "קידום לסימולציה פיסיקלית בצעדי זמן קטנים\n",
    "</h2>\n",
    "אחד השימושים הבולטים בלולאות בהקשר פיסיקלי הוא לביצוע מעקב אחרי ההתפתחות בזמן של מערכת נתונה.\n",
    "בשיטה זו, מוצבים ערכי התחלה למשתני הבעייה ואז מבוצעת לולאה המעדכנת את המשתנים בהתאם לכלל נתון.\n",
    "\n",
    "בדוגמה הבאה מחושב מיקומו של גוף המתחיל ממנוחה ונע בתאוצה קבועה במהלך 10 שניות.  \n",
    "\n",
    "הריצו את הקוד ולאחר מכן קראו את ההסבר למבנה הקוד.\n",
    "</div>\n",
    "\n"
   ]
  },
  {
   "cell_type": "code",
   "execution_count": null,
   "metadata": {
    "collapsed": false
   },
   "outputs": [],
   "source": [
    "a=10\n",
    "v=0\n",
    "x=0\n",
    "dt=0.1\n",
    "times=arange(0,10,dt)\n",
    "for t in times:\n",
    "    x=x+v*dt\n",
    "    v=v+a*dt\n",
    "\n",
    "print(x)\n",
    "print(v)"
   ]
  },
  {
   "cell_type": "markdown",
   "metadata": {
    "collapsed": true
   },
   "source": [
    "<div style=\"direction:rtl\">\n",
    "כפי שניתן לראות בקוד, ראשית מוזנים ערכים לתאוצה, למהירות ולמיקום בהתחלה.\n",
    "<br>\n",
    "a=10<br>\n",
    "v=0<br>\n",
    "x=0<br>\n",
    "<br>\n",
    "שימו לב שאין יחידות. המחשב אינו יודע שהמשתנים מייצגים גדלים פיזיקליים. עבורו אלו הם מספרים ופעולות מתמטיות. האחריות לזכור על אילו יחידות מדובר היא עלינו. \n",
    "בשתי השורות הבאות, מוגד משתנה times שמכיל ערכי זמן בקפיצות קטנות.\n",
    "גודל הקפיצות הקטנות שמור במשתנה dt.\n",
    "בשלב זה מבוצעת הלולאה שעוברת על כל אחד מהזמנים ב times.\n",
    "בכל זמן מבוצעות שתי פעולות\n",
    "עדכון המיקום לזמן החדש\n",
    "<br>\n",
    "    x=x+v*dt\n",
    "<br>\n",
    "ועדכון המהירות לזמן החדש\n",
    "<br>\n",
    "    v=v+a*dt\n",
    "<br>\n",
    "בקידום הערך הקודם של המיקום (מהירות) נדרס בכל זמן בלולאה ובמקומו מוזן ערך מעודכן. שימו לב שהמשוואה הראשונה אינה נכונה באופן מדויק עבור תנועה בתאוצה קבועה. מצד שני היא נכונה בקירוב טוב אם dt קטן מאוד. \n",
    "\n",
    "\n",
    "בדוגמא זו התאוצה נותרת קבועה וניתן להשתמש בנוסחאות של תנועה בתאוצה קבועה. .\n",
    "\n",
    "<br>\n",
    "בסיום קטע הקוד אנו מדפיסים את המיקום הסופי והמהירות הסופית של הגוף.\n",
    "<h4>\n",
    "משימה 2\n",
    "</h4>\n",
    "שנו את קפיצות הזמן לערכים dt=0.1, 0.5, 1\n",
    "וראו כיצד התוצאה משתנה.\n",
    "\n",
    "\n",
    "השוו בין תוצאות אלו לחישוב רגיל ע\"י שימוש בנוסחת תנועה בתאוצה קבועה. \n",
    "ע\"י ניסוי ותהייה מצאו מהו בקירוב צעד הזמן המקסימלי שעבורו ההפרש בין שתי שיטות החישוב קטן מ-0.01.\n",
    "\n",
    "</div>\n",
    "\n"
   ]
  },
  {
   "cell_type": "code",
   "execution_count": null,
   "metadata": {
    "collapsed": true
   },
   "outputs": [],
   "source": []
  }
 ],
 "metadata": {
  "kernelspec": {
   "display_name": "Python 3",
   "language": "python",
   "name": "python3"
  },
  "language_info": {
   "codemirror_mode": {
    "name": "ipython",
    "version": 3
   },
   "file_extension": ".py",
   "mimetype": "text/x-python",
   "name": "python",
   "nbconvert_exporter": "python",
   "pygments_lexer": "ipython3",
   "version": "3.5.1"
  }
 },
 "nbformat": 4,
 "nbformat_minor": 0
}
