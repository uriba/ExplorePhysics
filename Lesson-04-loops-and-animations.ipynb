{
 "cells": [
  {
   "cell_type": "markdown",
   "metadata": {
    "slideshow": {
     "slide_type": "slide"
    }
   },
   "source": [
    "<div style=\"direction:rtl\">\n",
    "<H1>\n",
    "השתלמות בחישובים נומריים למורי פיסיקה חקר\n",
    "</H1>\n",
    "<H3>\n",
    "יחידה 4, לולאות וקידום בזמן בצעדים קטנים\n",
    "</H3>\n",
    "ראשית נטען את ההרחבה pylab%\n",
    "(היות ולא ניתן להציג אנימציה בגוף המסמך, אנו מוותרים על האפשרות inline).\n",
    "</div>"
   ]
  },
  {
   "cell_type": "code",
   "execution_count": null,
   "metadata": {
    "collapsed": false,
    "scrolled": false
   },
   "outputs": [],
   "source": [
    "%pylab"
   ]
  },
  {
   "cell_type": "markdown",
   "metadata": {},
   "source": [
    "<div style=\"direction:rtl\">\n",
    "<h3>\n",
    "מספר השלמות לפני שמתחילים\n",
    "</h3>\n",
    "ראשית שני פרטים שימושיים לגבי הפקודה arange\n",
    "<br>\n",
    "אם אנו משמיטים את גודל הצעד בפקודה arange, הפקודה תיצור סדרה בקפיצות של 1.\n",
    "אם אנו משמיטים בנוסף את ערך ההתחלה בפקודה, היא תניח שערך ההתחלה הוא 0.\n",
    "קיראו את קטעי הקוד הבאים, שערו מה יהיה הפלט שלהם, הריצו ובידקו האם צדקתם.\n",
    "</div>"
   ]
  },
  {
   "cell_type": "code",
   "execution_count": null,
   "metadata": {
    "collapsed": true
   },
   "outputs": [],
   "source": [
    "arange(1,10,1)"
   ]
  },
  {
   "cell_type": "code",
   "execution_count": null,
   "metadata": {
    "collapsed": true
   },
   "outputs": [],
   "source": [
    "arange(1,10)"
   ]
  },
  {
   "cell_type": "code",
   "execution_count": null,
   "metadata": {
    "collapsed": false
   },
   "outputs": [],
   "source": [
    "arange(10)"
   ]
  },
  {
   "cell_type": "code",
   "execution_count": null,
   "metadata": {
    "collapsed": false
   },
   "outputs": [],
   "source": [
    "arange(-3)"
   ]
  },
  {
   "cell_type": "markdown",
   "metadata": {},
   "source": [
    "<div style=\"direction:rtl\">\n",
    "השלמה נוספת היא פקודת pause שאומרת למחשב לעצור לזמן קצוב לפני שהוא ממשיך.\n",
    "נסו את התא הבא. שימו לב שהמספרים שמזינים לפקודה מייצגים את כמות השניות שעל המחשב לחכות. נסו לשנות את המספר.\n",
    "</div>"
   ]
  },
  {
   "cell_type": "code",
   "execution_count": null,
   "metadata": {
    "collapsed": false
   },
   "outputs": [],
   "source": [
    "print('ready? start waiting')\n",
    "pause(3)\n",
    "print('done')\n"
   ]
  },
  {
   "cell_type": "markdown",
   "metadata": {},
   "source": [
    "<div style=\"direction:rtl\">\n",
    "שימו לב שבזמן ההמתנה הסימן \n",
    "[]In\n",
    "משמאל לתא מתחלף לסימן\n",
    "[*]In\n",
    ".\n",
    "סימן זה מציין שתא הקוד רץ כרגע.\n",
    "אם ברצונכם לעצור תא קוד באמצע ריצתו אתם יכולים להקליק על כפתור העצירה (ריבוע שחור) בתפריט .\n",
    "</div>"
   ]
  },
  {
   "cell_type": "markdown",
   "metadata": {},
   "source": [
    "<div style=\"direction:rtl\">\n",
    "<H2>\n",
    "כעת נתחיל: \n",
    "לולאות\n",
    "</H2>\n",
    "\n",
    "לפעמים בביצוע חישוב, אנו מעוניינים לחזור על קטע קוד מסוים מספר פעמים.\n",
    "דרך פשוטה לעשות זאת היא באמצעות לולאות\n",
    "(loops).\n",
    "<br>\n",
    "הקוד בתא הבא גורם להדפסה של כל המספרים מ-0 עד 9. הריצו אותו, צפו בפלט ולאחר מכן קראו את ההסבר לדרך בה הוא עובד.\n",
    "\n",
    "</div>"
   ]
  },
  {
   "cell_type": "code",
   "execution_count": null,
   "metadata": {
    "collapsed": false
   },
   "outputs": [],
   "source": [
    "x=arange(10)\n",
    "for i in x:\n",
    "    print(i)"
   ]
  },
  {
   "cell_type": "markdown",
   "metadata": {},
   "source": [
    "<div style=\"direction:rtl\">\n",
    "בקוד שהרצנו שלוש שורות.\n",
    "השורה הראשונה יוצרת משתנה (שם המשתנה נבחר שרירותית כ-x) שמכיל את סדרת המספרים שאנו רוצים להדפיס. \n",
    "שתי השורות הבאות ביחד מבצעות \"לולאה\" בה המחשב חוזר שוב ושוב על פעולה דומה שמבוצעת על כל אחד מהערכים שב x.\n",
    "אם המחשב היה מבין אנגלית היינו יכולים לאמר לו:\n",
    "<br>\n",
    "For each element in x, take the element and print it.\n",
    "<br>\n",
    "כמובן שהמחשב לא מבין אנגלית וצריך פקודות סדורות.\n",
    "לכן, במקום: \n",
    "<br>\n",
    "For each element in x\n",
    "<br>\n",
    "אנו רושמים:\n",
    "<br>\n",
    ":for i in x\n",
    "<br>\n",
    "זו הדרך לאמר למחשב: \"תעבור על כל אחד מהערכים בx, הצב אותו למשתנה בשם i, ותבצע את הפקודות הבאות\".\n",
    "כעת עלינו להורות למחשב מה לעשות בכל פעם. זאת אנו עושים עם פקודות נוספות.\n",
    "בכדי שהמחשב יקשר בין הפקודות הנוספות ללולאה ולא יחשוב שאלו סתם פקודות חדשות, השורה הבאה, \n",
    "(print\n",
    "(i\n",
    ",\n",
    "מוזזת ימינה. \n",
    "<br>\n",
    "הדוגמאות הבאות יעזרו להבין את המבנה של הקוד. בכל אחת מהן נסו לנחש מה יקרה (כולל אפשרות של הודעת שגיאה), הריצו את הקוד וראו אם צדקתם.\n",
    "</div>\n"
   ]
  },
  {
   "cell_type": "code",
   "execution_count": null,
   "metadata": {
    "collapsed": false
   },
   "outputs": [],
   "source": [
    "x=arange(10)\n",
    "for i in x:\n",
    "    print(i)\n",
    "    print(i)"
   ]
  },
  {
   "cell_type": "code",
   "execution_count": null,
   "metadata": {
    "collapsed": false
   },
   "outputs": [],
   "source": [
    "x=arange(10)\n",
    "for i in x:\n",
    "    print(i)\n",
    "    print(\"i\")\n",
    "    "
   ]
  },
  {
   "cell_type": "code",
   "execution_count": null,
   "metadata": {
    "collapsed": false
   },
   "outputs": [],
   "source": [
    "x=arange(10)\n",
    "for i in x:\n",
    "    print(i)\n",
    "print(\"i\")"
   ]
  },
  {
   "cell_type": "code",
   "execution_count": null,
   "metadata": {
    "collapsed": false
   },
   "outputs": [],
   "source": [
    "x=arange(10)\n",
    "for i in x:\n",
    "print(i)\n",
    "print(\"i\")"
   ]
  },
  {
   "cell_type": "code",
   "execution_count": null,
   "metadata": {
    "collapsed": false
   },
   "outputs": [],
   "source": [
    "yosef=arange(10)\n",
    "for shimon in yosef:\n",
    "    print(shimon)\n"
   ]
  },
  {
   "cell_type": "code",
   "execution_count": null,
   "metadata": {
    "collapsed": false
   },
   "outputs": [],
   "source": [
    "x=arange(-1,5,0.5)\n",
    "for i in x:\n",
    "    print(i)"
   ]
  },
  {
   "cell_type": "code",
   "execution_count": null,
   "metadata": {
    "collapsed": false
   },
   "outputs": [],
   "source": [
    "for i in arange(10):\n",
    "    isquare=i**2\n",
    "    print(i,isquare)"
   ]
  },
  {
   "cell_type": "code",
   "execution_count": null,
   "metadata": {
    "collapsed": false
   },
   "outputs": [],
   "source": [
    "for i in arange(10):\n",
    "    print(i,i**2)"
   ]
  },
  {
   "cell_type": "markdown",
   "metadata": {},
   "source": [
    "<div style=\"direction:rtl\">\n",
    "בתא הבא אין לולאה אך יש שימוש מעניין במשתנים שנצטרך בלולאות רבות. נסו לנחש מה יקרה ותריצו.\n",
    "</div>"
   ]
  },
  {
   "cell_type": "code",
   "execution_count": null,
   "metadata": {
    "collapsed": true
   },
   "outputs": [],
   "source": [
    "x=3\n",
    "print(x)\n",
    "x=x+1\n",
    "print(x)\n",
    "x=x+1\n",
    "print(x)"
   ]
  },
  {
   "cell_type": "markdown",
   "metadata": {},
   "source": [
    "<div style=\"direction:rtl\">\n",
    "השורה \n",
    "$$x=x+1$$\n",
    "נראית לא הגיונית למי שמכיר את הסימן = במתמטיקה.\n",
    "איך יכול להיות שמספר יהיה גדול מעצמו ב-1?\n",
    "כמובן שזו לא הדרך בה המחשב מבין זאת.\n",
    "עבור המחשב משמעות הסימן '=' היא השמה, לא השוואה.\n",
    "לכן, המחשב מתייחס קודם לאגף הימני בו מופיע הביטוי\n",
    "$$x+1$$\n",
    "הוא משתמש בערך הידוע מקודם של x ,מחשב ומקבל מספר הגדול מ-x. כעת הוא מתייחס לסימן ה= ולכן מזין את התוצאה למשתנה שבאגף שמאל של המשוואה כלומר, x.\n",
    "הערך הקודם של x נדרס ובמקומו מוזן הערך החדש שבמקרה זה גדול ב-1 מהערך הקודם.\n",
    "בתא הבא יש שימוש של טריק זה בלולאה. נסו לנחש מה יקרה והריצו.\n",
    "</div>"
   ]
  },
  {
   "cell_type": "code",
   "execution_count": null,
   "metadata": {
    "collapsed": true
   },
   "outputs": [],
   "source": [
    "x=5\n",
    "for i in arange(10)\n",
    "    x=x+1\n",
    "print(x)"
   ]
  },
  {
   "cell_type": "markdown",
   "metadata": {},
   "source": [
    "<div style=\"direction:rtl\">\n",
    "כעת נראה דוגמאות קצת יותר מעניינות.\n",
    "</div>"
   ]
  },
  {
   "cell_type": "code",
   "execution_count": null,
   "metadata": {
    "collapsed": false
   },
   "outputs": [],
   "source": [
    "sumsofar=0\n",
    "for i in arange(10):\n",
    "    sumsofar=sumsofar+i\n",
    "    print(i,sumsofar)"
   ]
  },
  {
   "cell_type": "code",
   "execution_count": null,
   "metadata": {
    "collapsed": false
   },
   "outputs": [],
   "source": [
    "multsofar=1\n",
    "for i in arange(1,10):\n",
    "    multsofar=multsofar*i\n",
    "    print(i,multsofar)\n",
    "print(\"9!=\",multsofar)"
   ]
  },
  {
   "cell_type": "code",
   "execution_count": null,
   "metadata": {
    "collapsed": false
   },
   "outputs": [],
   "source": [
    "n=12\n",
    "multsofar=1\n",
    "for i in arange(1,n+1):\n",
    "    multsofar=multsofar*i\n",
    "print(\"n=\",n)\n",
    "print(\"n!=\",multsofar)"
   ]
  },
  {
   "cell_type": "markdown",
   "metadata": {
    "slideshow": {
     "slide_type": "slide"
    }
   },
   "source": [
    "<div style=\"direction:rtl\">\n",
    "<h4>\n",
    "משימה 1: כתבו קוד שיבצע את הפעולות הבאות\n",
    "</h4>\n",
    "\n",
    "</div>"
   ]
  },
  {
   "cell_type": "markdown",
   "metadata": {},
   "source": [
    "<div style=\"direction:rtl\">\n",
    "הדפס את כל המספרים מ1 עד 15\n",
    "</div>"
   ]
  },
  {
   "cell_type": "code",
   "execution_count": null,
   "metadata": {
    "collapsed": true
   },
   "outputs": [],
   "source": []
  },
  {
   "cell_type": "markdown",
   "metadata": {},
   "source": [
    "<div style=\"direction:rtl\">\n",
    "הדפס את השם שלך באנגלית 12 פעמים\n",
    "</div>"
   ]
  },
  {
   "cell_type": "code",
   "execution_count": null,
   "metadata": {
    "collapsed": true
   },
   "outputs": [],
   "source": []
  },
  {
   "cell_type": "markdown",
   "metadata": {},
   "source": [
    "<div style=\"direction:rtl\">\n",
    "חשב את החזקות השלישיות של המספרים 5 עד 10 והדפס כל אחת מהתוצאות\n",
    "</div>"
   ]
  },
  {
   "cell_type": "code",
   "execution_count": null,
   "metadata": {
    "collapsed": true
   },
   "outputs": [],
   "source": []
  },
  {
   "cell_type": "markdown",
   "metadata": {},
   "source": [
    "<div style=\"direction:rtl\">\n",
    "חשב את סכום החזקות השלישיות של המספרים 5 עד 10 והדפס את התוצאה הסופית\n",
    "</div>"
   ]
  },
  {
   "cell_type": "code",
   "execution_count": null,
   "metadata": {
    "collapsed": true
   },
   "outputs": [],
   "source": []
  },
  {
   "cell_type": "markdown",
   "metadata": {},
   "source": [
    "<div style=\"direction:rtl\">\n",
    "<h2>\n",
    "שימוש בלולאות ליצירת אנימציה\n",
    "</h2>\n",
    "\n",
    "ניתן לשלב את הכלים שלמדנו עד כה על מנת להציג אנימציה של תופעות פיסיקליות.\n",
    "בהצגת אנימציה עלינו לעדכן את המיקום של אובייקט ככל שמתקדם הזמן.\n",
    "\n",
    "<h3>\n",
    "אנימציה של נקודה בודדת\n",
    "</h3>\n",
    "קיראו את קטע הקוד הבא, הריצו אותו (שימו לב שעליכם לעבור לחלון בו מוצג הגרף על מנת לראות את האנימציה!) צפו בתוצאה ואז קיראו את ההסבר.\n",
    "שימו לב שבזמן ריצת האנימציה מופיעה כוכבית בשורה []In.\n",
    "סימון זה מציין כי הקוד רץ.\n",
    "על מנת לעצור את הקוד (והאנימציה) לפני סופם סיגרו את החלון בו רצה האנימציה או הקליקו על כפתור העצירה (מסומן כריבוע שחור) בתפריט.\n",
    "</div>"
   ]
  },
  {
   "cell_type": "code",
   "execution_count": null,
   "metadata": {
    "collapsed": false
   },
   "outputs": [],
   "source": [
    "objects=plot(0,0,'.')\n",
    "dot=objects[0]\n",
    "\n",
    "xlim(0,30)\n",
    "ylim(0,30)\n",
    "\n",
    "for i in arange(30):\n",
    "    dot.set_data(i,i)\n",
    "    pause(0.1)"
   ]
  },
  {
   "cell_type": "markdown",
   "metadata": {},
   "source": [
    "<div style=\"direction:rtl\">\n",
    "בקטע קוד זה אנו מעוניינים ליצור אנימציה של נקודה.\n",
    "ראשית אנו מציירים את הנקודה במקום ההתחלתי, (0,0).\n",
    "הפקודה plot מחזירה לנו רשימה של כל האובייקטים ששורטטו בקריאה זו \n",
    "(בשיעורים הקודמים התעלמנו מהערך שהפקודה החזירה).\n",
    "היות ושרטטנו רק אובייקט אחד, רשימה זו תכיל רק איבר אחד, במקום 0.\n",
    "נציב איבר זה, המייצג את הנקודה ששורטטה, למשתנה בשם dot.\n",
    "<br>\n",
    "אנו מגדירים את גבולות השירטוט כך שיכילו את כל המקומות בהם תופיע הנקודה.\n",
    "אם לא נעשה זאת, גבולות הצירים יותאמו למיקום ההתחלתי של הנקודה.\n",
    "במקרה זה, כאשר נשנה את מיקום הנקודה, היא עשויה לצאת מחוץ לגבולות השרטוט ולא נראה אותה.\n",
    "<br>\n",
    "כעת אנו מבצעים לולאה על גבי כל המספרים בין 0 ל-30.\n",
    "בכל צעד של הלולאה, אנו מעדכנים את מיקום הנקודה באמצעות הפקודה set_data.\n",
    "היות ומדובר בנקודה, עלינו לספק את מיקומה בציר ה-x ובציר ה-y.\n",
    "אנו בוחרים שמיקום הנקודה בשני הצירים יהיה i.\n",
    "\n",
    "שימו לב לפקודה pause שמעכבת את העדכונים ומכריחה את פייטון לצייר את הגרף המעודכן.\n",
    "נסו לשנות את המספר שבתוך הpause, ונסו להוריד אותה בכלל.\n",
    " \n",
    "ככל שפרק הזמן שנציין יהיה ארוך יותר, האנימציה תבוצע בקצב איטי יותר.\n",
    "מצד שני, גם אם נקטין את הזמן למספרים מאוד קטנים, עדיין יקח זמן לא זניח לאנימציה לרוץ.\n",
    "הסיבה היא שהצגת הגרף היא פעולה איטית. \n",
    "</div> \n"
   ]
  },
  {
   "cell_type": "markdown",
   "metadata": {},
   "source": [
    "<div style=\"direction:rtl\">\n",
    "<h4>\n",
    "משימה 2\n",
    "</h4>\n",
    "עדכנו את הקוד שהנקודה תזוז בציר הy פי שניים יותר מהר מעל ציר הx.  \n",
    "</div>"
   ]
  },
  {
   "cell_type": "markdown",
   "metadata": {},
   "source": [
    "<div style=\"direction:rtl\">\n",
    "<h4>\n",
    "משימה 3\n",
    "</h4>\n",
    "עדכנו את קטע הקוד הבא (הזהה לקטע הקוד הקודם) כך שהנקודה תנוע לאורך הפרבולה:\n",
    "$$ y=\\frac{-x^2+1000x}{1000} $$\n",
    "</div>"
   ]
  },
  {
   "cell_type": "code",
   "execution_count": null,
   "metadata": {
    "collapsed": false
   },
   "outputs": [],
   "source": [
    "objects=plot(0,0,'.')\n",
    "dot=objects[0]\n",
    "\n",
    "xlim(0,1000)\n",
    "ylim(0,1000)\n",
    "\n",
    "for i in arange(1000):\n",
    "    dot.set_data(i,i)\n",
    "    pause(0.001)"
   ]
  },
  {
   "cell_type": "markdown",
   "metadata": {},
   "source": [
    "<div style=\"direction:rtl\">\n",
    "<h3>\n",
    "אנימציה של קו\n",
    "</h3>\n",
    "בדוגמאות שראינו עד כה, הגדרנו תנועה עבור נקודה בודדת.\n",
    "אם נשתמש בפונקציה plot לשרטוט קו, הרי שהערך שיחזור ממנה יהיה קו, ולא נקודה.\n",
    "במקרה כזה, נוכל לעדכן את צורתו של כל הקו על ידי עדכון ערכי ה-x וה-y של הנקודות המגדירות אותו.\n",
    "קיראו את קטע הקוד הבא, שערו כיצד תראה האנימציה שהוא יוצר, הריצו ובידקו האם האנימציה תואמת את ציפיותיכם.\n",
    "</div>"
   ]
  },
  {
   "cell_type": "code",
   "execution_count": 27,
   "metadata": {
    "collapsed": false,
    "scrolled": true
   },
   "outputs": [],
   "source": [
    "xs=arange(0,10,0.1)\n",
    "ys=sin(xs)\n",
    "\n",
    "objects=plot(xs,ys)\n",
    "line=objects[0]\n",
    "\n",
    "for phase in arange(0,10,0.05):\n",
    "    line.set_data(xs,sin(xs+phase))\n",
    "    pause(0.001)"
   ]
  },
  {
   "cell_type": "markdown",
   "metadata": {
    "collapsed": true
   },
   "source": [
    "<div style=\"direction:rtl\">\n",
    "<h4>\n",
    "משימה 4\n",
    "</h4>\n",
    "עדכנו את קטע הקוד כך שבמקום שהאנימציה תשנה את הפאזה, היא תשנה את המשרעת של הפונקציה בטווח 0 עד 10.\n",
    "צפו באנימציה. כיצד עליכם לשנות את קטע הקוד כך שניתן יהיה לראות את הפונקציה במלואה גם כאשר המשרעת גדולה מ-1 ?\n",
    "</div>"
   ]
  },
  {
   "cell_type": "markdown",
   "metadata": {
    "collapsed": true
   },
   "source": [
    "<div style=\"direction:rtl\">\n",
    "<h3>\n",
    "שילוב בין אנימציה לשרטוט סטטי\n",
    "</h3>\n",
    "פעמים רבות אנו מעוניינים להניע חלק מהגורמים בגרף, אך להשאיר גורמים אחרים קבועים.\n",
    "זוהי פעולה פשוטה.\n",
    "\n",
    "ראשית נשרטט את כל הגורמים שברצוננו שיהיו קבועים על גבי השרטוט, ולאחר מכן נשרטט את הגורמים שברצוננו לשנות.\n",
    "\n",
    "כאשר נשנה את הנתונים של הגורמים שברצוננו להניע באמצעות set_data ונקרא לפקודה pause על מנת לרענן את התצוגה, הגורמים הקבועים יישארו משורטטים במקומם הקודם.\n",
    "<br>\n",
    "קיראו את קטע הקוד הבא, שערו כיצד תראה התצוגה, הריצו אותו וצפו בתוצאה.\n",
    "</div>"
   ]
  },
  {
   "cell_type": "code",
   "execution_count": 28,
   "metadata": {
    "collapsed": false
   },
   "outputs": [],
   "source": [
    "angles=arange(0,15,0.01)\n",
    "\n",
    "xs=cos(angles)\n",
    "ys=sin(angles)\n",
    "plot(xs,ys,'r')\n",
    "\n",
    "objects=plot(xs[0],ys[0],'bo')\n",
    "dot=objects[0]\n",
    "\n",
    "for a in angles:\n",
    "    dot.set_data(cos(a),sin(a))\n",
    "    pause(0.001)"
   ]
  },
  {
   "cell_type": "markdown",
   "metadata": {
    "collapsed": true
   },
   "source": [
    "<div style=\"direction:rtl\">\n",
    "<h4>\n",
    "משימה 5\n",
    "</h4>\n",
    "גוף נזרק על פני כדור הארץ במהירות התחלתית של 1 מטר לשניה בכיוון האופקי ו-2 מטר לשנייה בכיוון האנכי.\n",
    "שרטטו את מסלול התעופה של הגוף במהלך השנייה הראשונה לתנועתו בקו מקווקו בצבע ירוק.\n",
    "צרו אנימציה של תנועת הגוף לאורך המסלול כאשר הגוף מסומן כנקודה שחורה. \n",
    "</div>"
   ]
  },
  {
   "cell_type": "code",
   "execution_count": null,
   "metadata": {
    "collapsed": true
   },
   "outputs": [],
   "source": []
  },
  {
   "cell_type": "markdown",
   "metadata": {
    "collapsed": true
   },
   "source": [
    "<div style=\"direction:rtl\">\n",
    "שימרו את המסמך המעודכן על ידי הקשה על צלמית הדיסקט  מצד שמאל למעלה, או שימוש בקיצור המקלדת ctrl+s.\n",
    "</div>"
   ]
  },
  {
   "cell_type": "markdown",
   "metadata": {},
   "source": [
    "<div style=\"direction:rtl\">\n",
    "<h3>\n",
    "סיכום היחידה:\n",
    "</h3>\n",
    "<ul>\n",
    "<li>\n",
    "ניתן לבצע קבוצת פקודות מספר רב של פעמים על ידי שימוש בלולאות.\n",
    "</li>\n",
    "<li>\n",
    "הלולאה הבסיסית ביותר בשפת פייתון היא לולאת for.\n",
    "לולאה זו מקבלת סדרה ושם של משתנה.\n",
    "עבור כל ערך בסדרה, היא מציבה אותו למשתנה ואז מבצעת את סדרת הפקודות שמופיעות מיד לאחר פקודת ה-for ומוזזות מעט ימינה.\n",
    "לדוגמא, אם x היא סדרת מספרים אז הלולאה הבאה תדפיס את אברי הסדרה אחד לאחר השני:\n",
    "</li>\n",
    "</ul>\n",
    "</div>\n",
    "\n",
    "    for i in x:\n",
    "        print(i)\n",
    "\n",
    "<div style=\"direction:rtl\">\n",
    "<ul>\n",
    "<li>\n",
    "פקודת plot מחזירה את רשימת האובייקטים ששורטטו על ידה.\n",
    "</li>\n",
    "<li>\n",
    "ניתן לעדכן את נתוני האובייקטים על ידי שימוש בפונקציה set_data\n",
    "</li>\n",
    "<li>\n",
    "על מנת לעדכן את תצוגת הגרף יש לקרוא לפונקציה pause.\n",
    "</li>\n",
    "<li>\n",
    "ניתן ליצור אנימציה על ידי חזרה על הפקודות set_data ו-pause בתוך לולאה.\n",
    "</li>\n",
    "<li>\n",
    "הפקודה pause מקבלת משתנה המציין כמה שניות ימתין המחשב לאחר עדכון התצוגה.\n",
    "לכן, אם נשתמש בערך גדול, התנועה תהיה איטית. אם נשתמש בערך קטן, התנועה תהיה מהירה.\n",
    "</li>\n",
    "<li>\n",
    "כאשר התצוגה מתעדכנת, אובייקטים שמיקומם לא השתנה נותרים כשהיו.\n",
    "</li>\n",
    "<li>\n",
    "במהלך ריצת האנימציה, תא הקוד פועל ללא הפסקה.\n",
    "על מנת לעצור את פעולת תא הקוד ולאפשר המשך עבודה לפני תום האנימציה יש צורך להקיש על כפתור העצירה המרובע הנמצא בתפריט או לסגור את חלון תצוגת האנימציה.\n",
    "</li>\n",
    "</ul>\n",
    "</div>"
   ]
  },
  {
   "cell_type": "markdown",
   "metadata": {},
   "source": [
    "<div style=\"direction:rtl\">\n",
    "<h3>\n",
    "שגיאות נפוצות והודעות השגיאה שהן גורמות\n",
    "</h3>\n",
    "כל אחד מהתאים הבאים מכיל שגיאה. הריצו כל תא וצפו בפלט המתקבל עבור שגיאה זו.\n",
    "</div>"
   ]
  },
  {
   "cell_type": "markdown",
   "metadata": {},
   "source": [
    "<div style=\"direction:rtl\">\n",
    "ביצוע לולאה ללא הזזת שורת התוכן של הלולאה\n",
    "</div>"
   ]
  },
  {
   "cell_type": "code",
   "execution_count": null,
   "metadata": {
    "collapsed": false
   },
   "outputs": [],
   "source": [
    "x=arange(0,10,1)\n",
    "for i in x:\n",
    "print(i)"
   ]
  },
  {
   "cell_type": "markdown",
   "metadata": {},
   "source": [
    "<div style=\"direction:rtl\">\n",
    "הזזת שורה בקוד שלא במסגרת לולאה\n",
    "</div>"
   ]
  },
  {
   "cell_type": "code",
   "execution_count": null,
   "metadata": {
    "collapsed": false
   },
   "outputs": [],
   "source": [
    "x=5\n",
    "    print(x)"
   ]
  },
  {
   "cell_type": "markdown",
   "metadata": {},
   "source": [
    "<div style=\"direction:rtl\">\n",
    "נסיון להריץ לולאה על משתנה שאינו סדרה\n",
    "</div>"
   ]
  },
  {
   "cell_type": "code",
   "execution_count": null,
   "metadata": {
    "collapsed": false
   },
   "outputs": [],
   "source": [
    "x=5\n",
    "for i in x:\n",
    "    print(i)"
   ]
  },
  {
   "cell_type": "markdown",
   "metadata": {},
   "source": [
    "<div style=\"direction:rtl\">\n",
    "<h4>\n",
    "מזל טוב! סיימתם יחידה זו.\n",
    "</h4>\n",
    "</div>"
   ]
  }
 ],
 "metadata": {
  "kernelspec": {
   "display_name": "Python 3",
   "language": "python",
   "name": "python3"
  },
  "language_info": {
   "codemirror_mode": {
    "name": "ipython",
    "version": 3
   },
   "file_extension": ".py",
   "mimetype": "text/x-python",
   "name": "python",
   "nbconvert_exporter": "python",
   "pygments_lexer": "ipython3",
   "version": "3.5.1"
  }
 },
 "nbformat": 4,
 "nbformat_minor": 0
}
